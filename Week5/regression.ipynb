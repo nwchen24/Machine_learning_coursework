{
 "cells": [
  {
   "cell_type": "code",
   "execution_count": 23,
   "metadata": {
    "collapsed": true
   },
   "outputs": [],
   "source": [
    "%matplotlib inline\n",
    "import matplotlib.pyplot as plt\n",
    "import numpy as np\n",
    "import pandas as pd"
   ]
  },
  {
   "cell_type": "markdown",
   "metadata": {},
   "source": [
    "# Linear and Logistic Regression\n",
    "\n",
    "- Regression is a technique for supervised learning that is based on strong statistical assumptions about the underlying data. Linear and logistic regression are just two different assumptions on the data\n",
    "- Regression can be used when the assumptions are not met, but then it needs to be graded based on _performance on the test data_. P-values, F-scores, etc.. depend on the assumptions being true."
   ]
  },
  {
   "cell_type": "markdown",
   "metadata": {},
   "source": [
    "## Linear Regression"
   ]
  },
  {
   "cell_type": "markdown",
   "metadata": {},
   "source": [
    "Let $y \\in \\mathbb{R}$ be a random variable (the target) and $X = x_1, \\ldots, x_p$ be a set of _independent_ variables (the predictors). Then\n",
    "$$\n",
    "y \\sim \\cal{N}(\\mu, \\sigma)\n",
    "$$\n",
    "where \n",
    "$$\n",
    "\\mu = \\mu(X) = w_0 + w_1 x_1 + w_2 x_2 + \\cdots + w_p x_p\n",
    "$$"
   ]
  },
  {
   "cell_type": "markdown",
   "metadata": {},
   "source": [
    "### Linear Regression Test Data\n",
    "\n",
    "Let's generate some sample data that matches the assumptions exactly.\n",
    "\n",
    "1. Set p = 3\n",
    "2. Choose a formula for $\\mu(X)$\n",
    "$$\n",
    "\\mu(X) = 5 - 9 x_1 + 3 x_2 + 2 x_3\n",
    "$$"
   ]
  },
  {
   "cell_type": "markdown",
   "metadata": {},
   "source": [
    "Features"
   ]
  },
  {
   "cell_type": "code",
   "execution_count": 3,
   "metadata": {
    "collapsed": false
   },
   "outputs": [],
   "source": [
    "X = pd.DataFrame(np.random.rand(100, 3))"
   ]
  },
  {
   "cell_type": "code",
   "execution_count": 4,
   "metadata": {
    "collapsed": false
   },
   "outputs": [
    {
     "data": {
      "text/html": [
       "<div>\n",
       "<table border=\"1\" class=\"dataframe\">\n",
       "  <thead>\n",
       "    <tr style=\"text-align: right;\">\n",
       "      <th></th>\n",
       "      <th>0</th>\n",
       "      <th>1</th>\n",
       "      <th>2</th>\n",
       "    </tr>\n",
       "  </thead>\n",
       "  <tbody>\n",
       "    <tr>\n",
       "      <th>0</th>\n",
       "      <td>0.299864</td>\n",
       "      <td>0.452976</td>\n",
       "      <td>0.775562</td>\n",
       "    </tr>\n",
       "    <tr>\n",
       "      <th>1</th>\n",
       "      <td>0.178775</td>\n",
       "      <td>0.554150</td>\n",
       "      <td>0.179959</td>\n",
       "    </tr>\n",
       "    <tr>\n",
       "      <th>2</th>\n",
       "      <td>0.386781</td>\n",
       "      <td>0.322026</td>\n",
       "      <td>0.319072</td>\n",
       "    </tr>\n",
       "    <tr>\n",
       "      <th>3</th>\n",
       "      <td>0.900669</td>\n",
       "      <td>0.070920</td>\n",
       "      <td>0.672951</td>\n",
       "    </tr>\n",
       "    <tr>\n",
       "      <th>4</th>\n",
       "      <td>0.721173</td>\n",
       "      <td>0.268577</td>\n",
       "      <td>0.798656</td>\n",
       "    </tr>\n",
       "  </tbody>\n",
       "</table>\n",
       "</div>"
      ],
      "text/plain": [
       "          0         1         2\n",
       "0  0.299864  0.452976  0.775562\n",
       "1  0.178775  0.554150  0.179959\n",
       "2  0.386781  0.322026  0.319072\n",
       "3  0.900669  0.070920  0.672951\n",
       "4  0.721173  0.268577  0.798656"
      ]
     },
     "execution_count": 4,
     "metadata": {},
     "output_type": "execute_result"
    }
   ],
   "source": [
    "X.head()"
   ]
  },
  {
   "cell_type": "markdown",
   "metadata": {},
   "source": [
    "The target is a linear function of the features, plus some gaussian noise."
   ]
  },
  {
   "cell_type": "code",
   "execution_count": 12,
   "metadata": {
    "collapsed": false
   },
   "outputs": [
    {
     "data": {
      "text/plain": [
       "2.8890130302210597"
      ]
     },
     "execution_count": 12,
     "metadata": {},
     "output_type": "execute_result"
    }
   ],
   "source": [
    "np.random.normal(1, 1)"
   ]
  },
  {
   "cell_type": "code",
   "execution_count": 25,
   "metadata": {
    "collapsed": false
   },
   "outputs": [],
   "source": [
    "sigma = .1\n",
    "def make_target(row, sigma):\n",
    "    x, y, z = row[0], row[1], row[2]\n",
    "    mu = 5 - 9*x + 3*y + 2*z\n",
    "    return np.random.normal(mu, sigma)\n",
    "X['target'] = X.apply(lambda row: make_target(row, sigma), axis=1)"
   ]
  },
  {
   "cell_type": "code",
   "execution_count": 26,
   "metadata": {
    "collapsed": false
   },
   "outputs": [
    {
     "data": {
      "text/html": [
       "<div>\n",
       "<table border=\"1\" class=\"dataframe\">\n",
       "  <thead>\n",
       "    <tr style=\"text-align: right;\">\n",
       "      <th></th>\n",
       "      <th>0</th>\n",
       "      <th>1</th>\n",
       "      <th>2</th>\n",
       "      <th>target</th>\n",
       "    </tr>\n",
       "  </thead>\n",
       "  <tbody>\n",
       "    <tr>\n",
       "      <th>0</th>\n",
       "      <td>0.299864</td>\n",
       "      <td>0.452976</td>\n",
       "      <td>0.775562</td>\n",
       "      <td>5.113813</td>\n",
       "    </tr>\n",
       "    <tr>\n",
       "      <th>1</th>\n",
       "      <td>0.178775</td>\n",
       "      <td>0.554150</td>\n",
       "      <td>0.179959</td>\n",
       "      <td>5.295962</td>\n",
       "    </tr>\n",
       "    <tr>\n",
       "      <th>2</th>\n",
       "      <td>0.386781</td>\n",
       "      <td>0.322026</td>\n",
       "      <td>0.319072</td>\n",
       "      <td>3.306948</td>\n",
       "    </tr>\n",
       "    <tr>\n",
       "      <th>3</th>\n",
       "      <td>0.900669</td>\n",
       "      <td>0.070920</td>\n",
       "      <td>0.672951</td>\n",
       "      <td>-1.612139</td>\n",
       "    </tr>\n",
       "    <tr>\n",
       "      <th>4</th>\n",
       "      <td>0.721173</td>\n",
       "      <td>0.268577</td>\n",
       "      <td>0.798656</td>\n",
       "      <td>0.718802</td>\n",
       "    </tr>\n",
       "  </tbody>\n",
       "</table>\n",
       "</div>"
      ],
      "text/plain": [
       "          0         1         2    target\n",
       "0  0.299864  0.452976  0.775562  5.113813\n",
       "1  0.178775  0.554150  0.179959  5.295962\n",
       "2  0.386781  0.322026  0.319072  3.306948\n",
       "3  0.900669  0.070920  0.672951 -1.612139\n",
       "4  0.721173  0.268577  0.798656  0.718802"
      ]
     },
     "execution_count": 26,
     "metadata": {},
     "output_type": "execute_result"
    }
   ],
   "source": [
    "X.head()"
   ]
  },
  {
   "cell_type": "markdown",
   "metadata": {},
   "source": [
    "### Recover the formula using linear regression"
   ]
  },
  {
   "cell_type": "code",
   "execution_count": 27,
   "metadata": {
    "collapsed": false
   },
   "outputs": [
    {
     "data": {
      "text/plain": [
       "LinearRegression(copy_X=True, fit_intercept=True, n_jobs=1, normalize=False)"
      ]
     },
     "execution_count": 27,
     "metadata": {},
     "output_type": "execute_result"
    }
   ],
   "source": [
    "from sklearn.linear_model import LinearRegression\n",
    "\n",
    "linreg = LinearRegression()\n",
    "linreg.fit(X.iloc[:,:-1], X['target'])\n"
   ]
  },
  {
   "cell_type": "code",
   "execution_count": 28,
   "metadata": {
    "collapsed": false
   },
   "outputs": [
    {
     "data": {
      "text/plain": [
       "4.9590781669428692"
      ]
     },
     "execution_count": 28,
     "metadata": {},
     "output_type": "execute_result"
    }
   ],
   "source": [
    "linreg.intercept_"
   ]
  },
  {
   "cell_type": "code",
   "execution_count": 29,
   "metadata": {
    "collapsed": false
   },
   "outputs": [
    {
     "data": {
      "text/plain": [
       "array([-8.9722653 ,  3.00459474,  1.99699937])"
      ]
     },
     "execution_count": 29,
     "metadata": {},
     "output_type": "execute_result"
    }
   ],
   "source": [
    "linreg.coef_"
   ]
  },
  {
   "cell_type": "code",
   "execution_count": 30,
   "metadata": {
    "collapsed": false
   },
   "outputs": [
    {
     "data": {
      "text/plain": [
       "[<matplotlib.lines.Line2D at 0x115490b90>]"
      ]
     },
     "execution_count": 30,
     "metadata": {},
     "output_type": "execute_result"
    },
    {
     "data": {
      "image/png": "[encoded data removed]",
      "text/plain": [
       "<matplotlib.figure.Figure at 0x110fe6d10>"
      ]
     },
     "metadata": {},
     "output_type": "display_data"
    }
   ],
   "source": [
    "# Plot predicted vs actual\n",
    "pred = linreg.predict(X.iloc[:, :-1])\n",
    "plt.plot(pred, X['target'], '.')"
   ]
  },
  {
   "cell_type": "markdown",
   "metadata": {},
   "source": [
    "## Logistic Regression"
   ]
  },
  {
   "cell_type": "markdown",
   "metadata": {},
   "source": [
    "Let $y \\in \\{0, 1\\}$ be a random variable (the target) and $X = x_1, \\ldots, x_n$ be a set of _independent_ variables (the predictors). Then\n",
    "$$\n",
    "y \\sim \\cal{Ber}(p)\n",
    "$$\n",
    "where\n",
    "$$\n",
    "p = p(X) = f(w_0 + w_1 x_1 + w_2 x_2 + \\cdots + w_n x_n)\n",
    "$$\n",
    "and $f$ is the _logistic function_\n",
    "$$\n",
    "f(t) = \\frac{1}{1 + e^{-t}}\n",
    "$$"
   ]
  },
  {
   "cell_type": "markdown",
   "metadata": {},
   "source": [
    "### Logistic Regression Test Data\n",
    "\n",
    "Let's generate some sample data that matches the assumptions exactly.\n",
    "\n",
    "1. Set n = 3\n",
    "2. Choose a formula for $p(X)$\n",
    "$$\n",
    "p(X) = f(5 - 9 x_1 + 3 x_2 + 2 x_3)\n",
    "$$"
   ]
  },
  {
   "cell_type": "markdown",
   "metadata": {},
   "source": [
    "#### Exercise: Generate logistic regression data according to the model above."
   ]
  },
  {
   "cell_type": "code",
   "execution_count": 31,
   "metadata": {
    "collapsed": false
   },
   "outputs": [
    {
     "data": {
      "text/html": [
       "<div>\n",
       "<table border=\"1\" class=\"dataframe\">\n",
       "  <thead>\n",
       "    <tr style=\"text-align: right;\">\n",
       "      <th></th>\n",
       "      <th>0</th>\n",
       "      <th>1</th>\n",
       "      <th>2</th>\n",
       "      <th>target</th>\n",
       "    </tr>\n",
       "  </thead>\n",
       "  <tbody>\n",
       "    <tr>\n",
       "      <th>0</th>\n",
       "      <td>0.299864</td>\n",
       "      <td>0.452976</td>\n",
       "      <td>0.775562</td>\n",
       "      <td>5.113813</td>\n",
       "    </tr>\n",
       "    <tr>\n",
       "      <th>1</th>\n",
       "      <td>0.178775</td>\n",
       "      <td>0.554150</td>\n",
       "      <td>0.179959</td>\n",
       "      <td>5.295962</td>\n",
       "    </tr>\n",
       "    <tr>\n",
       "      <th>2</th>\n",
       "      <td>0.386781</td>\n",
       "      <td>0.322026</td>\n",
       "      <td>0.319072</td>\n",
       "      <td>3.306948</td>\n",
       "    </tr>\n",
       "    <tr>\n",
       "      <th>3</th>\n",
       "      <td>0.900669</td>\n",
       "      <td>0.070920</td>\n",
       "      <td>0.672951</td>\n",
       "      <td>-1.612139</td>\n",
       "    </tr>\n",
       "    <tr>\n",
       "      <th>4</th>\n",
       "      <td>0.721173</td>\n",
       "      <td>0.268577</td>\n",
       "      <td>0.798656</td>\n",
       "      <td>0.718802</td>\n",
       "    </tr>\n",
       "  </tbody>\n",
       "</table>\n",
       "</div>"
      ],
      "text/plain": [
       "          0         1         2    target\n",
       "0  0.299864  0.452976  0.775562  5.113813\n",
       "1  0.178775  0.554150  0.179959  5.295962\n",
       "2  0.386781  0.322026  0.319072  3.306948\n",
       "3  0.900669  0.070920  0.672951 -1.612139\n",
       "4  0.721173  0.268577  0.798656  0.718802"
      ]
     },
     "execution_count": 31,
     "metadata": {},
     "output_type": "execute_result"
    }
   ],
   "source": [
    "X.head()"
   ]
  },
  {
   "cell_type": "code",
   "execution_count": 32,
   "metadata": {
    "collapsed": true
   },
   "outputs": [],
   "source": [
    "del X['target']"
   ]
  },
  {
   "cell_type": "code",
   "execution_count": 33,
   "metadata": {
    "collapsed": false
   },
   "outputs": [
    {
     "data": {
      "text/html": [
       "<div>\n",
       "<table border=\"1\" class=\"dataframe\">\n",
       "  <thead>\n",
       "    <tr style=\"text-align: right;\">\n",
       "      <th></th>\n",
       "      <th>0</th>\n",
       "      <th>1</th>\n",
       "      <th>2</th>\n",
       "    </tr>\n",
       "  </thead>\n",
       "  <tbody>\n",
       "    <tr>\n",
       "      <th>0</th>\n",
       "      <td>0.299864</td>\n",
       "      <td>0.452976</td>\n",
       "      <td>0.775562</td>\n",
       "    </tr>\n",
       "    <tr>\n",
       "      <th>1</th>\n",
       "      <td>0.178775</td>\n",
       "      <td>0.554150</td>\n",
       "      <td>0.179959</td>\n",
       "    </tr>\n",
       "    <tr>\n",
       "      <th>2</th>\n",
       "      <td>0.386781</td>\n",
       "      <td>0.322026</td>\n",
       "      <td>0.319072</td>\n",
       "    </tr>\n",
       "    <tr>\n",
       "      <th>3</th>\n",
       "      <td>0.900669</td>\n",
       "      <td>0.070920</td>\n",
       "      <td>0.672951</td>\n",
       "    </tr>\n",
       "    <tr>\n",
       "      <th>4</th>\n",
       "      <td>0.721173</td>\n",
       "      <td>0.268577</td>\n",
       "      <td>0.798656</td>\n",
       "    </tr>\n",
       "  </tbody>\n",
       "</table>\n",
       "</div>"
      ],
      "text/plain": [
       "          0         1         2\n",
       "0  0.299864  0.452976  0.775562\n",
       "1  0.178775  0.554150  0.179959\n",
       "2  0.386781  0.322026  0.319072\n",
       "3  0.900669  0.070920  0.672951\n",
       "4  0.721173  0.268577  0.798656"
      ]
     },
     "execution_count": 33,
     "metadata": {},
     "output_type": "execute_result"
    }
   ],
   "source": [
    "X.head()"
   ]
  },
  {
   "cell_type": "code",
   "execution_count": 34,
   "metadata": {
    "collapsed": true
   },
   "outputs": [],
   "source": [
    "def sigmoid(t):\n",
    "    return 1 / (1 + np.exp(-t))"
   ]
  },
  {
   "cell_type": "code",
   "execution_count": 36,
   "metadata": {
    "collapsed": false
   },
   "outputs": [
    {
     "data": {
      "text/plain": [
       "[<matplotlib.lines.Line2D at 0x11576c410>]"
      ]
     },
     "execution_count": 36,
     "metadata": {},
     "output_type": "execute_result"
    },
    {
     "data": {
      "image/png": "[encoded data removed]",
      "text/plain": [
       "<matplotlib.figure.Figure at 0x115513150>"
      ]
     },
     "metadata": {},
     "output_type": "display_data"
    }
   ],
   "source": [
    "pts = np.linspace(-50, 50, 100)\n",
    "sig = sigmoid(pts)\n",
    "plt.plot(pts, sig, '.')"
   ]
  },
  {
   "cell_type": "code",
   "execution_count": 37,
   "metadata": {
    "collapsed": false
   },
   "outputs": [],
   "source": [
    "def sigmoid(t):\n",
    "    return 1 / (1 + np.exp(-t))\n",
    "\n",
    "def make_target_logistic(row):\n",
    "    \"\"\"\n",
    "    Return either 0 or 1, according to a Bernoulli distribution defined by row.\n",
    "    \"\"\"\n",
    "    x, y, z = row[0], row[1], row[2]\n",
    "    p = sigmoid(5 - 9*x + 5*y + 3*z)\n",
    "    return np.random.binomial(1, p)\n",
    "\n",
    "X['target'] = X.apply(lambda row: make_target_logistic(row), 1)"
   ]
  },
  {
   "cell_type": "code",
   "execution_count": 38,
   "metadata": {
    "collapsed": false
   },
   "outputs": [
    {
     "data": {
      "text/html": [
       "<div>\n",
       "<table border=\"1\" class=\"dataframe\">\n",
       "  <thead>\n",
       "    <tr style=\"text-align: right;\">\n",
       "      <th></th>\n",
       "      <th>0</th>\n",
       "      <th>1</th>\n",
       "      <th>2</th>\n",
       "      <th>target</th>\n",
       "    </tr>\n",
       "  </thead>\n",
       "  <tbody>\n",
       "    <tr>\n",
       "      <th>0</th>\n",
       "      <td>0.299864</td>\n",
       "      <td>0.452976</td>\n",
       "      <td>0.775562</td>\n",
       "      <td>1</td>\n",
       "    </tr>\n",
       "    <tr>\n",
       "      <th>1</th>\n",
       "      <td>0.178775</td>\n",
       "      <td>0.554150</td>\n",
       "      <td>0.179959</td>\n",
       "      <td>1</td>\n",
       "    </tr>\n",
       "    <tr>\n",
       "      <th>2</th>\n",
       "      <td>0.386781</td>\n",
       "      <td>0.322026</td>\n",
       "      <td>0.319072</td>\n",
       "      <td>1</td>\n",
       "    </tr>\n",
       "    <tr>\n",
       "      <th>3</th>\n",
       "      <td>0.900669</td>\n",
       "      <td>0.070920</td>\n",
       "      <td>0.672951</td>\n",
       "      <td>0</td>\n",
       "    </tr>\n",
       "    <tr>\n",
       "      <th>4</th>\n",
       "      <td>0.721173</td>\n",
       "      <td>0.268577</td>\n",
       "      <td>0.798656</td>\n",
       "      <td>1</td>\n",
       "    </tr>\n",
       "  </tbody>\n",
       "</table>\n",
       "</div>"
      ],
      "text/plain": [
       "          0         1         2  target\n",
       "0  0.299864  0.452976  0.775562       1\n",
       "1  0.178775  0.554150  0.179959       1\n",
       "2  0.386781  0.322026  0.319072       1\n",
       "3  0.900669  0.070920  0.672951       0\n",
       "4  0.721173  0.268577  0.798656       1"
      ]
     },
     "execution_count": 38,
     "metadata": {},
     "output_type": "execute_result"
    }
   ],
   "source": [
    "X.head()"
   ]
  },
  {
   "cell_type": "markdown",
   "metadata": {},
   "source": [
    "#### Recover coefficients"
   ]
  },
  {
   "cell_type": "code",
   "execution_count": 39,
   "metadata": {
    "collapsed": false
   },
   "outputs": [
    {
     "name": "stdout",
     "output_type": "stream",
     "text": [
      "Intercept: [ 6\n",
      "Coeffs:  [[-9.52198153  3.90149029  3.09366811]]\n",
      "Accuracy: 0.89\n"
     ]
    }
   ],
   "source": [
    "from sklearn.linear_model import LogisticRegression\n",
    "\n",
    "# Fit logistic model\n",
    "logit = LogisticRegression(C=1e18)\n",
    "logit.fit(X.iloc[:,:-1], X['target'])\n",
    "\n",
    "print 'Intercept: {:.3}'.format(logit.intercept_)\n",
    "\n",
    "print 'Coeffs: ', logit.coef_\n",
    "\n",
    "print 'Accuracy: {:.3}'.format(logit.score(X.iloc[:, :-1], X['target']))"
   ]
  },
  {
   "cell_type": "code",
   "execution_count": 42,
   "metadata": {
    "collapsed": false
   },
   "outputs": [
    {
     "data": {
      "text/plain": [
       "<matplotlib.axes._subplots.AxesSubplot at 0x1157bd150>"
      ]
     },
     "execution_count": 42,
     "metadata": {},
     "output_type": "execute_result"
    },
    {
     "data": {
      "image/png": "[encoded data removed]",
      "text/plain": [
       "<matplotlib.figure.Figure at 0x115373cd0>"
      ]
     },
     "metadata": {},
     "output_type": "display_data"
    }
   ],
   "source": [
    "results = pd.DataFrame({\n",
    "        'wTx': X.apply(lambda row: np.dot(row[:3], logit.coef_.flatten()), axis=1),\n",
    "        'Predicted Probability': logit.predict_proba(X.iloc[:, :-1])[:,1],\n",
    "        'Actual': X['target']\n",
    "    })\n",
    "\n",
    "ax = results.plot(x='wTx', y='Predicted Probability', kind='scatter', \n",
    "                  label = 'Predicted', color='lightblue')\n",
    "results.plot(x='wTx', y='Actual', kind='scatter', ax=ax, label='Actual')"
   ]
  },
  {
   "cell_type": "markdown",
   "metadata": {},
   "source": [
    "# Regularization"
   ]
  },
  {
   "cell_type": "markdown",
   "metadata": {},
   "source": [
    "For any type of regression, one learns the model parameters by:\n",
    "\n",
    "1. Assume the probabilistic model is correct.\n",
    "2. Compute the _likelihood_ of each data point for a given set of parameters $w_0, \\ldots, w_p$. (just evaluate the PDF at that point and target value)\n",
    "3. Choose the set of parameters that maximizes the total likelihood. (or, equivalently, minimizes the log-likelihood)\n",
    "\n",
    "For linear regression, it turns out that ${\\cal l} (X) \\sim ||w^T x - y||^2$. So maximizing the likelihood is the same as minimizing the mean-squared error.\n",
    "\n",
    "For logistic regression,\n",
    "$$\n",
    "{\\cal l} (x) := -y \\log(f(w^T x)) - (1 - y) \\log(1 - f(w^Tx))\n",
    "$$\n",
    "\n",
    "In either case, regularization just means that instead of directly minimizing ${\\cal L}(X)$, we also add a penalty on the size of coefficients.\n",
    "\n",
    "#### L1 (Lasso) Regularization\n",
    "\n",
    "Find $w$ that minimizes \n",
    "$$\n",
    "{\\cal l}(X) + \\lambda \\sum_{i=1}^p |w_i|\n",
    "$$\n",
    "\n",
    "#### L2 (Ridge) Regularization\n",
    "\n",
    "Find $w$ that minimizes \n",
    "$$\n",
    "{\\cal l}(X) + \\lambda \\sum_{i=1}^p ||w_i||^2\n",
    "$$\n",
    "\n",
    "#### Elastic Net Regularization\n",
    "\n",
    "Find $w$ that minimizes \n",
    "$$\n",
    "{\\cal l}(X) + (1 - \\alpha) \\cdot \\lambda \\sum_{i=1}^p |w_i|^2 + \\alpha \\cdot \\lambda \\sum_{i=1}^p ||w_i||\n",
    "$$"
   ]
  },
  {
   "cell_type": "markdown",
   "metadata": {},
   "source": [
    "# Application: Crime Data"
   ]
  },
  {
   "cell_type": "code",
   "execution_count": 43,
   "metadata": {
    "collapsed": true
   },
   "outputs": [],
   "source": [
    "from sklearn.model_selection import train_test_split\n",
    "\n",
    "# Load some crime data\n",
    "headers = pd.read_csv('comm_names.txt', squeeze=True)\n",
    "headers = headers.apply(lambda s: s.split()[1])\n",
    "crime = (pd.read_csv('http://archive.ics.uci.edu/ml/machine-learning-databases/communities/communities.data', \n",
    "                    header=None, na_values=['?'], names=headers)\n",
    "         .iloc[:, 5:]\n",
    "         .dropna()\n",
    "         )\n",
    "\n",
    "# Set target and predictors\n",
    "target = 'ViolentCrimesPerPop'\n",
    "predictors = [c for c in crime.columns if not c == target]\n",
    "\n",
    "# Train/test split\n",
    "train_df, test_df = train_test_split(crime, random_state=2)"
   ]
  },
  {
   "cell_type": "code",
   "execution_count": 47,
   "metadata": {
    "collapsed": false
   },
   "outputs": [
    {
     "data": {
      "text/plain": [
       "'ViolentCrimesPerPop'"
      ]
     },
     "execution_count": 47,
     "metadata": {},
     "output_type": "execute_result"
    }
   ],
   "source": [
    "target"
   ]
  },
  {
   "cell_type": "code",
   "execution_count": 48,
   "metadata": {
    "collapsed": false
   },
   "outputs": [
    {
     "data": {
      "text/plain": [
       "['householdsize',\n",
       " 'racepctblack',\n",
       " 'racePctWhite',\n",
       " 'racePctAsian',\n",
       " 'racePctHisp',\n",
       " 'agePct12t21',\n",
       " 'agePct12t29',\n",
       " 'agePct16t24',\n",
       " 'agePct65up',\n",
       " 'numbUrban',\n",
       " 'pctUrban',\n",
       " 'medIncome',\n",
       " 'pctWWage',\n",
       " 'pctWFarmSelf',\n",
       " 'pctWInvInc',\n",
       " 'pctWSocSec',\n",
       " 'pctWPubAsst',\n",
       " 'pctWRetire',\n",
       " 'medFamInc',\n",
       " 'perCapInc',\n",
       " 'whitePerCap',\n",
       " 'blackPerCap',\n",
       " 'indianPerCap',\n",
       " 'AsianPerCap',\n",
       " 'OtherPerCap',\n",
       " 'HispPerCap',\n",
       " 'NumUnderPov',\n",
       " 'PctPopUnderPov',\n",
       " 'PctLess9thGrade',\n",
       " 'PctNotHSGrad',\n",
       " 'PctBSorMore',\n",
       " 'PctUnemployed',\n",
       " 'PctEmploy',\n",
       " 'PctEmplManu',\n",
       " 'PctEmplProfServ',\n",
       " 'PctOccupManu',\n",
       " 'PctOccupMgmtProf',\n",
       " 'MalePctDivorce',\n",
       " 'MalePctNevMarr',\n",
       " 'FemalePctDiv',\n",
       " 'TotalPctDiv',\n",
       " 'PersPerFam',\n",
       " 'PctFam2Par',\n",
       " 'PctKids2Par',\n",
       " 'PctYoungKids2Par',\n",
       " 'PctTeen2Par',\n",
       " 'PctWorkMomYoungKids',\n",
       " 'PctWorkMom',\n",
       " 'NumIlleg',\n",
       " 'PctIlleg',\n",
       " 'NumImmig',\n",
       " 'PctImmigRecent',\n",
       " 'PctImmigRec5',\n",
       " 'PctImmigRec8',\n",
       " 'PctImmigRec10',\n",
       " 'PctRecentImmig',\n",
       " 'PctRecImmig5',\n",
       " 'PctRecImmig8',\n",
       " 'PctRecImmig10',\n",
       " 'PctSpeakEnglOnly',\n",
       " 'PctNotSpeakEnglWell',\n",
       " 'PctLargHouseFam',\n",
       " 'PctLargHouseOccup',\n",
       " 'PersPerOccupHous',\n",
       " 'PersPerOwnOccHous',\n",
       " 'PersPerRentOccHous',\n",
       " 'PctPersOwnOccup',\n",
       " 'PctPersDenseHous',\n",
       " 'PctHousLess3BR',\n",
       " 'MedNumBR',\n",
       " 'HousVacant',\n",
       " 'PctHousOccup',\n",
       " 'PctHousOwnOcc',\n",
       " 'PctVacantBoarded',\n",
       " 'PctVacMore6Mos',\n",
       " 'MedYrHousBuilt',\n",
       " 'PctHousNoPhone',\n",
       " 'PctWOFullPlumb',\n",
       " 'OwnOccLowQuart',\n",
       " 'OwnOccMedVal',\n",
       " 'OwnOccHiQuart',\n",
       " 'RentLowQ',\n",
       " 'RentMedian',\n",
       " 'RentHighQ',\n",
       " 'MedRent',\n",
       " 'MedRentPctHousInc',\n",
       " 'MedOwnCostPctInc',\n",
       " 'MedOwnCostPctIncNoMtg',\n",
       " 'NumInShelters',\n",
       " 'NumStreet',\n",
       " 'PctForeignBorn',\n",
       " 'PctBornSameState',\n",
       " 'PctSameHouse85',\n",
       " 'PctSameCity85',\n",
       " 'PctSameState85',\n",
       " 'LemasSwornFT',\n",
       " 'LemasSwFTPerPop',\n",
       " 'LemasSwFTFieldOps',\n",
       " 'LemasSwFTFieldPerPop',\n",
       " 'LemasTotalReq',\n",
       " 'LemasTotReqPerPop',\n",
       " 'PolicReqPerOffic',\n",
       " 'PolicPerPop',\n",
       " 'RacialMatchCommPol',\n",
       " 'PctPolicWhite',\n",
       " 'PctPolicBlack',\n",
       " 'PctPolicHisp',\n",
       " 'PctPolicAsian',\n",
       " 'PctPolicMinor',\n",
       " 'OfficAssgnDrugUnits',\n",
       " 'NumKindsDrugsSeiz',\n",
       " 'PolicAveOTWorked',\n",
       " 'LandArea',\n",
       " 'PopDens',\n",
       " 'PctUsePubTrans',\n",
       " 'PolicCars',\n",
       " 'PolicOperBudg',\n",
       " 'LemasPctPolicOnPatr',\n",
       " 'LemasGangUnitDeploy',\n",
       " 'LemasPctOfficDrugUn',\n",
       " 'PolicBudgPerPop']"
      ]
     },
     "execution_count": 48,
     "metadata": {},
     "output_type": "execute_result"
    }
   ],
   "source": [
    "predictors"
   ]
  },
  {
   "cell_type": "code",
   "execution_count": 46,
   "metadata": {
    "collapsed": false
   },
   "outputs": [
    {
     "data": {
      "text/html": [
       "<div>\n",
       "<table border=\"1\" class=\"dataframe\">\n",
       "  <thead>\n",
       "    <tr style=\"text-align: right;\">\n",
       "      <th></th>\n",
       "      <th>householdsize</th>\n",
       "      <th>racepctblack</th>\n",
       "      <th>racePctWhite</th>\n",
       "      <th>racePctAsian</th>\n",
       "      <th>racePctHisp</th>\n",
       "      <th>agePct12t21</th>\n",
       "      <th>agePct12t29</th>\n",
       "      <th>agePct16t24</th>\n",
       "      <th>agePct65up</th>\n",
       "      <th>numbUrban</th>\n",
       "      <th>...</th>\n",
       "      <th>LandArea</th>\n",
       "      <th>PopDens</th>\n",
       "      <th>PctUsePubTrans</th>\n",
       "      <th>PolicCars</th>\n",
       "      <th>PolicOperBudg</th>\n",
       "      <th>LemasPctPolicOnPatr</th>\n",
       "      <th>LemasGangUnitDeploy</th>\n",
       "      <th>LemasPctOfficDrugUn</th>\n",
       "      <th>PolicBudgPerPop</th>\n",
       "      <th>ViolentCrimesPerPop</th>\n",
       "    </tr>\n",
       "  </thead>\n",
       "  <tbody>\n",
       "    <tr>\n",
       "      <th>54</th>\n",
       "      <td>0.23</td>\n",
       "      <td>0.28</td>\n",
       "      <td>0.76</td>\n",
       "      <td>0.08</td>\n",
       "      <td>0.01</td>\n",
       "      <td>0.32</td>\n",
       "      <td>0.37</td>\n",
       "      <td>0.22</td>\n",
       "      <td>0.61</td>\n",
       "      <td>0.09</td>\n",
       "      <td>...</td>\n",
       "      <td>0.08</td>\n",
       "      <td>0.16</td>\n",
       "      <td>0.29</td>\n",
       "      <td>0.09</td>\n",
       "      <td>0.01</td>\n",
       "      <td>0.56</td>\n",
       "      <td>0.0</td>\n",
       "      <td>1.00</td>\n",
       "      <td>0.12</td>\n",
       "      <td>0.56</td>\n",
       "    </tr>\n",
       "    <tr>\n",
       "      <th>41</th>\n",
       "      <td>0.58</td>\n",
       "      <td>0.01</td>\n",
       "      <td>0.83</td>\n",
       "      <td>0.13</td>\n",
       "      <td>0.21</td>\n",
       "      <td>0.44</td>\n",
       "      <td>0.49</td>\n",
       "      <td>0.29</td>\n",
       "      <td>0.25</td>\n",
       "      <td>0.06</td>\n",
       "      <td>...</td>\n",
       "      <td>0.05</td>\n",
       "      <td>0.16</td>\n",
       "      <td>0.20</td>\n",
       "      <td>0.06</td>\n",
       "      <td>0.04</td>\n",
       "      <td>0.22</td>\n",
       "      <td>0.5</td>\n",
       "      <td>0.59</td>\n",
       "      <td>0.48</td>\n",
       "      <td>0.09</td>\n",
       "    </tr>\n",
       "    <tr>\n",
       "      <th>13</th>\n",
       "      <td>0.47</td>\n",
       "      <td>0.74</td>\n",
       "      <td>0.37</td>\n",
       "      <td>0.08</td>\n",
       "      <td>0.05</td>\n",
       "      <td>0.49</td>\n",
       "      <td>0.57</td>\n",
       "      <td>0.40</td>\n",
       "      <td>0.34</td>\n",
       "      <td>0.27</td>\n",
       "      <td>...</td>\n",
       "      <td>0.63</td>\n",
       "      <td>0.07</td>\n",
       "      <td>0.08</td>\n",
       "      <td>0.37</td>\n",
       "      <td>0.04</td>\n",
       "      <td>0.74</td>\n",
       "      <td>0.5</td>\n",
       "      <td>0.84</td>\n",
       "      <td>0.09</td>\n",
       "      <td>0.25</td>\n",
       "    </tr>\n",
       "    <tr>\n",
       "      <th>1</th>\n",
       "      <td>0.45</td>\n",
       "      <td>0.83</td>\n",
       "      <td>0.34</td>\n",
       "      <td>0.04</td>\n",
       "      <td>0.01</td>\n",
       "      <td>0.48</td>\n",
       "      <td>0.53</td>\n",
       "      <td>0.36</td>\n",
       "      <td>0.37</td>\n",
       "      <td>0.30</td>\n",
       "      <td>...</td>\n",
       "      <td>0.39</td>\n",
       "      <td>0.12</td>\n",
       "      <td>0.09</td>\n",
       "      <td>0.04</td>\n",
       "      <td>0.01</td>\n",
       "      <td>0.00</td>\n",
       "      <td>0.0</td>\n",
       "      <td>0.36</td>\n",
       "      <td>0.01</td>\n",
       "      <td>0.35</td>\n",
       "    </tr>\n",
       "    <tr>\n",
       "      <th>19</th>\n",
       "      <td>0.43</td>\n",
       "      <td>0.04</td>\n",
       "      <td>0.89</td>\n",
       "      <td>0.09</td>\n",
       "      <td>0.06</td>\n",
       "      <td>0.45</td>\n",
       "      <td>0.48</td>\n",
       "      <td>0.31</td>\n",
       "      <td>0.46</td>\n",
       "      <td>0.13</td>\n",
       "      <td>...</td>\n",
       "      <td>0.16</td>\n",
       "      <td>0.12</td>\n",
       "      <td>0.07</td>\n",
       "      <td>0.04</td>\n",
       "      <td>0.01</td>\n",
       "      <td>0.81</td>\n",
       "      <td>1.0</td>\n",
       "      <td>0.56</td>\n",
       "      <td>0.09</td>\n",
       "      <td>0.63</td>\n",
       "    </tr>\n",
       "  </tbody>\n",
       "</table>\n",
       "<p>5 rows × 122 columns</p>\n",
       "</div>"
      ],
      "text/plain": [
       "    householdsize  racepctblack  racePctWhite  racePctAsian  racePctHisp  \\\n",
       "54           0.23          0.28          0.76          0.08         0.01   \n",
       "41           0.58          0.01          0.83          0.13         0.21   \n",
       "13           0.47          0.74          0.37          0.08         0.05   \n",
       "1            0.45          0.83          0.34          0.04         0.01   \n",
       "19           0.43          0.04          0.89          0.09         0.06   \n",
       "\n",
       "    agePct12t21  agePct12t29  agePct16t24  agePct65up  numbUrban  \\\n",
       "54         0.32         0.37         0.22        0.61       0.09   \n",
       "41         0.44         0.49         0.29        0.25       0.06   \n",
       "13         0.49         0.57         0.40        0.34       0.27   \n",
       "1          0.48         0.53         0.36        0.37       0.30   \n",
       "19         0.45         0.48         0.31        0.46       0.13   \n",
       "\n",
       "           ...           LandArea  PopDens  PctUsePubTrans  PolicCars  \\\n",
       "54         ...               0.08     0.16            0.29       0.09   \n",
       "41         ...               0.05     0.16            0.20       0.06   \n",
       "13         ...               0.63     0.07            0.08       0.37   \n",
       "1          ...               0.39     0.12            0.09       0.04   \n",
       "19         ...               0.16     0.12            0.07       0.04   \n",
       "\n",
       "    PolicOperBudg  LemasPctPolicOnPatr  LemasGangUnitDeploy  \\\n",
       "54           0.01                 0.56                  0.0   \n",
       "41           0.04                 0.22                  0.5   \n",
       "13           0.04                 0.74                  0.5   \n",
       "1            0.01                 0.00                  0.0   \n",
       "19           0.01                 0.81                  1.0   \n",
       "\n",
       "    LemasPctOfficDrugUn  PolicBudgPerPop  ViolentCrimesPerPop  \n",
       "54                 1.00             0.12                 0.56  \n",
       "41                 0.59             0.48                 0.09  \n",
       "13                 0.84             0.09                 0.25  \n",
       "1                  0.36             0.01                 0.35  \n",
       "19                 0.56             0.09                 0.63  \n",
       "\n",
       "[5 rows x 122 columns]"
      ]
     },
     "execution_count": 46,
     "metadata": {},
     "output_type": "execute_result"
    }
   ],
   "source": [
    "train_df.head()"
   ]
  },
  {
   "cell_type": "code",
   "execution_count": 45,
   "metadata": {
    "collapsed": false
   },
   "outputs": [
    {
     "data": {
      "text/plain": [
       "(80, 122)"
      ]
     },
     "execution_count": 45,
     "metadata": {},
     "output_type": "execute_result"
    }
   ],
   "source": [
    "test_df.shape"
   ]
  },
  {
   "cell_type": "markdown",
   "metadata": {},
   "source": [
    "## Exercise: \n",
    "\n",
    "1. Fit a linear regression model on train_df. The goal is to predict 'ViolentCrimesPerPop' from the other columns. What is the r-squared on the train data? What about the test data?\n",
    "2. Also fit each of a ridge, lasso, and elastic net regression on the same data. Use the functions RidgeCV, LassoCV, and ElasticNetCV to cross-validate and find the best values of $\\lambda$ and $\\alpha$.\n",
    "3. Which model performs the best?"
   ]
  },
  {
   "cell_type": "markdown",
   "metadata": {},
   "source": [
    "### Linear Regression"
   ]
  },
  {
   "cell_type": "code",
   "execution_count": null,
   "metadata": {
    "collapsed": false
   },
   "outputs": [],
   "source": []
  },
  {
   "cell_type": "code",
   "execution_count": null,
   "metadata": {
    "collapsed": false
   },
   "outputs": [],
   "source": []
  },
  {
   "cell_type": "markdown",
   "metadata": {},
   "source": [
    "### Ridge"
   ]
  },
  {
   "cell_type": "code",
   "execution_count": null,
   "metadata": {
    "collapsed": false
   },
   "outputs": [],
   "source": []
  },
  {
   "cell_type": "code",
   "execution_count": null,
   "metadata": {
    "collapsed": false
   },
   "outputs": [],
   "source": []
  },
  {
   "cell_type": "markdown",
   "metadata": {},
   "source": [
    "### Lasso"
   ]
  },
  {
   "cell_type": "code",
   "execution_count": null,
   "metadata": {
    "collapsed": false
   },
   "outputs": [],
   "source": []
  },
  {
   "cell_type": "code",
   "execution_count": null,
   "metadata": {
    "collapsed": false
   },
   "outputs": [],
   "source": []
  },
  {
   "cell_type": "markdown",
   "metadata": {},
   "source": [
    "### Elastic Net"
   ]
  },
  {
   "cell_type": "code",
   "execution_count": null,
   "metadata": {
    "collapsed": false
   },
   "outputs": [],
   "source": []
  },
  {
   "cell_type": "code",
   "execution_count": null,
   "metadata": {
    "collapsed": false
   },
   "outputs": [],
   "source": []
  },
  {
   "cell_type": "markdown",
   "metadata": {},
   "source": [
    "## Exercise:\n",
    "\n",
    "1. Make the following scatterplot\n",
    "    - Each point corresponds to one predictor in the data\n",
    "    - The x-value is the coefficient of that predictor under OLS regression\n",
    "    - The y-value is the coefficient of that predictor using ridge regularization\n",
    "2. Do the same for OLS vs Lasso, and OLS vs ElasticNet"
   ]
  },
  {
   "cell_type": "code",
   "execution_count": null,
   "metadata": {
    "collapsed": false
   },
   "outputs": [],
   "source": []
  },
  {
   "cell_type": "code",
   "execution_count": null,
   "metadata": {
    "collapsed": false
   },
   "outputs": [],
   "source": []
  },
  {
   "cell_type": "markdown",
   "metadata": {},
   "source": [
    "## Question: \n",
    "\n",
    "What is the story with the two 'large coefficients' found by OLS that are squashed by regularization? (You may have to do some digging)"
   ]
  },
  {
   "cell_type": "code",
   "execution_count": null,
   "metadata": {
    "collapsed": false
   },
   "outputs": [],
   "source": []
  },
  {
   "cell_type": "markdown",
   "metadata": {
    "collapsed": true
   },
   "source": [
    "## Question:\n",
    "\n",
    "Can we tell from this process which predictors are _the most important_ for predicting violent crimes?"
   ]
  }
 ],
 "metadata": {
  "anaconda-cloud": {},
  "kernelspec": {
   "display_name": "Python [conda root]",
   "language": "python",
   "name": "conda-root-py"
  },
  "language_info": {
   "codemirror_mode": {
    "name": "ipython",
    "version": 3
   },
   "file_extension": ".py",
   "mimetype": "text/x-python",
   "name": "python",
   "nbconvert_exporter": "python",
   "pygments_lexer": "ipython3",
   "version": "3.5.2"
  }
 },
 "nbformat": 4,
 "nbformat_minor": 1
}
