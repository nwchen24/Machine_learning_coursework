{
 "cells": [
  {
   "cell_type": "code",
   "execution_count": 27,
   "metadata": {
    "collapsed": true
   },
   "outputs": [],
   "source": [
    "%matplotlib inline\n",
    "import matplotlib.pyplot as plt\n",
    "import numpy as np\n",
    "import pandas as pd"
   ]
  },
  {
   "cell_type": "markdown",
   "metadata": {},
   "source": [
    "# Linear and Logistic Regression\n",
    "\n",
    "- Regression is a technique for supervised learning that is based on strong statistical assumptions about the underlying data. Linear and logistic regression are just two different assumptions on the data\n",
    "- Regression can be used when the assumptions are not met, but then it needs to be graded based on _performance on the test data_. P-values, F-scores, etc.. depend on the assumptions being true."
   ]
  },
  {
   "cell_type": "markdown",
   "metadata": {},
   "source": [
    "## Linear Regression"
   ]
  },
  {
   "cell_type": "markdown",
   "metadata": {},
   "source": [
    "Let $y \\in \\mathbb{R}$ be a random variable (the target) and $X = x_1, \\ldots, x_p$ be a set of _independent_ variables (the predictors). Then\n",
    "$$\n",
    "y \\sim \\cal{N}(\\mu, \\sigma)\n",
    "$$\n",
    "where \n",
    "$$\n",
    "\\mu = \\mu(X) = w_0 + w_1 x_1 + w_2 x_2 + \\cdots + w_p x_p\n",
    "$$"
   ]
  },
  {
   "cell_type": "markdown",
   "metadata": {},
   "source": [
    "### Linear Regression Test Data\n",
    "\n",
    "Let's generate some sample data that matches the assumptions exactly.\n",
    "\n",
    "1. Set p = 3\n",
    "2. Choose a formula for $\\mu(X)$\n",
    "$$\n",
    "\\mu(X) = 5 - 9 x_1 + 3 x_2 + 2 x_3\n",
    "$$"
   ]
  },
  {
   "cell_type": "markdown",
   "metadata": {},
   "source": [
    "Features"
   ]
  },
  {
   "cell_type": "code",
   "execution_count": 28,
   "metadata": {
    "collapsed": true
   },
   "outputs": [],
   "source": [
    "p = 3\n",
    "X = pd.DataFrame(np.random.rand(100, p))"
   ]
  },
  {
   "cell_type": "code",
   "execution_count": 29,
   "metadata": {
    "collapsed": false
   },
   "outputs": [
    {
     "data": {
      "text/html": [
       "<div>\n",
       "<table border=\"1\" class=\"dataframe\">\n",
       "  <thead>\n",
       "    <tr style=\"text-align: right;\">\n",
       "      <th></th>\n",
       "      <th>0</th>\n",
       "      <th>1</th>\n",
       "      <th>2</th>\n",
       "    </tr>\n",
       "  </thead>\n",
       "  <tbody>\n",
       "    <tr>\n",
       "      <th>0</th>\n",
       "      <td>0.076883</td>\n",
       "      <td>0.817245</td>\n",
       "      <td>0.722774</td>\n",
       "    </tr>\n",
       "    <tr>\n",
       "      <th>1</th>\n",
       "      <td>0.484117</td>\n",
       "      <td>0.156508</td>\n",
       "      <td>0.670622</td>\n",
       "    </tr>\n",
       "    <tr>\n",
       "      <th>2</th>\n",
       "      <td>0.571817</td>\n",
       "      <td>0.507034</td>\n",
       "      <td>0.705738</td>\n",
       "    </tr>\n",
       "    <tr>\n",
       "      <th>3</th>\n",
       "      <td>0.852782</td>\n",
       "      <td>0.127106</td>\n",
       "      <td>0.482410</td>\n",
       "    </tr>\n",
       "    <tr>\n",
       "      <th>4</th>\n",
       "      <td>0.264576</td>\n",
       "      <td>0.672684</td>\n",
       "      <td>0.692478</td>\n",
       "    </tr>\n",
       "  </tbody>\n",
       "</table>\n",
       "</div>"
      ],
      "text/plain": [
       "          0         1         2\n",
       "0  0.076883  0.817245  0.722774\n",
       "1  0.484117  0.156508  0.670622\n",
       "2  0.571817  0.507034  0.705738\n",
       "3  0.852782  0.127106  0.482410\n",
       "4  0.264576  0.672684  0.692478"
      ]
     },
     "execution_count": 29,
     "metadata": {},
     "output_type": "execute_result"
    }
   ],
   "source": [
    "X.head()"
   ]
  },
  {
   "cell_type": "markdown",
   "metadata": {},
   "source": [
    "The target is a linear function of the features, plus some gaussian noise."
   ]
  },
  {
   "cell_type": "code",
   "execution_count": 30,
   "metadata": {
    "collapsed": false
   },
   "outputs": [],
   "source": [
    "sigma = .1\n",
    "def make_target(row, sigma):\n",
    "    x, y, z = row[0], row[1], row[2]\n",
    "    return np.random.normal(5 - 9*x + 3*y + 2*z, sigma)\n",
    "X['target'] = X.apply(lambda row: make_target(row, sigma), 1)\n"
   ]
  },
  {
   "cell_type": "code",
   "execution_count": 31,
   "metadata": {
    "collapsed": false
   },
   "outputs": [
    {
     "data": {
      "text/html": [
       "<div>\n",
       "<table border=\"1\" class=\"dataframe\">\n",
       "  <thead>\n",
       "    <tr style=\"text-align: right;\">\n",
       "      <th></th>\n",
       "      <th>0</th>\n",
       "      <th>1</th>\n",
       "      <th>2</th>\n",
       "      <th>target</th>\n",
       "    </tr>\n",
       "  </thead>\n",
       "  <tbody>\n",
       "    <tr>\n",
       "      <th>0</th>\n",
       "      <td>0.076883</td>\n",
       "      <td>0.817245</td>\n",
       "      <td>0.722774</td>\n",
       "      <td>8.332641</td>\n",
       "    </tr>\n",
       "    <tr>\n",
       "      <th>1</th>\n",
       "      <td>0.484117</td>\n",
       "      <td>0.156508</td>\n",
       "      <td>0.670622</td>\n",
       "      <td>2.582635</td>\n",
       "    </tr>\n",
       "    <tr>\n",
       "      <th>2</th>\n",
       "      <td>0.571817</td>\n",
       "      <td>0.507034</td>\n",
       "      <td>0.705738</td>\n",
       "      <td>2.579320</td>\n",
       "    </tr>\n",
       "    <tr>\n",
       "      <th>3</th>\n",
       "      <td>0.852782</td>\n",
       "      <td>0.127106</td>\n",
       "      <td>0.482410</td>\n",
       "      <td>-1.038786</td>\n",
       "    </tr>\n",
       "    <tr>\n",
       "      <th>4</th>\n",
       "      <td>0.264576</td>\n",
       "      <td>0.672684</td>\n",
       "      <td>0.692478</td>\n",
       "      <td>6.065245</td>\n",
       "    </tr>\n",
       "  </tbody>\n",
       "</table>\n",
       "</div>"
      ],
      "text/plain": [
       "          0         1         2    target\n",
       "0  0.076883  0.817245  0.722774  8.332641\n",
       "1  0.484117  0.156508  0.670622  2.582635\n",
       "2  0.571817  0.507034  0.705738  2.579320\n",
       "3  0.852782  0.127106  0.482410 -1.038786\n",
       "4  0.264576  0.672684  0.692478  6.065245"
      ]
     },
     "execution_count": 31,
     "metadata": {},
     "output_type": "execute_result"
    }
   ],
   "source": [
    "X.head()"
   ]
  },
  {
   "cell_type": "markdown",
   "metadata": {},
   "source": [
    "### Recover the formula using linear regression"
   ]
  },
  {
   "cell_type": "code",
   "execution_count": 32,
   "metadata": {
    "collapsed": false
   },
   "outputs": [
    {
     "name": "stdout",
     "output_type": "stream",
     "text": [
      "Intercept: 4.95\n",
      "Coeffs:  [-8.96444748  2.9880128   2.08387353]\n",
      "R-squared: 0.999\n"
     ]
    },
    {
     "data": {
      "text/plain": [
       "[<matplotlib.lines.Line2D at 0x11b023a90>]"
      ]
     },
     "execution_count": 32,
     "metadata": {},
     "output_type": "execute_result"
    },
    {
     "data": {
      "image/png": "[encoded data removed]",
      "text/plain": [
       "<matplotlib.figure.Figure at 0x11a3be310>"
      ]
     },
     "metadata": {},
     "output_type": "display_data"
    }
   ],
   "source": [
    "from sklearn.linear_model import LinearRegression\n",
    "\n",
    "# Fit model\n",
    "linreg = LinearRegression()\n",
    "linreg.fit(X.iloc[:,:-1], X['target'])\n",
    "\n",
    "print 'Intercept: {:.3}'.format(linreg.intercept_)\n",
    "\n",
    "print 'Coeffs: ', linreg.coef_\n",
    "\n",
    "print 'R-squared: {:.3}'.format(linreg.score(X.iloc[:, :-1], X['target']))\n",
    "\n",
    "# Plot predicted vs actual\n",
    "pred = linreg.predict(X.iloc[:,:-1])\n",
    "plt.plot(pred, X['target'], '.')"
   ]
  },
  {
   "cell_type": "markdown",
   "metadata": {},
   "source": [
    "## Logistic Regression"
   ]
  },
  {
   "cell_type": "markdown",
   "metadata": {},
   "source": [
    "Let $y \\in \\{0, 1\\}$ be a random variable (the target) and $X = x_1, \\ldots, x_p$ be a set of _independent_ variables (the predictors). Then\n",
    "$$\n",
    "y \\sim \\cal{Ber}(p)\n",
    "$$\n",
    "where\n",
    "$$\n",
    "p = p(X) = f(w_0 + w_1 x_1 + w_2 x_2 + \\cdots + w_p x_p)\n",
    "$$\n",
    "and $f$ is the _logistic function_\n",
    "$$\n",
    "f(t) = \\frac{1}{1 + e^{-t}}\n",
    "$$"
   ]
  },
  {
   "cell_type": "markdown",
   "metadata": {},
   "source": [
    "### Logistic Regression Test Data\n",
    "\n",
    "Let's generate some sample data that matches the assumptions exactly.\n",
    "\n",
    "1. Set p = 3\n",
    "2. Choose a formula for $p(X)$\n",
    "$$\n",
    "p(X) = f(5 - 9 x_1 + 3 x_2 + 2 x_3)\n",
    "$$"
   ]
  },
  {
   "cell_type": "markdown",
   "metadata": {},
   "source": [
    "#### Exercise: Generate logistic regression data according to the model above."
   ]
  },
  {
   "cell_type": "code",
   "execution_count": 33,
   "metadata": {
    "collapsed": false
   },
   "outputs": [],
   "source": [
    "def sigmoid(t):\n",
    "    return 1 / (1 + np.exp(-t))\n",
    "\n",
    "def make_target_logistic(row):\n",
    "    \"\"\"\n",
    "    Return either 0 or 1, according to a Bernoulli distribution defined by row.\n",
    "    \"\"\"\n",
    "    x, y, z = row[0], row[1], row[2]\n",
    "    p = sigmoid(5 - 9*x + 3*y + 2*z)\n",
    "    return np.random.binomial(1, p)\n",
    "\n",
    "X['target'] = X.apply(lambda row: make_target_logistic(row), 1)"
   ]
  },
  {
   "cell_type": "markdown",
   "metadata": {},
   "source": [
    "#### Recover coefficients"
   ]
  },
  {
   "cell_type": "code",
   "execution_count": 34,
   "metadata": {
    "collapsed": false
   },
   "outputs": [
    {
     "name": "stdout",
     "output_type": "stream",
     "text": [
      "Intercept: [ 6\n",
      "Coeffs:  [[-12.42471417   5.30521971   1.77775537]]\n",
      "Accuracy: 0.92\n"
     ]
    }
   ],
   "source": [
    "from sklearn.linear_model import LogisticRegression\n",
    "\n",
    "# Fit logistic model\n",
    "logit = LogisticRegression(C=1e18)\n",
    "logit.fit(X.iloc[:,:-1], X['target'])\n",
    "\n",
    "print 'Intercept: {:.3}'.format(logit.intercept_)\n",
    "\n",
    "print 'Coeffs: ', logit.coef_\n",
    "\n",
    "print 'Accuracy: {:.3}'.format(logit.score(X.iloc[:, :-1], X['target']))"
   ]
  },
  {
   "cell_type": "code",
   "execution_count": 35,
   "metadata": {
    "collapsed": false
   },
   "outputs": [
    {
     "data": {
      "text/plain": [
       "<matplotlib.axes._subplots.AxesSubplot at 0x11a662ed0>"
      ]
     },
     "execution_count": 35,
     "metadata": {},
     "output_type": "execute_result"
    },
    {
     "data": {
      "image/png": "[encoded data removed]",
      "text/plain": [
       "<matplotlib.figure.Figure at 0x11a675310>"
      ]
     },
     "metadata": {},
     "output_type": "display_data"
    }
   ],
   "source": [
    "results = pd.DataFrame({\n",
    "        'wTx': X.apply(lambda row: np.dot(row[:3], logit.coef_.flatten()), axis=1),\n",
    "        'Predicted Probability': logit.predict_proba(X.iloc[:, :-1])[:,1],\n",
    "        'Actual': X['target']\n",
    "    })\n",
    "\n",
    "ax = results.plot(x='wTx', y='Predicted Probability', kind='scatter', \n",
    "                  label = 'Predicted', color='lightblue')\n",
    "results.plot(x='wTx', y='Actual', kind='scatter', ax=ax, label='Actual')"
   ]
  },
  {
   "cell_type": "markdown",
   "metadata": {},
   "source": [
    "# Regularization"
   ]
  },
  {
   "cell_type": "markdown",
   "metadata": {},
   "source": [
    "For any type of regression, one learns the model parameters by:\n",
    "\n",
    "1. Assume the probabilistic model is correct.\n",
    "2. Compute the _likelihood_ of each data point for a given set of parameters $w_0, \\ldots, w_p$. (just evaluate the PDF at that point and target value)\n",
    "3. Choose the set of parameters that minimizes the total likelihood.\n",
    "\n",
    "For linear regression, it turns out that ${\\cal L} (X) \\sim -||w^T x - y||^2$. So maximizing the likelihood is the same as minimizing the mean-squared error.\n",
    "\n",
    "For logistic regression,\n",
    "$$\n",
    "{\\cal L} (x) := -y \\log(f(w^T x)) - (1 - y) \\log(1 - f(w^Tx))\n",
    "$$\n",
    "\n",
    "In either case, regularization just means that instead of directly minimizing ${\\cal L}(X)$, we also add a penalty on the size of coefficients.\n",
    "\n",
    "#### L1 (Lasso) Regularization\n",
    "\n",
    "Find $w$ that minimizes \n",
    "$$\n",
    "{\\cal L}(X) + \\lambda \\sum_{i=1}^p |w_i|\n",
    "$$\n",
    "\n",
    "#### L2 (Ridge) Regularization\n",
    "\n",
    "Find $w$ that minimizes \n",
    "$$\n",
    "{\\cal L}(X) + \\lambda \\sum_{i=1}^p ||w_i||^2\n",
    "$$\n",
    "\n",
    "#### Elastic Net Regularization\n",
    "\n",
    "Find $w$ that minimizes \n",
    "$$\n",
    "{\\cal L}(X) + (1 - \\alpha) \\cdot \\lambda \\sum_{i=1}^p |w_i|^2 + \\alpha \\cdot \\lambda \\sum_{i=1}^p ||w_i||\n",
    "$$"
   ]
  },
  {
   "cell_type": "markdown",
   "metadata": {},
   "source": [
    "# Application: Crime Data"
   ]
  },
  {
   "cell_type": "code",
   "execution_count": 36,
   "metadata": {
    "collapsed": true
   },
   "outputs": [],
   "source": [
    "from sklearn.model_selection import train_test_split\n",
    "\n",
    "# Load some crime data\n",
    "headers = pd.read_csv('comm_names.txt', squeeze=True)\n",
    "headers = headers.apply(lambda s: s.split()[1])\n",
    "crime = (pd.read_csv('http://archive.ics.uci.edu/ml/machine-learning-databases/communities/communities.data', \n",
    "                    header=None, na_values=['?'], names=headers)\n",
    "         .iloc[:, 5:]\n",
    "         .dropna()\n",
    "         )\n",
    "\n",
    "# Set target and predictors\n",
    "target = 'ViolentCrimesPerPop'\n",
    "predictors = [c for c in crime.columns if not c == target]\n",
    "\n",
    "# Train/test split\n",
    "train_df, test_df = train_test_split(crime, random_state=2)"
   ]
  },
  {
   "cell_type": "code",
   "execution_count": 37,
   "metadata": {
    "collapsed": false
   },
   "outputs": [
    {
     "data": {
      "text/plain": [
       "(239, 122)"
      ]
     },
     "execution_count": 37,
     "metadata": {},
     "output_type": "execute_result"
    }
   ],
   "source": [
    "train_df.shape"
   ]
  },
  {
   "cell_type": "code",
   "execution_count": 38,
   "metadata": {
    "collapsed": false
   },
   "outputs": [
    {
     "data": {
      "text/plain": [
       "(80, 122)"
      ]
     },
     "execution_count": 38,
     "metadata": {},
     "output_type": "execute_result"
    }
   ],
   "source": [
    "test_df.shape"
   ]
  },
  {
   "cell_type": "markdown",
   "metadata": {},
   "source": [
    "## Exercise: \n",
    "\n",
    "1. Fit a linear regression model on train_df. The goal is to predict 'ViolentCrimesPerPop' from the other columns. What is the r-squared on the train data? What about the test data?\n",
    "2. Also fit each of a ridge, lasso, and elastic net regression on the same data. Use the functions RidgeCV, LassoCV, and ElasticNetCV to cross-validate and find the best values of $\\lambda$ and $\\alpha$.\n",
    "3. Which model performs the best?"
   ]
  },
  {
   "cell_type": "markdown",
   "metadata": {},
   "source": [
    "### Linear Regression"
   ]
  },
  {
   "cell_type": "code",
   "execution_count": 39,
   "metadata": {
    "collapsed": false
   },
   "outputs": [
    {
     "data": {
      "text/plain": [
       "LinearRegression(copy_X=True, fit_intercept=True, n_jobs=1, normalize=False)"
      ]
     },
     "execution_count": 39,
     "metadata": {},
     "output_type": "execute_result"
    }
   ],
   "source": [
    "linreg = LinearRegression()\n",
    "linreg.fit(train_df[predictors], train_df[target])\n"
   ]
  },
  {
   "cell_type": "code",
   "execution_count": 40,
   "metadata": {
    "collapsed": false
   },
   "outputs": [
    {
     "name": "stdout",
     "output_type": "stream",
     "text": [
      "Train R-squared: 0.823\n",
      "Test R-squared: 0.509\n"
     ]
    }
   ],
   "source": [
    "print 'Train R-squared: {:.3}'.format(linreg.score(train_df[predictors], train_df[target]))\n",
    "print 'Test R-squared: {:.3}'.format(linreg.score(test_df[predictors], test_df[target]))"
   ]
  },
  {
   "cell_type": "markdown",
   "metadata": {},
   "source": [
    "### Ridge"
   ]
  },
  {
   "cell_type": "code",
   "execution_count": 41,
   "metadata": {
    "collapsed": false
   },
   "outputs": [
    {
     "data": {
      "text/plain": [
       "array([  9.76562500e-04,   1.95312500e-03,   3.90625000e-03,\n",
       "         7.81250000e-03,   1.56250000e-02,   3.12500000e-02,\n",
       "         6.25000000e-02,   1.25000000e-01,   2.50000000e-01,\n",
       "         5.00000000e-01,   1.00000000e+00,   2.00000000e+00,\n",
       "         4.00000000e+00,   8.00000000e+00,   1.60000000e+01,\n",
       "         3.20000000e+01,   6.40000000e+01,   1.28000000e+02,\n",
       "         2.56000000e+02,   5.12000000e+02])"
      ]
     },
     "execution_count": 41,
     "metadata": {},
     "output_type": "execute_result"
    }
   ],
   "source": [
    "2. ** np.arange(-10, 10)"
   ]
  },
  {
   "cell_type": "code",
   "execution_count": 45,
   "metadata": {
    "collapsed": false
   },
   "outputs": [
    {
     "data": {
      "text/plain": [
       "RidgeCV(alphas=array([  5.     ,   5.45455, ...,  49.54545,  50.     ]),\n",
       "    cv=None, fit_intercept=True, gcv_mode=None, normalize=False,\n",
       "    scoring=None, store_cv_values=False)"
      ]
     },
     "execution_count": 45,
     "metadata": {},
     "output_type": "execute_result"
    }
   ],
   "source": [
    "from sklearn.linear_model import RidgeCV\n",
    "\n",
    "# ridge = RidgeCV(alphas= 2. ** np.arange(-10, 10))\n",
    "ridge = RidgeCV(alphas= np.linspace(5, 50, 100))\n",
    "ridge.fit(train_df[predictors], train_df[target])"
   ]
  },
  {
   "cell_type": "code",
   "execution_count": 46,
   "metadata": {
    "collapsed": false
   },
   "outputs": [
    {
     "data": {
      "text/plain": [
       "11.818181818181818"
      ]
     },
     "execution_count": 46,
     "metadata": {},
     "output_type": "execute_result"
    }
   ],
   "source": [
    "ridge.alpha_"
   ]
  },
  {
   "cell_type": "code",
   "execution_count": 47,
   "metadata": {
    "collapsed": false
   },
   "outputs": [
    {
     "name": "stdout",
     "output_type": "stream",
     "text": [
      "Train R-squared: 0.661\n",
      "Test R-squared: 0.713\n"
     ]
    }
   ],
   "source": [
    "print 'Train R-squared: {:.3}'.format(ridge.score(train_df[predictors], train_df[target]))\n",
    "print 'Test R-squared: {:.3}'.format(ridge.score(test_df[predictors], test_df[target]))"
   ]
  },
  {
   "cell_type": "markdown",
   "metadata": {},
   "source": [
    "### Lasso"
   ]
  },
  {
   "cell_type": "code",
   "execution_count": 48,
   "metadata": {
    "collapsed": false
   },
   "outputs": [
    {
     "data": {
      "text/plain": [
       "LassoCV(alphas=array([  9.76562e-04,   1.95312e-03,   3.90625e-03,   7.81250e-03,\n",
       "         1.56250e-02,   3.12500e-02,   6.25000e-02,   1.25000e-01,\n",
       "         2.50000e-01,   5.00000e-01,   1.00000e+00,   2.00000e+00,\n",
       "         4.00000e+00,   8.00000e+00,   1.60000e+01,   3.20000e+01,\n",
       "         6.40000e+01,   1.28000e+02,   2.56000e+02,   5.12000e+02]),\n",
       "    copy_X=True, cv=None, eps=0.001, fit_intercept=True, max_iter=1000,\n",
       "    n_alphas=100, n_jobs=1, normalize=False, positive=False,\n",
       "    precompute='auto', random_state=None, selection='cyclic', tol=0.0001,\n",
       "    verbose=False)"
      ]
     },
     "execution_count": 48,
     "metadata": {},
     "output_type": "execute_result"
    }
   ],
   "source": [
    "from sklearn.linear_model import LassoCV\n",
    "lasso = LassoCV(alphas= 2. ** np.arange(-10, 10))\n",
    "lasso.fit(train_df[predictors], train_df[target])"
   ]
  },
  {
   "cell_type": "code",
   "execution_count": 49,
   "metadata": {
    "collapsed": false
   },
   "outputs": [
    {
     "name": "stdout",
     "output_type": "stream",
     "text": [
      "Train R-squared: 0.661\n",
      "Test R-squared: 0.722\n"
     ]
    }
   ],
   "source": [
    "print 'Train R-squared: {:.3}'.format(lasso.score(train_df[predictors], train_df[target]))\n",
    "print 'Test R-squared: {:.3}'.format(lasso.score(test_df[predictors], test_df[target]))"
   ]
  },
  {
   "cell_type": "markdown",
   "metadata": {},
   "source": [
    "### Elastic Net"
   ]
  },
  {
   "cell_type": "code",
   "execution_count": 50,
   "metadata": {
    "collapsed": false
   },
   "outputs": [
    {
     "data": {
      "text/plain": [
       "ElasticNetCV(alphas=array([  9.76562e-04,   1.95312e-03,   3.90625e-03,   7.81250e-03,\n",
       "         1.56250e-02,   3.12500e-02,   6.25000e-02,   1.25000e-01,\n",
       "         2.50000e-01,   5.00000e-01,   1.00000e+00,   2.00000e+00,\n",
       "         4.00000e+00,   8.00000e+00,   1.60000e+01,   3.20000e+01,\n",
       "         6.40000e+01,   1.28000e+02,   2.56000e+02,   5.12000e+02]),\n",
       "       copy_X=True, cv=None, eps=0.001, fit_intercept=True,\n",
       "       l1_ratio=array([ 0.05   ,  0.09737,  0.14474,  0.19211,  0.23947,  0.28684,\n",
       "        0.33421,  0.38158,  0.42895,  0.47632,  0.52368,  0.57105,\n",
       "        0.61842,  0.66579,  0.71316,  0.76053,  0.80789,  0.85526,\n",
       "        0.90263,  0.95   ]),\n",
       "       max_iter=1000, n_alphas=100, n_jobs=1, normalize=False,\n",
       "       positive=False, precompute='auto', random_state=None,\n",
       "       selection='cyclic', tol=0.0001, verbose=0)"
      ]
     },
     "execution_count": 50,
     "metadata": {},
     "output_type": "execute_result"
    }
   ],
   "source": [
    "from sklearn.linear_model import ElasticNetCV\n",
    "en = ElasticNetCV(l1_ratio=np.linspace(.05, .95, 20), alphas= 2. ** np.arange(-10, 10))\n",
    "en.fit(train_df[predictors], train_df[target])"
   ]
  },
  {
   "cell_type": "code",
   "execution_count": 51,
   "metadata": {
    "collapsed": false
   },
   "outputs": [
    {
     "name": "stdout",
     "output_type": "stream",
     "text": [
      "Train R-squared: 0.655\n",
      "Test R-squared: 0.721\n"
     ]
    }
   ],
   "source": [
    "print 'Train R-squared: {:.3}'.format(en.score(train_df[predictors], train_df[target]))\n",
    "print 'Test R-squared: {:.3}'.format(en.score(test_df[predictors], test_df[target]))"
   ]
  },
  {
   "cell_type": "markdown",
   "metadata": {},
   "source": [
    "## Exercise:\n",
    "\n",
    "1. Make the following scatterplot\n",
    "    - Each point corresponds to one predictor in the data\n",
    "    - The x-value is the coefficient of that predictor under OLS regression\n",
    "    - The y-value is the coefficient of that predictor using ridge regularization\n",
    "2. Do the same for OLS vs Lasso, and OLS vs ElasticNet"
   ]
  },
  {
   "cell_type": "code",
   "execution_count": 52,
   "metadata": {
    "collapsed": false
   },
   "outputs": [],
   "source": [
    "coeffs = pd.DataFrame({\n",
    "        'OLS': linreg.coef_,\n",
    "        'Ridge': ridge.coef_,\n",
    "        'Lasso': lasso.coef_,\n",
    "        'ElasticNet': en.coef_\n",
    "    })"
   ]
  },
  {
   "cell_type": "code",
   "execution_count": 53,
   "metadata": {
    "collapsed": false
   },
   "outputs": [
    {
     "data": {
      "text/plain": [
       "<matplotlib.axes._subplots.AxesSubplot at 0x11b219d50>"
      ]
     },
     "execution_count": 53,
     "metadata": {},
     "output_type": "execute_result"
    },
    {
     "data": {
      "image/png": "[encoded data removed]",
      "text/plain": [
       "<matplotlib.figure.Figure at 0x1178b9450>"
      ]
     },
     "metadata": {},
     "output_type": "display_data"
    }
   ],
   "source": [
    "coeffs.plot(x='OLS', y='Ridge', kind='scatter')"
   ]
  },
  {
   "cell_type": "code",
   "execution_count": 54,
   "metadata": {
    "collapsed": false
   },
   "outputs": [
    {
     "data": {
      "text/plain": [
       "<matplotlib.axes._subplots.AxesSubplot at 0x11b3258d0>"
      ]
     },
     "execution_count": 54,
     "metadata": {},
     "output_type": "execute_result"
    },
    {
     "data": {
      "image/png": "[encoded data removed]",
      "text/plain": [
       "<matplotlib.figure.Figure at 0x11b4a9110>"
      ]
     },
     "metadata": {},
     "output_type": "display_data"
    }
   ],
   "source": [
    "coeffs.plot(x='OLS', y='Lasso', kind='scatter')"
   ]
  },
  {
   "cell_type": "code",
   "execution_count": 55,
   "metadata": {
    "collapsed": false
   },
   "outputs": [
    {
     "data": {
      "text/plain": [
       "<matplotlib.axes._subplots.AxesSubplot at 0x11b5bea10>"
      ]
     },
     "execution_count": 55,
     "metadata": {},
     "output_type": "execute_result"
    },
    {
     "data": {
      "image/png": "[encoded data removed]",
      "text/plain": [
       "<matplotlib.figure.Figure at 0x11b5d1650>"
      ]
     },
     "metadata": {},
     "output_type": "display_data"
    }
   ],
   "source": [
    "coeffs.plot(x='OLS', y='ElasticNet', kind='scatter')"
   ]
  },
  {
   "cell_type": "markdown",
   "metadata": {},
   "source": [
    "## Question: \n",
    "\n",
    "What is the story with the two 'large coefficients' found by OLS that are squashed by regularization? (You may have to do some digging)"
   ]
  },
  {
   "cell_type": "code",
   "execution_count": 56,
   "metadata": {
    "collapsed": false
   },
   "outputs": [
    {
     "name": "stdout",
     "output_type": "stream",
     "text": [
      "    PolicPerPop  LemasSwFTPerPop\n",
      "8          0.13             0.13\n",
      "36         0.30             0.30\n",
      "6          0.08             0.08\n",
      "12         0.16             0.16\n",
      "19         0.11             0.11\n"
     ]
    },
    {
     "data": {
      "text/plain": [
       "<matplotlib.axes._subplots.AxesSubplot at 0x11b5d18d0>"
      ]
     },
     "execution_count": 56,
     "metadata": {},
     "output_type": "execute_result"
    },
    {
     "data": {
      "image/png": "[encoded data removed]",
      "text/plain": [
       "<matplotlib.figure.Figure at 0x11b5a82d0>"
      ]
     },
     "metadata": {},
     "output_type": "display_data"
    }
   ],
   "source": [
    "# Get index of largest two coefficients, in absolute value\n",
    "idx = np.argsort(np.abs(linreg.coef_))[-2:]\n",
    "\n",
    "# Get the predictor names\n",
    "offenders = [predictors[i] for i in idx]\n",
    "\n",
    "# Take a look\n",
    "print crime[offenders].head()\n",
    "crime.plot(x='PctRecImmig8', y='PctRecImmig10', kind='scatter')"
   ]
  },
  {
   "cell_type": "markdown",
   "metadata": {},
   "source": [
    "They are almost perfectly correlated. OLS was learning a large positive coefficient for one and canceling it out with the coefficient of the other."
   ]
  },
  {
   "cell_type": "markdown",
   "metadata": {
    "collapsed": true
   },
   "source": [
    "## Question:\n",
    "\n",
    "Can we tell from this process which predictors are _the most important_ for predicting violent crimes?"
   ]
  },
  {
   "cell_type": "markdown",
   "metadata": {},
   "source": [
    "Answer: Not really. It's tempting to pick the largest coefficients from the regularized model and say that these are the most important features, but there are a couple of caveats:\n",
    "\n",
    "1. None of the features have been normalized (that we know of). For example, suppose some model has a distance as one of the predictors. The coefficient of that feature will be very different if the distance is measured in inches rather than meters.\n",
    "2. Some of the predictors may be correlated (we have already seen that some are). So there may be some feature that is highly correlated with violent crimes, but it is is also well 'predicted' by another feature in the data, so its coefficient is set to zero."
   ]
  },
  {
   "cell_type": "code",
   "execution_count": null,
   "metadata": {
    "collapsed": true
   },
   "outputs": [],
   "source": []
  }
 ],
 "metadata": {
  "anaconda-cloud": {},
  "kernelspec": {
   "display_name": "Python [conda root]",
   "language": "python",
   "name": "conda-root-py"
  },
  "language_info": {
   "codemirror_mode": {
    "name": "ipython",
    "version": 2
   },
   "file_extension": ".py",
   "mimetype": "text/x-python",
   "name": "python",
   "nbconvert_exporter": "python",
   "pygments_lexer": "ipython2",
   "version": "2.7.12"
  }
 },
 "nbformat": 4,
 "nbformat_minor": 1
}
