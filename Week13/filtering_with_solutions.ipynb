{
 "cells": [
  {
   "cell_type": "markdown",
   "metadata": {},
   "source": [
    "# Recommended Joke Notebook"
   ]
  },
  {
   "cell_type": "markdown",
   "metadata": {},
   "source": [
    "Today, we'll use some joke rating data to check out recommendating systems, in particular collaborative filtering:\n",
    "\n",
    "Here's a link to the place where I got the data:\n",
    "http://goldberg.berkeley.edu/jester-data/\n",
    "\n",
    "Check out some jokes, and get recommended jokes based on your ratings:\n",
    "http://eigentaste.berkeley.edu/"
   ]
  },
  {
   "cell_type": "code",
   "execution_count": 62,
   "metadata": {
    "collapsed": false,
    "scrolled": true
   },
   "outputs": [],
   "source": [
    "%matplotlib inline\n",
    "\n",
    "import numpy as np\n",
    "import scipy as sp\n",
    "import pandas as pd\n",
    "import matplotlib.pyplot as plt"
   ]
  },
  {
   "cell_type": "markdown",
   "metadata": {},
   "source": [
    "### Load the Data\n",
    "\n",
    "- Each row is a user\n",
    "- The first column is the total number of jokes rated by that user.\n",
    "- The remaining columns are the ratings of the individual jokes, from -10 to 10\n",
    "- An entry of 99 means no rating."
   ]
  },
  {
   "cell_type": "code",
   "execution_count": 69,
   "metadata": {
    "collapsed": false
   },
   "outputs": [
    {
     "data": {
      "text/plain": [
       "array([[-7.82,  8.79, -9.66, -8.16, -7.52],\n",
       "       [ 4.08, -0.29,  6.36,  4.37, -2.38],\n",
       "       [ 0.  ,  0.  ,  0.  ,  0.  ,  9.03],\n",
       "       [ 0.  ,  8.35,  0.  ,  0.  ,  1.8 ],\n",
       "       [ 8.5 ,  4.61, -4.17, -5.39,  1.36]])"
      ]
     },
     "execution_count": 69,
     "metadata": {},
     "output_type": "execute_result"
    }
   ],
   "source": [
    "data = pd.read_csv('jester_data.csv', header=None).values\n",
    "data[data==99] = 0\n",
    "number_rated = data[:, 0]\n",
    "ratings = data[:, 1:]\n",
    "ratings[:5,:5]"
   ]
  },
  {
   "cell_type": "code",
   "execution_count": 68,
   "metadata": {
    "collapsed": false
   },
   "outputs": [
    {
     "data": {
      "text/plain": [
       "(73421, 100)"
      ]
     },
     "execution_count": 68,
     "metadata": {},
     "output_type": "execute_result"
    }
   ],
   "source": [
    "ratings.shape"
   ]
  },
  {
   "cell_type": "markdown",
   "metadata": {},
   "source": [
    "# Do some EDA on the data\n",
    "\n",
    "How many jokes does an average person rate? What is most jokes rated? What is the fewest number of jokes rated?\n",
    "\n",
    "How many ratings on average does each joke have?\n",
    "\n",
    "What is a joke with the most ratings? Which is one with the fewest ratings?\n",
    "\n",
    "What is the average rating for all jokes? (Be sure to exclude the 0 values!)"
   ]
  },
  {
   "cell_type": "code",
   "execution_count": 70,
   "metadata": {
    "collapsed": false
   },
   "outputs": [
    {
     "name": "stdout",
     "output_type": "stream",
     "text": [
      "Average number of jokes rated:  56.1177728443\n",
      "Most jokes rated by a user:  100.0\n",
      "Fewest jokes rated by a user:  0.0\n",
      "No. ratings per joke:  41237.56\n",
      "A most rated joke index:  15  with  73222 ratings\n",
      "Least rated joke index:  70  with  18466 ratings\n",
      "Average rating for all jokes:  0.744414829587\n"
     ]
    }
   ],
   "source": [
    "print \"Average number of jokes rated: \", number_rated.mean()\n",
    "print \"Most jokes rated by a user: \", number_rated.max()\n",
    "print \"Fewest jokes rated by a user: \", number_rated.min()\n",
    "\n",
    "joke_has_rating = (ratings != 0)\n",
    "n_joke_ratings = np.sum(joke_has_rating, 0)\n",
    "\n",
    "print \"No. ratings per joke: \", n_joke_ratings.mean()\n",
    "print \"A most rated joke index: \", np.argmax(n_joke_ratings), \" with \", n_joke_ratings.max(), \"ratings\"\n",
    "print \"Least rated joke index: \", np.argmin(n_joke_ratings), \" with \", n_joke_ratings.min(), \"ratings\"\n",
    "\n",
    "print \"Average rating for all jokes: \", (data[:, 1:][data[:, 1:]!=0]).mean()"
   ]
  },
  {
   "cell_type": "markdown",
   "metadata": {},
   "source": [
    "# Unregularized SVD Based Collaborative Filtering\n",
    "\n",
    "## step 1: full SVD\n",
    "\n",
    "We'll do a simple though not very effective way at collaborative filtering: a simple SVD approach.\n",
    "\n",
    "SVD (singular value decomposition) is a way of decomposing a matrix into thing like eigenvectors and eigenvalues. It looks like this for a matrix M:\n",
    "\n",
    "M = U * S * V\n",
    "\n",
    "Here, if we suppose M is an n by p matrix:\n",
    "U is an N by p matrix\n",
    "S is a p by p diagonal matrix\n",
    "V is a p by p matrix\n",
    "\n",
    "In our problem, we have n users rating p jokes\n",
    "\n",
    "In recommender problems, it has the interpretation as follows:\n",
    "U is a representation of the users, as p features\n",
    "V is a representation of the jokes, as p features (different from those in U)\n",
    "S is a vector that gives the joint importance of both feature sets"
   ]
  },
  {
   "cell_type": "code",
   "execution_count": 72,
   "metadata": {
    "collapsed": false
   },
   "outputs": [
    {
     "name": "stdout",
     "output_type": "stream",
     "text": [
      "(73421, 100)\n",
      "(100,)\n",
      "(100, 100)\n",
      "[[-7.82  8.79 -9.66 ...,  0.    0.    0.  ]\n",
      " [ 4.08 -0.29  6.36 ...,  0.34 -4.32  1.07]\n",
      " [ 0.    0.    0.   ...,  0.    0.    0.  ]\n",
      " ..., \n",
      " [ 0.    0.    0.   ...,  0.    0.    0.  ]\n",
      " [ 0.    0.    0.   ...,  0.    0.    0.  ]\n",
      " [ 0.    0.    0.   ...,  0.    0.    0.  ]]\n",
      "[[ -7.82000000e+00   8.79000000e+00  -9.66000000e+00 ...,  -3.81916720e-14\n",
      "   -4.49640325e-14  -4.88498131e-14]\n",
      " [  4.08000000e+00  -2.90000000e-01   6.36000000e+00 ...,   3.40000000e-01\n",
      "   -4.32000000e+00   1.07000000e+00]\n",
      " [  1.72220864e-14   2.00666511e-14   1.74712122e-14 ...,   7.10542736e-15\n",
      "    4.44089210e-15  -8.88178420e-15]\n",
      " ..., \n",
      " [  4.78143928e-16  -4.00068618e-15  -1.30492825e-14 ...,  -1.55431223e-15\n",
      "   -7.93809463e-15  -2.22044605e-15]\n",
      " [  4.83791321e-15   4.75440058e-15   3.98015344e-15 ...,  -4.44089210e-15\n",
      "    5.55111512e-17  -8.88178420e-16]\n",
      " [  1.28097179e-14   6.83171962e-15  -5.88573051e-16 ...,  -1.30451205e-15\n",
      "    7.21644966e-15  -1.35447209e-14]]\n"
     ]
    }
   ],
   "source": [
    "# full svd; note the first column is dropped since that has the number of jokes rated, we don't care about that\n",
    "u, s, v = np.linalg.svd(ratings, full_matrices=False)\n",
    "\n",
    "print u.shape\n",
    "print s.shape\n",
    "print v.shape\n",
    "\n",
    "# these are (nearly) the same, that's the decomposition!\n",
    "print data[:, 1:]\n",
    "print np.dot(np.dot(u, np.diag(s)), v) # the full reconstruction"
   ]
  },
  {
   "cell_type": "markdown",
   "metadata": {},
   "source": [
    "##  Step 2: Filling in values by truncating the SVD\n",
    "\n",
    "The SVD above just recovers the original matrix. That is not very interesting, we want to get a new estimate for those missing values. To do this, we need to drop dimensions.\n",
    "\n",
    "Inspect S, you should see that it is sorted in decreasing order. Write code to only take the first few dimensions in each of the projections. This means simply to replace the matrix S (you will have to construct it using np.diag) with a new matrix with many of the diagonal values zeroed out."
   ]
  },
  {
   "cell_type": "code",
   "execution_count": 73,
   "metadata": {
    "collapsed": false
   },
   "outputs": [],
   "source": [
    "n_comp = 10\n",
    "\n",
    "# make a new s vector with only the first few values kept\n",
    "s_padded = np.zeros(len(s))\n",
    "s_padded[:n_comp] = s[:n_comp]\n",
    "\n",
    "filled_in = np.dot(np.dot(u, np.diag(s_padded)), v)"
   ]
  },
  {
   "cell_type": "markdown",
   "metadata": {},
   "source": [
    "You should now have an approximation to the original matrix. Take the filled in values only and compare them to the non filled in values, do this for a few users and jokes. You might find it useful to write a function to inspect a row or column. Considering doing things like:\n",
    "\n",
    "0. Count how many values are filled in, how many were already present for that row / column\n",
    "1. Compare the range of the filled in values with those not filled in within the row or column\n",
    "2. Compare the mean of the filled in values with those not filled in within the row or column"
   ]
  },
  {
   "cell_type": "code",
   "execution_count": 74,
   "metadata": {
    "collapsed": false
   },
   "outputs": [
    {
     "name": "stdout",
     "output_type": "stream",
     "text": [
      "Inspection of joke  14\n",
      "This joke has  73214  values present,  207  were predicted.\n",
      "mean of predicted values:  -1.42482525698\n",
      "mean of old values:  -2.11804600213\n",
      "max of predicted values:  5.1484448335\n",
      "min of predicted values:  -8.28764882286\n",
      "max of old values:  9.9\n",
      "min of old values:  -9.95\n",
      "\n",
      "-----\n",
      "\n",
      "Inspection of user  2\n",
      "This user has  49  values present,  51  were predicted.\n",
      "mean of predicted values:  1.58030364762\n",
      "mean of old values:  7.0993877551\n",
      "max of predicted values:  4.94446436654\n",
      "min of predicted values:  -1.22045527039\n",
      "max of old values:  9.37\n",
      "min of old values:  -7.86\n"
     ]
    }
   ],
   "source": [
    "def inspect_filled_in_joke(ii):\n",
    "    print \"Inspection of joke \", ii\n",
    "    preds = filled_in[:, ii][ratings[:, ii] == 0]\n",
    "    non_preds = ratings[:, ii][ratings[:, ii] != 0]\n",
    "    \n",
    "    print \"This joke has \", len(non_preds), \" values present, \", len(preds), \" were predicted.\"\n",
    "\n",
    "    print \"mean of predicted values: \", preds.mean()\n",
    "    print \"mean of old values: \", non_preds.mean()\n",
    "\n",
    "    print \"max of predicted values: \", np.max(preds)\n",
    "    print \"min of predicted values: \", np.min(preds)\n",
    "\n",
    "    print \"max of old values: \", np.max(non_preds)\n",
    "    print \"min of old values: \", np.min(non_preds)\n",
    "    \n",
    "def inspect_filled_in_user(ii):\n",
    "    print \"Inspection of user \", ii\n",
    "    preds = filled_in[ii, :][ratings[ii, :] == 0]\n",
    "    non_preds = ratings[ii, :][ratings[ii, :] != 0]\n",
    "    \n",
    "    print \"This user has \", len(non_preds), \" values present, \", len(preds), \" were predicted.\"\n",
    "\n",
    "    print \"mean of predicted values: \", preds.mean()\n",
    "    print \"mean of old values: \", non_preds.mean()\n",
    "\n",
    "    print \"max of predicted values: \", np.max(preds)\n",
    "    print \"min of predicted values: \", np.min(preds)\n",
    "\n",
    "    print \"max of old values: \", np.max(non_preds)\n",
    "    print \"min of old values: \", np.min(non_preds)\n",
    "\n",
    "inspect_filled_in_joke(14)\n",
    "print \"\\n-----\\n\"\n",
    "inspect_filled_in_user(2)"
   ]
  },
  {
   "cell_type": "markdown",
   "metadata": {},
   "source": [
    "## Step 3: Let's actually use this thing. \n",
    "\n",
    "Write a function to recommend a joke (s)he's not rated to a user who has at least one unrated joke. Use it for a few people and print the results.\n",
    "\n",
    "Use it on all users and make a histogram of the recommendations. Compare this to a histogram of missing values (number of times a joke was not rated). Does this system recommend a joke very often? Does it make sense?"
   ]
  },
  {
   "cell_type": "code",
   "execution_count": 75,
   "metadata": {
    "collapsed": false
   },
   "outputs": [
    {
     "name": "stdout",
     "output_type": "stream",
     "text": [
      "User  0  should laugh at joke  88\n",
      "User  1  already rated all the jokes!\n",
      "User  2  should laugh at joke  62\n",
      "User  3  should laugh at joke  60\n",
      "User  4  should laugh at joke  71\n",
      "User  5  already rated all the jokes!\n",
      "User  6  should laugh at joke  41\n",
      "User  7  should laugh at joke  99\n",
      "User  8  already rated all the jokes!\n",
      "User  9  should laugh at joke  99\n",
      "User  10  should laugh at joke  53\n",
      "User  11  should laugh at joke  73\n",
      "User  12  should laugh at joke  25\n",
      "User  13  already rated all the jokes!\n",
      "User  14  already rated all the jokes!\n",
      "User  15  should laugh at joke  16\n",
      "User  16  should laugh at joke  57\n",
      "User  17  already rated all the jokes!\n",
      "User  18  should laugh at joke  10\n",
      "User  19  should laugh at joke  97\n",
      "User  20  should laugh at joke  88\n",
      "User  21  should laugh at joke  2\n",
      "User  22  should laugh at joke  88\n",
      "User  23  already rated all the jokes!\n",
      "User  24  should laugh at joke  93\n",
      "[88 62 60 71 41 99 99 53 73 25 16 57 10 97 88  2 88 93]\n",
      "Inspection of joke  88\n",
      "This joke has  20395  values present,  53026  were predicted.\n",
      "mean of predicted values:  0.430584450754\n",
      "mean of old values:  3.35590585928\n",
      "max of predicted values:  5.58835644608\n",
      "min of predicted values:  -5.55018008413\n",
      "max of old values:  9.42\n",
      "min of old values:  -9.95\n"
     ]
    },
    {
     "data": {
      "image/png": "[encoded data removed]",
      "text/plain": [
       "<matplotlib.figure.Figure at 0x116123510>"
      ]
     },
     "metadata": {},
     "output_type": "display_data"
    }
   ],
   "source": [
    "def recommend_to_user(ii, verbose = True):\n",
    "    preds = filled_in[ii, :][ratings[ii, :] == 0]\n",
    "    non_preds = ratings[ii, :][ratings[ii, :] != 0]\n",
    "    \n",
    "    if len(preds) > 0:\n",
    "        rec = np.where([ratings[ii, :] == 0])[1][np.argmax(preds)]\n",
    "        if verbose:\n",
    "            print \"User \", ii, \" should laugh at joke \", rec\n",
    "    else:\n",
    "        if verbose:\n",
    "            print \"User \", ii, \" already rated all the jokes!\"\n",
    "        rec = -1\n",
    "    return rec\n",
    "\n",
    "recs = []\n",
    "for user_index in range(0, 25):\n",
    "    recs.append(recommend_to_user(user_index))\n",
    "    \n",
    "recs = np.array(recs)\n",
    "recs = recs[recs != -1]\n",
    "print recs\n",
    "\n",
    "recs = []\n",
    "for user_index in range(data.shape[0]):\n",
    "    recs.append(recommend_to_user(user_index, False))\n",
    "    \n",
    "recs = np.array(recs)\n",
    "recs = recs[recs != -1]\n",
    "\n",
    "not_rated_hist = []\n",
    "for ii in range(ratings.shape[0]):\n",
    "    for jj in range(ratings.shape[1]):\n",
    "        if ratings[ii, jj] == 0:\n",
    "            not_rated_hist.append(jj)\n",
    "\n",
    "plt.figure(figsize=(8, 4))\n",
    "\n",
    "plt.subplot(1, 2, 1)\n",
    "plt.hist(recs, np.ptp(recs) + 1)\n",
    "plt.title(\"Joke Recommendation Histogram\")\n",
    "            \n",
    "plt.subplot(1, 2, 2)\n",
    "plt.hist(not_rated_hist, np.ptp(not_rated_hist) + 1)\n",
    "plt.title(\"Joke Recommendation Histogram (missing-ness)\")\n",
    "\n",
    "# it appears joke 88 is a really popular recommendation!\n",
    "inspect_filled_in_joke(88)"
   ]
  },
  {
   "cell_type": "markdown",
   "metadata": {
    "collapsed": true
   },
   "source": [
    "## Step 4: Examining the joke and user spaces\n",
    "\n",
    "The SVD gave us projections of both the users and the jokes. Let's see if those projections give us any insight.\n",
    "\n",
    "Now, plot the first two rows (the projection dimensions appear on the rows here) of the joke projection matrix. Are there different types of jokes?\n",
    "\n",
    "Plot the first two columns (the projection dimensions appear on the columns here) of the user projection matrix. Are there different types of users?"
   ]
  },
  {
   "cell_type": "code",
   "execution_count": 76,
   "metadata": {
    "collapsed": false
   },
   "outputs": [
    {
     "data": {
      "text/plain": [
       "<matplotlib.text.Text at 0x120872050>"
      ]
     },
     "execution_count": 76,
     "metadata": {},
     "output_type": "execute_result"
    },
    {
     "data": {
      "image/png": "[encoded data removed]",
      "text/plain": [
       "<matplotlib.figure.Figure at 0x11fe16e10>"
      ]
     },
     "metadata": {},
     "output_type": "display_data"
    },
    {
     "data": {
      "image/png": "[encoded data removed]",
      "text/plain": [
       "<matplotlib.figure.Figure at 0x11861d050>"
      ]
     },
     "metadata": {},
     "output_type": "display_data"
    }
   ],
   "source": [
    "# looks interesting!\n",
    "plt.figure()\n",
    "plt.subplot(1, 2, 1)\n",
    "plt.scatter(v[0, :], v[1, :])\n",
    "plt.title(\"Joke space coords 0, 1\")\n",
    "plt.subplot(1, 2, 2)\n",
    "plt.scatter(v[2, :], v[3, :])\n",
    "plt.title(\"Joke space coords 2, 3\")\n",
    "\n",
    "# I have no idea\n",
    "plt.figure()\n",
    "plt.subplot(1, 2, 1)\n",
    "plt.scatter(u[:, 0], u[:, 1])\n",
    "plt.title(\"User space coords 0, 1\")\n",
    "plt.subplot(1, 2, 2)\n",
    "plt.scatter(u[:, 2], u[:, 3])\n",
    "plt.title(\"User space coords 2, 3\")"
   ]
  },
  {
   "cell_type": "code",
   "execution_count": null,
   "metadata": {
    "collapsed": true
   },
   "outputs": [],
   "source": []
  }
 ],
 "metadata": {
  "anaconda-cloud": {},
  "kernelspec": {
   "display_name": "Python [default]",
   "language": "python",
   "name": "python2"
  },
  "language_info": {
   "codemirror_mode": {
    "name": "ipython",
    "version": 2
   },
   "file_extension": ".py",
   "mimetype": "text/x-python",
   "name": "python",
   "nbconvert_exporter": "python",
   "pygments_lexer": "ipython2",
   "version": "2.7.13"
  }
 },
 "nbformat": 4,
 "nbformat_minor": 0
}
