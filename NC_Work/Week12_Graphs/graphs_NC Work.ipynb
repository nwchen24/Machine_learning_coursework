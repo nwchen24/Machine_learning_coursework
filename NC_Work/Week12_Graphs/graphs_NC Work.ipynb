{
 "cells": [
  {
   "cell_type": "markdown",
   "metadata": {},
   "source": [
    "# Graphs"
   ]
  },
  {
   "cell_type": "markdown",
   "metadata": {},
   "source": [
    "In this notebook, you will practice using networkx to interact with a graph in Python."
   ]
  },
  {
   "cell_type": "code",
   "execution_count": 1,
   "metadata": {
    "collapsed": false
   },
   "outputs": [],
   "source": [
    "import networkx as nx\n",
    "import numpy as np\n",
    "import pandas as pd\n",
    "import community as community\n",
    "\n",
    "import matplotlib.pyplot as plt\n",
    "%matplotlib inline"
   ]
  },
  {
   "cell_type": "markdown",
   "metadata": {},
   "source": [
    "#### Load the IMDB actors graph"
   ]
  },
  {
   "cell_type": "markdown",
   "metadata": {},
   "source": [
    "Each actor in the IMDB database is a node. There is an edge between those two nodes if the actors have appeared in a movie together"
   ]
  },
  {
   "cell_type": "code",
   "execution_count": 2,
   "metadata": {
    "collapsed": true
   },
   "outputs": [],
   "source": [
    "G = nx.read_edgelist('data/actor_edges.tsv', delimiter='\\t')"
   ]
  },
  {
   "cell_type": "code",
   "execution_count": 3,
   "metadata": {
    "collapsed": false
   },
   "outputs": [
    {
     "name": "stdout",
     "output_type": "stream",
     "text": [
      "John Shea\tRachel Miner\r\n",
      "Eddie Martinez\tIan Duncan\r\n",
      "Concetta Tomei\tThea Gill\r\n",
      "Ashley Brightwell\tTed Myre\r\n",
      "Andre Royo\tJulianna Gabert\r\n",
      "Jessica Schwarz\tRamon Pujol\r\n",
      "Danielle Kotch\tLorraine Aceves\r\n",
      "Chantell D. Christopher\tTamela Mann\r\n",
      "Alexis Arquette\tLochlyn Munro\r\n",
      "Demi Petersen\tTalon G. Ackerman\r\n"
     ]
    }
   ],
   "source": [
    "!head data/actor_edges.tsv"
   ]
  },
  {
   "cell_type": "markdown",
   "metadata": {},
   "source": [
    "Total number of nodes (actors)"
   ]
  },
  {
   "cell_type": "code",
   "execution_count": 4,
   "metadata": {
    "collapsed": false
   },
   "outputs": [
    {
     "data": {
      "text/plain": [
       "80249"
      ]
     },
     "execution_count": 4,
     "metadata": {},
     "output_type": "execute_result"
    }
   ],
   "source": [
    "G.number_of_nodes()"
   ]
  },
  {
   "cell_type": "markdown",
   "metadata": {},
   "source": [
    "Total number of edges"
   ]
  },
  {
   "cell_type": "code",
   "execution_count": 5,
   "metadata": {
    "collapsed": false
   },
   "outputs": [
    {
     "data": {
      "text/plain": [
       "1332443"
      ]
     },
     "execution_count": 5,
     "metadata": {},
     "output_type": "execute_result"
    }
   ],
   "source": [
    "G.number_of_edges()"
   ]
  },
  {
   "cell_type": "markdown",
   "metadata": {},
   "source": [
    "Take a look at the notes and edges"
   ]
  },
  {
   "cell_type": "code",
   "execution_count": 6,
   "metadata": {
    "collapsed": false
   },
   "outputs": [
    {
     "data": {
      "text/plain": [
       "[u'Alex Zahara',\n",
       " u'Sam Saliba',\n",
       " u'Chellis Glendinning',\n",
       " u'Zamariah Zane Loupe',\n",
       " u'John Eatherly',\n",
       " u'John Dartt',\n",
       " u'Omid Djalili',\n",
       " u'Jacki Weaver',\n",
       " u'Kim LeBlanc',\n",
       " u'Dan Finnerty',\n",
       " u'Kyrrin Marshall',\n",
       " u'Negar Saberi',\n",
       " u'Barry Sigismondi',\n",
       " u'Richard Holden',\n",
       " u'Dale Mattison']"
      ]
     },
     "execution_count": 6,
     "metadata": {},
     "output_type": "execute_result"
    }
   ],
   "source": [
    "G.nodes()[:15]"
   ]
  },
  {
   "cell_type": "code",
   "execution_count": 7,
   "metadata": {
    "collapsed": false
   },
   "outputs": [
    {
     "data": {
      "text/plain": [
       "[(u'Alex Zahara', u'Valin Shinyei'),\n",
       " (u'Alex Zahara', u'Aleks Paunovic'),\n",
       " (u'Alex Zahara', u'Tiera Skovbye'),\n",
       " (u'Alex Zahara', u'Christa Campbell'),\n",
       " (u'Alex Zahara', u'Kansas Joe McCoy'),\n",
       " (u'Alex Zahara', u'Steph DuVall'),\n",
       " (u'Alex Zahara', u'Kaj-Erik Eriksen'),\n",
       " (u'Alex Zahara', u'Rio Alexander'),\n",
       " (u'Alex Zahara', u'Arron Shiver'),\n",
       " (u'Alex Zahara', u'Laine MacNeil'),\n",
       " (u'Alex Zahara', u'Mark McConchie'),\n",
       " (u'Alex Zahara', u'Andee Frizzell'),\n",
       " (u'Alex Zahara', u'Paralee Cook'),\n",
       " (u'Alex Zahara', u'William McDonald'),\n",
       " (u'Alex Zahara', u'Stacey Travis')]"
      ]
     },
     "execution_count": 7,
     "metadata": {},
     "output_type": "execute_result"
    }
   ],
   "source": [
    "G.edges()[:15]"
   ]
  },
  {
   "cell_type": "markdown",
   "metadata": {},
   "source": [
    "Neighborhood of John Goodman"
   ]
  },
  {
   "cell_type": "code",
   "execution_count": 8,
   "metadata": {
    "collapsed": false
   },
   "outputs": [
    {
     "data": {
      "text/plain": [
       "550"
      ]
     },
     "execution_count": 8,
     "metadata": {},
     "output_type": "execute_result"
    }
   ],
   "source": [
    "len(nx.neighbors(G, 'John Goodman'))"
   ]
  },
  {
   "cell_type": "markdown",
   "metadata": {},
   "source": [
    "Shortest path between two actors"
   ]
  },
  {
   "cell_type": "code",
   "execution_count": 9,
   "metadata": {
    "collapsed": false
   },
   "outputs": [
    {
     "data": {
      "text/plain": [
       "['John Goodman', u'Alex Borstein', 'Paul Rudd']"
      ]
     },
     "execution_count": 9,
     "metadata": {},
     "output_type": "execute_result"
    }
   ],
   "source": [
    "nx.shortest_path(G, 'John Goodman', 'Paul Rudd')"
   ]
  },
  {
   "cell_type": "markdown",
   "metadata": {},
   "source": [
    "All of the shortest paths"
   ]
  },
  {
   "cell_type": "code",
   "execution_count": 10,
   "metadata": {
    "collapsed": false
   },
   "outputs": [
    {
     "name": "stdout",
     "output_type": "stream",
     "text": [
      "['John Goodman', u'Alex Borstein', 'Paul Rudd']\n",
      "['John Goodman', u'Seann William Scott', 'Paul Rudd']\n",
      "['John Goodman', u'Zach Galifianakis', 'Paul Rudd']\n",
      "['John Goodman', u'Justin Long', 'Paul Rudd']\n",
      "['John Goodman', u'Tracey Ullman', 'Paul Rudd']\n",
      "['John Goodman', u'Owen Wilson', 'Paul Rudd']\n",
      "['John Goodman', u'Fred Armisen', 'Paul Rudd']\n",
      "['John Goodman', u'Ron Silver', 'Paul Rudd']\n",
      "['John Goodman', u'Rhoda Griffis', 'Paul Rudd']\n",
      "['John Goodman', u'Nicholas Braun', 'Paul Rudd']\n",
      "['John Goodman', u'Johnny Simmons', 'Paul Rudd']\n",
      "['John Goodman', u'Octavia Spencer', 'Paul Rudd']\n",
      "['John Goodman', u'Steve Carell', 'Paul Rudd']\n",
      "['John Goodman', u'Ren?e Zellweger', 'Paul Rudd']\n",
      "['John Goodman', u'Joan Cusack', 'Paul Rudd']\n",
      "['John Goodman', u'Lauren Graham', 'Paul Rudd']\n",
      "['John Goodman', u'Emile Hirsch', 'Paul Rudd']\n",
      "['John Goodman', u'Ray Liotta', 'Paul Rudd']\n",
      "['John Goodman', u'Ken Jeong', 'Paul Rudd']\n",
      "['John Goodman', u'Hugh Dancy', 'Paul Rudd']\n",
      "['John Goodman', u'Bruce Greenwood', 'Paul Rudd']\n",
      "['John Goodman', u'Stephen Root', 'Paul Rudd']\n",
      "['John Goodman', u'Jonah Hill', 'Paul Rudd']\n",
      "['John Goodman', u'Amy Adams', 'Paul Rudd']\n",
      "['John Goodman', u'Leslie Mann', 'Paul Rudd']\n",
      "['John Goodman', u'Patricia French', 'Paul Rudd']\n",
      "['John Goodman', u'Danny DeVito', 'Paul Rudd']\n",
      "['John Goodman', u'B. J. Novak', 'Paul Rudd']\n",
      "['John Goodman', u'Christopher Mintz-Plasse', 'Paul Rudd']\n",
      "['John Goodman', u'Matthew Glave', 'Paul Rudd']\n",
      "['John Goodman', u'Zooey Deschanel', 'Paul Rudd']\n",
      "['John Goodman', u'Vince Vaughn', 'Paul Rudd']\n",
      "['John Goodman', u'Peter Hermann', 'Paul Rudd']\n",
      "['John Goodman', u'Keith David', 'Paul Rudd']\n"
     ]
    }
   ],
   "source": [
    "paths = nx.shortest_paths.all_shortest_paths(G, 'John Goodman', 'Paul Rudd')\n",
    "\n",
    "for path in paths:\n",
    "    print path"
   ]
  },
  {
   "cell_type": "markdown",
   "metadata": {},
   "source": [
    "#### Exercise\n",
    "\n",
    "Make a histogram of the degree distribution of this graph. Does it match any of the distributions discussed in the async?"
   ]
  },
  {
   "cell_type": "code",
   "execution_count": 11,
   "metadata": {
    "collapsed": false
   },
   "outputs": [
    {
     "data": {
      "text/plain": [
       "(array([  1.02500000e+03,   2.60000000e+01,   5.00000000e+00,\n",
       "          6.00000000e+00,   3.00000000e+00,   1.00000000e+00,\n",
       "          0.00000000e+00,   1.00000000e+00,   0.00000000e+00,\n",
       "          1.00000000e+00]),\n",
       " array([    0.,   586.,  1172.,  1758.,  2344.,  2930.,  3516.,  4102.,\n",
       "         4688.,  5274.,  5860.]),\n",
       " <a list of 10 Patch objects>)"
      ]
     },
     "execution_count": 11,
     "metadata": {},
     "output_type": "execute_result"
    },
    {
     "data": {
      "image/png": "[encoded data removed]",
      "text/plain": [
       "<matplotlib.figure.Figure at 0x13ff65890>"
      ]
     },
     "metadata": {},
     "output_type": "display_data"
    }
   ],
   "source": [
    "hist_data = nx.degree_histogram(G)\n",
    "\n",
    "plt.title(\"Degree Distribution\")\n",
    "plt.hist(hist_data)"
   ]
  },
  {
   "cell_type": "markdown",
   "metadata": {},
   "source": [
    "#### Exercise\n",
    "\n",
    "Which actor has the highest degree centrality?"
   ]
  },
  {
   "cell_type": "code",
   "execution_count": 12,
   "metadata": {
    "collapsed": false
   },
   "outputs": [
    {
     "data": {
      "text/plain": [
       "Danny Trejo       0.013296\n",
       "Richard Riehle    0.010330\n",
       "Keith David       0.010131\n",
       "Tom Arnold        0.009957\n",
       "Eric Roberts      0.009682\n",
       "dtype: float64"
      ]
     },
     "execution_count": 12,
     "metadata": {},
     "output_type": "execute_result"
    }
   ],
   "source": [
    "degree_centralities = pd.Series(nx.degree_centrality(G))\n",
    "\n",
    "degree_centralities.head()\n",
    "\n",
    "degree_centralities = degree_centralities.sort_values(ascending = False)\n",
    "\n",
    "degree_centralities.head()\n"
   ]
  },
  {
   "cell_type": "markdown",
   "metadata": {},
   "source": [
    "#### Exercise\n",
    "\n",
    "How many connected components are there?"
   ]
  },
  {
   "cell_type": "code",
   "execution_count": 13,
   "metadata": {
    "collapsed": false
   },
   "outputs": [
    {
     "data": {
      "text/plain": [
       "1390"
      ]
     },
     "execution_count": 13,
     "metadata": {},
     "output_type": "execute_result"
    }
   ],
   "source": [
    "nx.number_connected_components(G)"
   ]
  },
  {
   "cell_type": "markdown",
   "metadata": {},
   "source": [
    "#### Exercise\n",
    "\n",
    "Make a histogram of the sizes of the connected components. (Try removing the first component for better results)"
   ]
  },
  {
   "cell_type": "code",
   "execution_count": 14,
   "metadata": {
    "collapsed": false
   },
   "outputs": [
    {
     "data": {
      "text/plain": [
       "(array([ 407.,    0.,  264.,    0.,  179.,    0.,  159.,    0.,    0.,\n",
       "          81.,    0.,   57.,    0.,   48.,    0.,   40.,    0.,    0.,\n",
       "          47.,    0.,   18.,    0.,   24.,    0.,    0.,    8.,    0.,\n",
       "          12.,    0.,   22.,    0.,    2.,    0.,    0.,    2.,    0.,\n",
       "           3.,    0.,    1.,    0.,    4.,    0.,    0.,    2.,    0.,\n",
       "           1.,    0.,    1.,    0.,    0.,    0.,    0.,    0.,    0.,\n",
       "           0.,    0.,    0.,    0.,    0.,    0.,    0.,    0.,    0.,\n",
       "           0.,    0.,    1.,    0.,    0.,    1.,    0.,    1.,    0.,\n",
       "           0.,    0.,    0.,    0.,    0.,    0.,    0.,    0.,    0.,\n",
       "           1.,    0.,    0.,    0.,    0.,    0.,    0.,    0.,    0.,\n",
       "           2.,    0.,    0.,    0.,    0.,    0.,    0.,    0.,    0.,    1.]),\n",
       " array([  2.  ,   2.44,   2.88,   3.32,   3.76,   4.2 ,   4.64,   5.08,\n",
       "          5.52,   5.96,   6.4 ,   6.84,   7.28,   7.72,   8.16,   8.6 ,\n",
       "          9.04,   9.48,   9.92,  10.36,  10.8 ,  11.24,  11.68,  12.12,\n",
       "         12.56,  13.  ,  13.44,  13.88,  14.32,  14.76,  15.2 ,  15.64,\n",
       "         16.08,  16.52,  16.96,  17.4 ,  17.84,  18.28,  18.72,  19.16,\n",
       "         19.6 ,  20.04,  20.48,  20.92,  21.36,  21.8 ,  22.24,  22.68,\n",
       "         23.12,  23.56,  24.  ,  24.44,  24.88,  25.32,  25.76,  26.2 ,\n",
       "         26.64,  27.08,  27.52,  27.96,  28.4 ,  28.84,  29.28,  29.72,\n",
       "         30.16,  30.6 ,  31.04,  31.48,  31.92,  32.36,  32.8 ,  33.24,\n",
       "         33.68,  34.12,  34.56,  35.  ,  35.44,  35.88,  36.32,  36.76,\n",
       "         37.2 ,  37.64,  38.08,  38.52,  38.96,  39.4 ,  39.84,  40.28,\n",
       "         40.72,  41.16,  41.6 ,  42.04,  42.48,  42.92,  43.36,  43.8 ,\n",
       "         44.24,  44.68,  45.12,  45.56,  46.  ]),\n",
       " <a list of 100 Patch objects>)"
      ]
     },
     "execution_count": 14,
     "metadata": {},
     "output_type": "execute_result"
    },
    {
     "data": {
      "image/png": "[encoded data removed]",
      "text/plain": [
       "<matplotlib.figure.Figure at 0x1110807d0>"
      ]
     },
     "metadata": {},
     "output_type": "display_data"
    }
   ],
   "source": [
    "connected_components = nx.connected_components(G)\n",
    "\n",
    "sizes = []\n",
    "\n",
    "for item in connected_components:\n",
    "    sizes.append(len(item))\n",
    "    \n",
    "sizes = np.sort(sizes)\n",
    "\n",
    "sizes = sizes[:-1]\n",
    "    \n",
    "plt.hist(sizes, bins=100)\n",
    "    \n",
    "\n",
    "    \n",
    "\n",
    "    \n",
    "\n"
   ]
  },
  {
   "cell_type": "markdown",
   "metadata": {},
   "source": [
    "For the remainder of the problems, work with a subset of the original graph"
   ]
  },
  {
   "cell_type": "code",
   "execution_count": 15,
   "metadata": {
    "collapsed": true
   },
   "outputs": [],
   "source": [
    "smallG = nx.read_edgelist('data/small_actor_edges.tsv', delimiter='\\t')"
   ]
  },
  {
   "cell_type": "code",
   "execution_count": 16,
   "metadata": {
    "collapsed": false
   },
   "outputs": [
    {
     "data": {
      "text/plain": [
       "6433"
      ]
     },
     "execution_count": 16,
     "metadata": {},
     "output_type": "execute_result"
    }
   ],
   "source": [
    "smallG.number_of_edges()"
   ]
  },
  {
   "cell_type": "code",
   "execution_count": 17,
   "metadata": {
    "collapsed": false
   },
   "outputs": [
    {
     "data": {
      "text/plain": [
       "357"
      ]
     },
     "execution_count": 17,
     "metadata": {},
     "output_type": "execute_result"
    }
   ],
   "source": [
    "smallG.number_of_nodes()"
   ]
  },
  {
   "cell_type": "markdown",
   "metadata": {},
   "source": [
    "#### Exercise\n",
    "\n",
    "How many connected components are there in this graph?"
   ]
  },
  {
   "cell_type": "code",
   "execution_count": 18,
   "metadata": {
    "collapsed": false
   },
   "outputs": [
    {
     "data": {
      "text/plain": [
       "1"
      ]
     },
     "execution_count": 18,
     "metadata": {},
     "output_type": "execute_result"
    }
   ],
   "source": [
    "nx.number_connected_components(smallG)"
   ]
  },
  {
   "cell_type": "markdown",
   "metadata": {},
   "source": [
    "#### Exercise\n",
    "\n",
    "Find the most important actor in this subgroup according to each of the following centrality measures:\n",
    "- Degree\n",
    "- Betweenness\n",
    "- Eigenvector\n",
    "- Pagerank"
   ]
  },
  {
   "cell_type": "code",
   "execution_count": 19,
   "metadata": {
    "collapsed": false
   },
   "outputs": [
    {
     "data": {
      "text/plain": [
       "David Koechner    0.255618\n",
       "Justin Long       0.250000\n",
       "Danny Trejo       0.224719\n",
       "Paul Rudd         0.216292\n",
       "Jason Bateman     0.207865\n",
       "dtype: float64"
      ]
     },
     "execution_count": 19,
     "metadata": {},
     "output_type": "execute_result"
    }
   ],
   "source": [
    "degree_centralities = pd.Series(nx.degree_centrality(smallG))\n",
    "\n",
    "degree_centralities.head()\n",
    "\n",
    "degree_centralities = degree_centralities.sort_values(ascending = False)\n",
    "\n",
    "degree_centralities.head()\n",
    "\n",
    "#using degree centrality David Koechner is the most important"
   ]
  },
  {
   "cell_type": "code",
   "execution_count": 20,
   "metadata": {
    "collapsed": false
   },
   "outputs": [
    {
     "data": {
      "text/plain": [
       "Danny Trejo          0.017406\n",
       "Justin Long          0.012436\n",
       "David Koechner       0.011794\n",
       "John Goodman         0.011655\n",
       "Samuel L. Jackson    0.010877\n",
       "dtype: float64"
      ]
     },
     "execution_count": 20,
     "metadata": {},
     "output_type": "execute_result"
    }
   ],
   "source": [
    "betweenness_centralities = pd.Series(nx.betweenness_centrality(smallG))\n",
    "\n",
    "betweenness_centralities.head()\n",
    "\n",
    "betweenness_centralities = betweenness_centralities.sort_values(ascending = False)\n",
    "\n",
    "betweenness_centralities.head()\n",
    "\n",
    "#using betweeness centrality Danny Trejo is the most important"
   ]
  },
  {
   "cell_type": "code",
   "execution_count": 21,
   "metadata": {
    "collapsed": false
   },
   "outputs": [
    {
     "data": {
      "text/plain": [
       "David Koechner    0.140463\n",
       "Justin Long       0.131153\n",
       "Paul Rudd         0.128405\n",
       "Will Ferrell      0.125544\n",
       "Seth Rogen        0.116515\n",
       "dtype: float64"
      ]
     },
     "execution_count": 21,
     "metadata": {},
     "output_type": "execute_result"
    }
   ],
   "source": [
    "eigenvector_centralities = pd.Series(nx.eigenvector_centrality(smallG))\n",
    "\n",
    "eigenvector_centralities.head()\n",
    "\n",
    "eigenvector_centralities = eigenvector_centralities.sort_values(ascending = False)\n",
    "\n",
    "eigenvector_centralities.head()\n",
    "\n",
    "#using eigenvector centrality David Koechner is the most important"
   ]
  },
  {
   "cell_type": "code",
   "execution_count": 22,
   "metadata": {
    "collapsed": false
   },
   "outputs": [
    {
     "data": {
      "text/plain": [
       "David Koechner       0.006230\n",
       "Justin Long          0.006138\n",
       "Danny Trejo          0.005912\n",
       "Paul Rudd            0.005276\n",
       "Samuel L. Jackson    0.005173\n",
       "dtype: float64"
      ]
     },
     "execution_count": 22,
     "metadata": {},
     "output_type": "execute_result"
    }
   ],
   "source": [
    "pagerank_centralities = pd.Series(nx.pagerank(smallG))\n",
    "\n",
    "pagerank_centralities.head()\n",
    "\n",
    "pagerank_centralities = pagerank_centralities.sort_values(ascending = False)\n",
    "\n",
    "pagerank_centralities.head()\n",
    "\n",
    "#using pagerank David Koechner is the most important"
   ]
  },
  {
   "cell_type": "markdown",
   "metadata": {},
   "source": [
    "#### Exercise\n",
    "\n",
    "Compare the ranks of some of the top actors. That is, make a table with one row for each actor and one column for each centrality measure. The values should be the relative rank of the each actor according to that centrality measure. Hint: http://pandas.pydata.org/pandas-docs/stable/generated/pandas.Series.rank.html"
   ]
  },
  {
   "cell_type": "code",
   "execution_count": 39,
   "metadata": {
    "collapsed": false
   },
   "outputs": [
    {
     "data": {
      "text/html": [
       "<div>\n",
       "<table border=\"1\" class=\"dataframe\">\n",
       "  <thead>\n",
       "    <tr style=\"text-align: right;\">\n",
       "      <th></th>\n",
       "      <th>degree</th>\n",
       "      <th>betweenness</th>\n",
       "      <th>eigenvector</th>\n",
       "      <th>pagerank</th>\n",
       "      <th>degree_rank</th>\n",
       "      <th>betweenness_rank</th>\n",
       "      <th>eigenvector_rank</th>\n",
       "      <th>pagerank_rank</th>\n",
       "    </tr>\n",
       "  </thead>\n",
       "  <tbody>\n",
       "    <tr>\n",
       "      <th>David Koechner</th>\n",
       "      <td>0.255618</td>\n",
       "      <td>0.011794</td>\n",
       "      <td>0.140463</td>\n",
       "      <td>0.006230</td>\n",
       "      <td>1.0</td>\n",
       "      <td>3.0</td>\n",
       "      <td>1.0</td>\n",
       "      <td>1.0</td>\n",
       "    </tr>\n",
       "    <tr>\n",
       "      <th>Justin Long</th>\n",
       "      <td>0.250000</td>\n",
       "      <td>0.012436</td>\n",
       "      <td>0.131153</td>\n",
       "      <td>0.006138</td>\n",
       "      <td>2.0</td>\n",
       "      <td>2.0</td>\n",
       "      <td>2.0</td>\n",
       "      <td>2.0</td>\n",
       "    </tr>\n",
       "    <tr>\n",
       "      <th>Danny Trejo</th>\n",
       "      <td>0.224719</td>\n",
       "      <td>0.017406</td>\n",
       "      <td>0.090261</td>\n",
       "      <td>0.005912</td>\n",
       "      <td>3.0</td>\n",
       "      <td>1.0</td>\n",
       "      <td>31.0</td>\n",
       "      <td>3.0</td>\n",
       "    </tr>\n",
       "    <tr>\n",
       "      <th>Paul Rudd</th>\n",
       "      <td>0.216292</td>\n",
       "      <td>0.006772</td>\n",
       "      <td>0.128405</td>\n",
       "      <td>0.005276</td>\n",
       "      <td>4.0</td>\n",
       "      <td>24.0</td>\n",
       "      <td>3.0</td>\n",
       "      <td>4.0</td>\n",
       "    </tr>\n",
       "    <tr>\n",
       "      <th>Jason Bateman</th>\n",
       "      <td>0.207865</td>\n",
       "      <td>0.008068</td>\n",
       "      <td>0.111257</td>\n",
       "      <td>0.005161</td>\n",
       "      <td>5.5</td>\n",
       "      <td>14.0</td>\n",
       "      <td>7.0</td>\n",
       "      <td>6.0</td>\n",
       "    </tr>\n",
       "  </tbody>\n",
       "</table>\n",
       "</div>"
      ],
      "text/plain": [
       "                  degree  betweenness  eigenvector  pagerank  degree_rank  \\\n",
       "David Koechner  0.255618     0.011794     0.140463  0.006230          1.0   \n",
       "Justin Long     0.250000     0.012436     0.131153  0.006138          2.0   \n",
       "Danny Trejo     0.224719     0.017406     0.090261  0.005912          3.0   \n",
       "Paul Rudd       0.216292     0.006772     0.128405  0.005276          4.0   \n",
       "Jason Bateman   0.207865     0.008068     0.111257  0.005161          5.5   \n",
       "\n",
       "                betweenness_rank  eigenvector_rank  pagerank_rank  \n",
       "David Koechner               3.0               1.0            1.0  \n",
       "Justin Long                  2.0               2.0            2.0  \n",
       "Danny Trejo                  1.0              31.0            3.0  \n",
       "Paul Rudd                   24.0               3.0            4.0  \n",
       "Jason Bateman               14.0               7.0            6.0  "
      ]
     },
     "execution_count": 39,
     "metadata": {},
     "output_type": "execute_result"
    }
   ],
   "source": [
    "#for series in [degree_centralities,betweenness_centralities,eigenvector_centralities,pagerank_centralities]:\n",
    "#    series = series.rank(axis = 1)\n",
    "\n",
    "combined_ranks = pd.concat([degree_centralities,betweenness_centralities,eigenvector_centralities,pagerank_centralities], axis = 1)\n",
    "\n",
    "combined_ranks.columns = ['degree', 'betweenness', 'eigenvector', 'pagerank']\n",
    "\n",
    "#create rank columns\n",
    "combined_ranks['degree_rank'] = combined_ranks.degree.rank(ascending = False)\n",
    "combined_ranks['betweenness_rank'] = combined_ranks.betweenness.rank(ascending = False)\n",
    "combined_ranks['eigenvector_rank'] = combined_ranks.eigenvector.rank(ascending = False)\n",
    "combined_ranks['pagerank_rank'] = combined_ranks.pagerank.rank(ascending = False)\n",
    "\n",
    "combined_ranks = combined_ranks.sort_values(by = 'degree_rank', ascending = True)\n",
    "\n",
    "combined_ranks.head()"
   ]
  },
  {
   "cell_type": "code",
   "execution_count": null,
   "metadata": {
    "collapsed": false
   },
   "outputs": [],
   "source": []
  },
  {
   "cell_type": "markdown",
   "metadata": {},
   "source": [
    "#### Exercise\n",
    "\n",
    "Community detection is like clustering for graphs. There's lots of approaches, and we won't go into the details here. \n",
    "\n",
    "One good approach seems to be the [Louvain Method](https://www.quora.com/Is-there-a-simple-explanation-of-the-Louvain-Method-of-community-detection). It is implemented in the [community](https://github.com/taynaud/python-louvain) package in Python.\n",
    "\n",
    "Once you get it installed, try using the `best_partition` method to apply the Louvain Method for community detection\n"
   ]
  },
  {
   "cell_type": "code",
   "execution_count": 41,
   "metadata": {
    "collapsed": false
   },
   "outputs": [
    {
     "data": {
      "text/html": [
       "<div>\n",
       "<table border=\"1\" class=\"dataframe\">\n",
       "  <thead>\n",
       "    <tr style=\"text-align: right;\">\n",
       "      <th></th>\n",
       "      <th>degree</th>\n",
       "      <th>betweenness</th>\n",
       "      <th>eigenvector</th>\n",
       "      <th>pagerank</th>\n",
       "      <th>degree_rank</th>\n",
       "      <th>betweenness_rank</th>\n",
       "      <th>eigenvector_rank</th>\n",
       "      <th>pagerank_rank</th>\n",
       "      <th>cluster</th>\n",
       "    </tr>\n",
       "  </thead>\n",
       "  <tbody>\n",
       "    <tr>\n",
       "      <th>50 Cent</th>\n",
       "      <td>0.084270</td>\n",
       "      <td>0.001284</td>\n",
       "      <td>0.033677</td>\n",
       "      <td>0.002394</td>\n",
       "      <td>228.0</td>\n",
       "      <td>268.0</td>\n",
       "      <td>231.0</td>\n",
       "      <td>232.0</td>\n",
       "      <td>1</td>\n",
       "    </tr>\n",
       "    <tr>\n",
       "      <th>Aasif Mandvi</th>\n",
       "      <td>0.103933</td>\n",
       "      <td>0.002004</td>\n",
       "      <td>0.054523</td>\n",
       "      <td>0.002790</td>\n",
       "      <td>154.0</td>\n",
       "      <td>201.0</td>\n",
       "      <td>104.0</td>\n",
       "      <td>164.0</td>\n",
       "      <td>3</td>\n",
       "    </tr>\n",
       "    <tr>\n",
       "      <th>Adam LeFevre</th>\n",
       "      <td>0.089888</td>\n",
       "      <td>0.001720</td>\n",
       "      <td>0.041286</td>\n",
       "      <td>0.002503</td>\n",
       "      <td>210.0</td>\n",
       "      <td>232.0</td>\n",
       "      <td>180.0</td>\n",
       "      <td>217.0</td>\n",
       "      <td>3</td>\n",
       "    </tr>\n",
       "    <tr>\n",
       "      <th>Adam Scott</th>\n",
       "      <td>0.123596</td>\n",
       "      <td>0.001804</td>\n",
       "      <td>0.075423</td>\n",
       "      <td>0.003167</td>\n",
       "      <td>94.0</td>\n",
       "      <td>222.0</td>\n",
       "      <td>52.0</td>\n",
       "      <td>117.0</td>\n",
       "      <td>3</td>\n",
       "    </tr>\n",
       "    <tr>\n",
       "      <th>Aidan Quinn</th>\n",
       "      <td>0.058989</td>\n",
       "      <td>0.001159</td>\n",
       "      <td>0.021864</td>\n",
       "      <td>0.001865</td>\n",
       "      <td>299.0</td>\n",
       "      <td>276.0</td>\n",
       "      <td>295.0</td>\n",
       "      <td>299.0</td>\n",
       "      <td>0</td>\n",
       "    </tr>\n",
       "  </tbody>\n",
       "</table>\n",
       "</div>"
      ],
      "text/plain": [
       "                degree  betweenness  eigenvector  pagerank  degree_rank  \\\n",
       "50 Cent       0.084270     0.001284     0.033677  0.002394        228.0   \n",
       "Aasif Mandvi  0.103933     0.002004     0.054523  0.002790        154.0   \n",
       "Adam LeFevre  0.089888     0.001720     0.041286  0.002503        210.0   \n",
       "Adam Scott    0.123596     0.001804     0.075423  0.003167         94.0   \n",
       "Aidan Quinn   0.058989     0.001159     0.021864  0.001865        299.0   \n",
       "\n",
       "              betweenness_rank  eigenvector_rank  pagerank_rank  cluster  \n",
       "50 Cent                  268.0             231.0          232.0        1  \n",
       "Aasif Mandvi             201.0             104.0          164.0        3  \n",
       "Adam LeFevre             232.0             180.0          217.0        3  \n",
       "Adam Scott               222.0              52.0          117.0        3  \n",
       "Aidan Quinn              276.0             295.0          299.0        0  "
      ]
     },
     "execution_count": 41,
     "metadata": {},
     "output_type": "execute_result"
    }
   ],
   "source": [
    "#to install\n",
    "#pip install python-louvain\n",
    "\n",
    "community_clusters = pd.Series(community.best_partition(smallG))\n",
    "\n",
    "#merge onto earlier DF\n",
    "column_names = combined_ranks.columns.tolist()\n",
    "\n",
    "combined_ranks = pd.concat([combined_ranks, community_clusters], axis = 1)\n",
    "\n",
    "combined_ranks.columns = column_names + ['cluster']\n",
    "\n",
    "combined_ranks.head()\n"
   ]
  },
  {
   "cell_type": "markdown",
   "metadata": {},
   "source": [
    "#### Exercise\n",
    "\n",
    "See if you can find the most important actors in each community. Do you recognize any of the communities?\n",
    "\n",
    "Hint: Use nx.subgraph to create a sub-graph from each community"
   ]
  },
  {
   "cell_type": "code",
   "execution_count": null,
   "metadata": {
    "collapsed": false
   },
   "outputs": [],
   "source": []
  },
  {
   "cell_type": "markdown",
   "metadata": {},
   "source": [
    "#### Exercise\n",
    "\n",
    "Pick one of the communities you found above and plot the network using the code below"
   ]
  },
  {
   "cell_type": "code",
   "execution_count": null,
   "metadata": {
    "collapsed": true
   },
   "outputs": [],
   "source": []
  },
  {
   "cell_type": "code",
   "execution_count": null,
   "metadata": {
    "collapsed": false
   },
   "outputs": [],
   "source": [
    "plt.figure(figsize=(12,12))\n",
    "\n",
    "# Pick a node layout\n",
    "# node_position = nx.fruchterman_reingold_layout(subG)\n",
    "# node_position = nx.spring_layout(subG)\n",
    "node_position = nx.random_layout(subG)\n",
    "# node_position = nx.circular_layout(subG)\n",
    "# node_position = nx.spectral_layout(subG)\n",
    "# node_position = nx.shell_layout(subG)\n",
    "\n",
    "nx.draw_networkx_nodes(subG, node_position, node_size=100, alpha=.8)\n",
    "nx.draw_networkx_edges(subG, node_position, alpha=.1)\n",
    "nx.draw_networkx_labels(subG, node_position)\n",
    "\n",
    "plt.show()"
   ]
  },
  {
   "cell_type": "markdown",
   "metadata": {},
   "source": [
    "You can experiment with the node layouts, but none of them are really satisfactory. A better approach is to use a graph visualization tool like [gephi](https://gephi.org/)"
   ]
  },
  {
   "cell_type": "code",
   "execution_count": null,
   "metadata": {
    "collapsed": true
   },
   "outputs": [],
   "source": [
    "nx.write_gml(subG, 'my_community.gml')"
   ]
  },
  {
   "cell_type": "markdown",
   "metadata": {},
   "source": [
    "Here's a few steps to get started\n",
    "\n",
    "1. Open the gml file in gephi\n",
    "2. Use the Layout tab and choose Force Atlas as the layout. Adjust the repulsion strength until the nodes are sufficiently spread apart. More densely connected nodes should be near the center.\n",
    "3. Add the labels by clicking the T in the lower left hand corner.\n",
    "4. Use the statistics tab to calculate eigenvector centrality, pagerank, and anything else you're interested in.\n",
    "5. Use the appearance tab to scale the text color/size according to various centrality measures.\n",
    "6. Keep experimenting!"
   ]
  },
  {
   "cell_type": "markdown",
   "metadata": {},
   "source": [
    "#### Extra Credit\n",
    "\n",
    "How many actors are connected to Kevin Bacon, but by more than six degrees?"
   ]
  },
  {
   "cell_type": "code",
   "execution_count": null,
   "metadata": {
    "collapsed": false
   },
   "outputs": [],
   "source": [
    "G = nx.read_edgelist('data/actor_edges.tsv', delimiter='\\t')"
   ]
  },
  {
   "cell_type": "code",
   "execution_count": null,
   "metadata": {
    "collapsed": true
   },
   "outputs": [],
   "source": []
  }
 ],
 "metadata": {
  "anaconda-cloud": {},
  "kernelspec": {
   "display_name": "Python [conda env:Machine_learning_python2]",
   "language": "python",
   "name": "conda-env-Machine_learning_python2-py"
  },
  "language_info": {
   "codemirror_mode": {
    "name": "ipython",
    "version": 2
   },
   "file_extension": ".py",
   "mimetype": "text/x-python",
   "name": "python",
   "nbconvert_exporter": "python",
   "pygments_lexer": "ipython2",
   "version": "2.7.13"
  }
 },
 "nbformat": 4,
 "nbformat_minor": 2
}
