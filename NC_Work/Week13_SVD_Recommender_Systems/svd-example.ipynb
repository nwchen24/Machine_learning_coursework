{
 "cells": [
  {
   "cell_type": "markdown",
   "metadata": {},
   "source": [
    "# Singular Value Decomposition (SVD)\n",
    "\n",
    "SVD is one of the most general and fundamental forms of matrix factorization.\n",
    "\n",
    "Every matrix has a *unique* decomposition in the following form:\n",
    "\n",
    "$\\underset{m \\times n}M = \n",
    "    \\underset{m \\times r}U \\times\n",
    "    \\underset{r \\times r}\\Sigma \\times\n",
    "    \\underset{r \\times n}V^T$\n",
    "\n",
    "where\n",
    "* $U$ is column orthogonal: $U^T U = I$\n",
    "* $V$ is column orthogonal: $V^T V = I$\n",
    "* $\\Sigma$ is a diagonal matrix of positive values, where the diagonal is ordered in decreasing order.\n",
    "\n"
   ]
  },
  {
   "cell_type": "markdown",
   "metadata": {},
   "source": [
    "## SVD for Movie Recommendations\n",
    "\n",
    "We can use SVD to determine what we call ***latent features***. This will be best demonstrated with an example.\n",
    "\n",
    "### Example\n",
    "\n",
    "Let's look at users ratings of different movies. The ratings are from 1-5. \n",
    "\n",
    "|       | Matrix | Alien | StarWars | Casablanca | Titanic |\n",
    "| ----- | ------ | ----- | -------- | ---------- | ------ |\n",
    "| **Alice** |      1 |     2 |        2 |          - |      - |\n",
    "|   **Bob** |      3 |     5 |        5 |          - |      - |\n",
    "| **Cindy** |      4 |     4 |        4 |          - |      - |\n",
    "|   **Dan** |      5 |     5 |        5 |          - |      - |\n",
    "| **Emily** |      - |     2 |        - |          4 |      4 |\n",
    "| **Frank** |      - |     - |        - |          5 |      5 |\n",
    "|  **Greg** |      - |     1 |        - |          2 |      2 |\n",
    "|  **Jose** |      5 |     - |        - |          - |      - |\n",
    "| **Irfan** |      - |     - |        - |          - |      5 |\n",
    "|**Yasaman**|      - |     4 |        - |          3 |      - |\n",
    "\n",
    "It's reasonable to say that the first three users prefer science fiction, the next three prefer romance, and the last three have less defined tastes."
   ]
  },
  {
   "cell_type": "code",
   "execution_count": 1,
   "metadata": {
    "collapsed": false
   },
   "outputs": [
    {
     "name": "stdout",
     "output_type": "stream",
     "text": [
      "Populating the interactive namespace from numpy and matplotlib\n"
     ]
    }
   ],
   "source": [
    "import pandas as pd\n",
    "import matplotlib.pyplot as plt\n",
    "%pylab inline"
   ]
  },
  {
   "cell_type": "markdown",
   "metadata": {},
   "source": [
    "Matrix of movie ratings. Movies that haven't been watched get a value of 0."
   ]
  },
  {
   "cell_type": "code",
   "execution_count": 2,
   "metadata": {
    "collapsed": false
   },
   "outputs": [],
   "source": [
    "M = np.array([[1, 2, 2, 0, 0],\n",
    "              [3, 5, 5, 0, 0],\n",
    "              [4, 4, 4, 0, 0],\n",
    "              [5, 5, 5, 0, 0],\n",
    "              [0, 2, 0, 4, 4],\n",
    "              [0, 0, 0, 5, 5],\n",
    "              [0, 1, 0, 2, 2],\n",
    "              [5, 0, 0, 0, 0],\n",
    "              [0, 0, 0, 0, 5],\n",
    "              [0, 4, 0, 3, 0]])\n",
    "\n"
   ]
  },
  {
   "cell_type": "code",
   "execution_count": 10,
   "metadata": {
    "collapsed": false,
    "scrolled": true
   },
   "outputs": [
    {
     "name": "stdout",
     "output_type": "stream",
     "text": [
      "[[-0.20140271 -0.03433846  0.0878472  -0.13778436  0.06444606]\n",
      " [-0.52188486 -0.09388421  0.15618147 -0.28076897  0.13958354]\n",
      " [-0.47631775 -0.10082913 -0.07805177 -0.02080104  0.04276566]\n",
      " [-0.59539718 -0.12603641 -0.09756472 -0.0260013   0.05345708]\n",
      " [-0.14417552  0.53600138  0.09830452  0.08253916 -0.12250631]\n",
      " [-0.07026304  0.6567653  -0.13097949  0.13195446  0.59101499]\n",
      " [-0.07208776  0.26800069  0.04915226  0.04126958 -0.06125316]\n",
      " [-0.18378081 -0.0803805  -0.63436545  0.63691918 -0.21531614]\n",
      " [-0.0296344   0.35522756 -0.42538073 -0.57242473 -0.54732819]\n",
      " [-0.20030736  0.20210091  0.58281697  0.37657869 -0.5076307 ]]\n",
      "[ 14.34933414  10.43761678   5.18848117   3.95376209   1.89741774]\n",
      "[[-0.52742644 -0.63112022 -0.55016397 -0.11659878 -0.08504679]\n",
      " [-0.16779618  0.05526266 -0.15057044  0.62946708  0.74154583]\n",
      " [-0.65827864  0.52685944  0.03017667  0.30549905 -0.44141598]\n",
      " [ 0.50364539 -0.04551653 -0.47868945  0.55698956 -0.45264624]\n",
      " [-0.08170893 -0.56478376  0.66677877  0.43198251 -0.20770204]]\n"
     ]
    }
   ],
   "source": [
    "# Compute SVD\n",
    "from numpy.linalg import svd\n",
    "\n",
    "U, sigma, VT = svd(M, full_matrices=False)\n",
    "\n",
    "print U\n",
    "print sigma\n",
    "print VT"
   ]
  },
  {
   "cell_type": "code",
   "execution_count": 11,
   "metadata": {
    "collapsed": false
   },
   "outputs": [
    {
     "name": "stdout",
     "output_type": "stream",
     "text": [
      "            0     1     2     3     4\n",
      "Alice   -0.20 -0.03  0.09 -0.14  0.06\n",
      "Bob     -0.52 -0.09  0.16 -0.28  0.14\n",
      "Cindy   -0.48 -0.10 -0.08 -0.02  0.04\n",
      "Dan     -0.60 -0.13 -0.10 -0.03  0.05\n",
      "Emily   -0.14  0.54  0.10  0.08 -0.12\n",
      "Frank   -0.07  0.66 -0.13  0.13  0.59\n",
      "Greg    -0.07  0.27  0.05  0.04 -0.06\n",
      "Jose    -0.18 -0.08 -0.63  0.64 -0.22\n",
      "Irfan   -0.03  0.36 -0.43 -0.57 -0.55\n",
      "Yasaman -0.20  0.20  0.58  0.38 -0.51\n",
      "[[ 14.35   0.     0.     0.     0.  ]\n",
      " [  0.    10.44   0.     0.     0.  ]\n",
      " [  0.     0.     5.19   0.     0.  ]\n",
      " [  0.     0.     0.     3.95   0.  ]\n",
      " [  0.     0.     0.     0.     1.9 ]]\n",
      "   Matrix  Alien  StarWars  Casablanca  Titanic\n",
      "0   -0.53  -0.63     -0.55       -0.12    -0.09\n",
      "1   -0.17   0.06     -0.15        0.63     0.74\n",
      "2   -0.66   0.53      0.03        0.31    -0.44\n",
      "3    0.50  -0.05     -0.48        0.56    -0.45\n",
      "4   -0.08  -0.56      0.67        0.43    -0.21\n"
     ]
    }
   ],
   "source": [
    "# Make interpretable\n",
    "movies = ['Matrix','Alien','StarWars','Casablanca','Titanic']\n",
    "users = ['Alice','Bob','Cindy','Dan','Emily','Frank','Greg', 'Jose', 'Irfan', 'Yasaman']\n",
    "\n",
    "U, sigma, VT = (np.around(x,2) for x in (U,sigma,VT))\n",
    "\n",
    "U = pd.DataFrame(U, index=users)\n",
    "VT = pd.DataFrame(VT, columns=movies)\n",
    "\n",
    "print U\n",
    "print np.diag(sigma)\n",
    "print VT\n"
   ]
  },
  {
   "cell_type": "code",
   "execution_count": 12,
   "metadata": {
    "collapsed": false
   },
   "outputs": [
    {
     "name": "stdout",
     "output_type": "stream",
     "text": [
      "361.0647\n"
     ]
    },
    {
     "data": {
      "text/plain": [
       "array([ 0.57032022,  0.87218745,  0.94678932,  0.99000179,  1.        ])"
      ]
     },
     "execution_count": 12,
     "metadata": {},
     "output_type": "execute_result"
    }
   ],
   "source": [
    "# Power\n",
    "# singular values are square roots of eigenvalues\n",
    "total_power = np.sum(sigma**2)\n",
    "print total_power\n",
    "\n",
    "fraction_power = np.cumsum(sigma**2) / total_power\n",
    "fraction_power"
   ]
  },
  {
   "cell_type": "code",
   "execution_count": 13,
   "metadata": {
    "collapsed": false
   },
   "outputs": [
    {
     "name": "stdout",
     "output_type": "stream",
     "text": [
      "            0     1\n",
      "Alice   -0.20 -0.03\n",
      "Bob     -0.52 -0.09\n",
      "Cindy   -0.48 -0.10\n",
      "Dan     -0.60 -0.13\n",
      "Emily   -0.14  0.54\n",
      "Frank   -0.07  0.66\n",
      "Greg    -0.07  0.27\n",
      "Jose    -0.18 -0.08\n",
      "Irfan   -0.03  0.36\n",
      "Yasaman -0.20  0.20\n",
      "[[ 14.35   0.  ]\n",
      " [  0.    10.44]]\n",
      "   Matrix  Alien  StarWars  Casablanca  Titanic\n",
      "0   -0.53  -0.63     -0.55       -0.12    -0.09\n",
      "1   -0.17   0.06     -0.15        0.63     0.74\n"
     ]
    }
   ],
   "source": [
    "# Keep only top two concepts\n",
    "U = U.iloc[:,:2]\n",
    "sigma = sigma[:2]\n",
    "VT = VT.iloc[:2,:]\n",
    "\n",
    "print U\n",
    "print np.diag(sigma)\n",
    "print VT"
   ]
  },
  {
   "cell_type": "markdown",
   "metadata": {},
   "source": [
    "The matrices $U$ and $V$ can be used to estimate regularized distances between users and movies, respectively. As such, SVD can be thought of as a pre-processing step for other collaborative filtering algorithms"
   ]
  },
  {
   "cell_type": "markdown",
   "metadata": {},
   "source": [
    "### Recommendations\n",
    "\n",
    "In addition, the reconstructed matrix can be used can be used to make recommendations directly."
   ]
  },
  {
   "cell_type": "code",
   "execution_count": 14,
   "metadata": {
    "collapsed": false
   },
   "outputs": [
    {
     "data": {
      "text/html": [
       "<div>\n",
       "<table border=\"1\" class=\"dataframe\">\n",
       "  <thead>\n",
       "    <tr style=\"text-align: right;\">\n",
       "      <th></th>\n",
       "      <th>Matrix</th>\n",
       "      <th>Alien</th>\n",
       "      <th>StarWars</th>\n",
       "      <th>Casablanca</th>\n",
       "      <th>Titanic</th>\n",
       "    </tr>\n",
       "  </thead>\n",
       "  <tbody>\n",
       "    <tr>\n",
       "      <th>Alice</th>\n",
       "      <td>1.57</td>\n",
       "      <td>1.79</td>\n",
       "      <td>1.63</td>\n",
       "      <td>0.15</td>\n",
       "      <td>0.03</td>\n",
       "    </tr>\n",
       "    <tr>\n",
       "      <th>Bob</th>\n",
       "      <td>4.11</td>\n",
       "      <td>4.64</td>\n",
       "      <td>4.25</td>\n",
       "      <td>0.30</td>\n",
       "      <td>-0.02</td>\n",
       "    </tr>\n",
       "    <tr>\n",
       "      <th>Cindy</th>\n",
       "      <td>3.83</td>\n",
       "      <td>4.28</td>\n",
       "      <td>3.94</td>\n",
       "      <td>0.17</td>\n",
       "      <td>-0.15</td>\n",
       "    </tr>\n",
       "    <tr>\n",
       "      <th>Dan</th>\n",
       "      <td>4.79</td>\n",
       "      <td>5.34</td>\n",
       "      <td>4.94</td>\n",
       "      <td>0.18</td>\n",
       "      <td>-0.23</td>\n",
       "    </tr>\n",
       "    <tr>\n",
       "      <th>Emily</th>\n",
       "      <td>0.11</td>\n",
       "      <td>1.60</td>\n",
       "      <td>0.26</td>\n",
       "      <td>3.79</td>\n",
       "      <td>4.35</td>\n",
       "    </tr>\n",
       "    <tr>\n",
       "      <th>Frank</th>\n",
       "      <td>-0.64</td>\n",
       "      <td>1.05</td>\n",
       "      <td>-0.48</td>\n",
       "      <td>4.46</td>\n",
       "      <td>5.19</td>\n",
       "    </tr>\n",
       "    <tr>\n",
       "      <th>Greg</th>\n",
       "      <td>0.05</td>\n",
       "      <td>0.80</td>\n",
       "      <td>0.13</td>\n",
       "      <td>1.90</td>\n",
       "      <td>2.18</td>\n",
       "    </tr>\n",
       "    <tr>\n",
       "      <th>Jose</th>\n",
       "      <td>1.51</td>\n",
       "      <td>1.58</td>\n",
       "      <td>1.55</td>\n",
       "      <td>-0.22</td>\n",
       "      <td>-0.39</td>\n",
       "    </tr>\n",
       "    <tr>\n",
       "      <th>Irfan</th>\n",
       "      <td>-0.41</td>\n",
       "      <td>0.50</td>\n",
       "      <td>-0.33</td>\n",
       "      <td>2.42</td>\n",
       "      <td>2.82</td>\n",
       "    </tr>\n",
       "    <tr>\n",
       "      <th>Yasaman</th>\n",
       "      <td>1.17</td>\n",
       "      <td>1.93</td>\n",
       "      <td>1.27</td>\n",
       "      <td>1.66</td>\n",
       "      <td>1.80</td>\n",
       "    </tr>\n",
       "  </tbody>\n",
       "</table>\n",
       "</div>"
      ],
      "text/plain": [
       "         Matrix  Alien  StarWars  Casablanca  Titanic\n",
       "Alice      1.57   1.79      1.63        0.15     0.03\n",
       "Bob        4.11   4.64      4.25        0.30    -0.02\n",
       "Cindy      3.83   4.28      3.94        0.17    -0.15\n",
       "Dan        4.79   5.34      4.94        0.18    -0.23\n",
       "Emily      0.11   1.60      0.26        3.79     4.35\n",
       "Frank     -0.64   1.05     -0.48        4.46     5.19\n",
       "Greg       0.05   0.80      0.13        1.90     2.18\n",
       "Jose       1.51   1.58      1.55       -0.22    -0.39\n",
       "Irfan     -0.41   0.50     -0.33        2.42     2.82\n",
       "Yasaman    1.17   1.93      1.27        1.66     1.80"
      ]
     },
     "execution_count": 14,
     "metadata": {},
     "output_type": "execute_result"
    }
   ],
   "source": [
    "Mhat = np.around(U.dot(np.diag(sigma)).dot(VT),2)\n",
    "Mhat"
   ]
  },
  {
   "cell_type": "code",
   "execution_count": 15,
   "metadata": {
    "collapsed": false
   },
   "outputs": [
    {
     "data": {
      "text/plain": [
       "Titanic       2.82\n",
       "Casablanca    2.42\n",
       "Alien         0.50\n",
       "StarWars     -0.33\n",
       "Matrix       -0.41\n",
       "Name: Irfan, dtype: float64"
      ]
     },
     "execution_count": 15,
     "metadata": {},
     "output_type": "execute_result"
    }
   ],
   "source": [
    "#What are Irfan's predicted ratings of all movies - which should he wath next?\n",
    "\n",
    "Mhat.loc['Irfan'].sort_values(ascending=False)"
   ]
  }
 ],
 "metadata": {
  "anaconda-cloud": {},
  "kernelspec": {
   "display_name": "Python [conda env:Machine_learning_python2]",
   "language": "python",
   "name": "conda-env-Machine_learning_python2-py"
  },
  "language_info": {
   "codemirror_mode": {
    "name": "ipython",
    "version": 2
   },
   "file_extension": ".py",
   "mimetype": "text/x-python",
   "name": "python",
   "nbconvert_exporter": "python",
   "pygments_lexer": "ipython2",
   "version": "2.7.13"
  }
 },
 "nbformat": 4,
 "nbformat_minor": 0
}
