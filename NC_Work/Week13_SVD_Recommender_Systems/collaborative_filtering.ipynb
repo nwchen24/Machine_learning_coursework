{
 "cells": [
  {
   "cell_type": "markdown",
   "metadata": {},
   "source": [
    "# Recommended Joke Notebook"
   ]
  },
  {
   "cell_type": "markdown",
   "metadata": {},
   "source": [
    "Today, we'll use some joke rating data to check out recommendating systems, in particular collaborative filtering:\n",
    "\n",
    "Here's a link to the place where I got the data:\n",
    "http://goldberg.berkeley.edu/jester-data/\n",
    "\n",
    "Check out some jokes, and get recommended jokes based on your ratings:\n",
    "http://eigentaste.berkeley.edu/"
   ]
  },
  {
   "cell_type": "code",
   "execution_count": 2,
   "metadata": {
    "collapsed": false,
    "scrolled": true
   },
   "outputs": [],
   "source": [
    "%matplotlib inline\n",
    "\n",
    "import numpy as np\n",
    "import scipy as sp\n",
    "import pandas as pd\n",
    "import matplotlib.pyplot as plt"
   ]
  },
  {
   "cell_type": "markdown",
   "metadata": {},
   "source": [
    "### Load the Data\n",
    "\n",
    "- Each row is a user\n",
    "- The first column is the total number of jokes rated by that user.\n",
    "- The remaining columns are the ratings of the individual jokes, from -10 to 10\n",
    "- An entry of 99 means no rating."
   ]
  },
  {
   "cell_type": "code",
   "execution_count": 3,
   "metadata": {
    "collapsed": false
   },
   "outputs": [
    {
     "data": {
      "text/plain": [
       "array([[-7.82,  8.79, -9.66, -8.16, -7.52],\n",
       "       [ 4.08, -0.29,  6.36,  4.37, -2.38],\n",
       "       [ 0.  ,  0.  ,  0.  ,  0.  ,  9.03],\n",
       "       [ 0.  ,  8.35,  0.  ,  0.  ,  1.8 ],\n",
       "       [ 8.5 ,  4.61, -4.17, -5.39,  1.36]])"
      ]
     },
     "execution_count": 3,
     "metadata": {},
     "output_type": "execute_result"
    }
   ],
   "source": [
    "data = pd.read_csv('jester_data.csv', header=None).values\n",
    "data[data==99] = 0\n",
    "number_rated = data[:, 0]\n",
    "ratings = data[:, 1:]\n",
    "ratings[:5,:5]"
   ]
  },
  {
   "cell_type": "code",
   "execution_count": 4,
   "metadata": {
    "collapsed": false
   },
   "outputs": [
    {
     "data": {
      "text/plain": [
       "(73421, 100)"
      ]
     },
     "execution_count": 4,
     "metadata": {},
     "output_type": "execute_result"
    }
   ],
   "source": [
    "ratings.shape"
   ]
  },
  {
   "cell_type": "markdown",
   "metadata": {},
   "source": [
    "# Do some EDA on the data\n",
    "\n",
    "How many jokes does an average person rate? What is most jokes rated? What is the fewest number of jokes rated?\n",
    "\n",
    "How many ratings on average does each joke have?\n",
    "\n",
    "What is a joke with the most ratings? Which is one with the fewest ratings?\n",
    "\n",
    "What is the average rating for all jokes? (Be sure to exclude the 0 values!)"
   ]
  },
  {
   "cell_type": "code",
   "execution_count": 29,
   "metadata": {
    "collapsed": false,
    "scrolled": true
   },
   "outputs": [
    {
     "data": {
      "text/html": [
       "<div>\n",
       "<table border=\"1\" class=\"dataframe\">\n",
       "  <thead>\n",
       "    <tr style=\"text-align: right;\">\n",
       "      <th></th>\n",
       "      <th>0</th>\n",
       "      <th>1</th>\n",
       "      <th>2</th>\n",
       "      <th>3</th>\n",
       "      <th>4</th>\n",
       "      <th>5</th>\n",
       "      <th>6</th>\n",
       "      <th>7</th>\n",
       "      <th>8</th>\n",
       "      <th>9</th>\n",
       "      <th>...</th>\n",
       "      <th>91</th>\n",
       "      <th>92</th>\n",
       "      <th>93</th>\n",
       "      <th>94</th>\n",
       "      <th>95</th>\n",
       "      <th>96</th>\n",
       "      <th>97</th>\n",
       "      <th>98</th>\n",
       "      <th>99</th>\n",
       "      <th>100</th>\n",
       "    </tr>\n",
       "  </thead>\n",
       "  <tbody>\n",
       "    <tr>\n",
       "      <th>0</th>\n",
       "      <td>74.0</td>\n",
       "      <td>-7.82</td>\n",
       "      <td>8.79</td>\n",
       "      <td>-9.66</td>\n",
       "      <td>-8.16</td>\n",
       "      <td>-7.52</td>\n",
       "      <td>-8.50</td>\n",
       "      <td>-9.85</td>\n",
       "      <td>4.17</td>\n",
       "      <td>-8.98</td>\n",
       "      <td>...</td>\n",
       "      <td>2.82</td>\n",
       "      <td>0.00</td>\n",
       "      <td>0.00</td>\n",
       "      <td>0.00</td>\n",
       "      <td>0.00</td>\n",
       "      <td>0.00</td>\n",
       "      <td>-5.63</td>\n",
       "      <td>0.00</td>\n",
       "      <td>0.00</td>\n",
       "      <td>0.00</td>\n",
       "    </tr>\n",
       "    <tr>\n",
       "      <th>1</th>\n",
       "      <td>100.0</td>\n",
       "      <td>4.08</td>\n",
       "      <td>-0.29</td>\n",
       "      <td>6.36</td>\n",
       "      <td>4.37</td>\n",
       "      <td>-2.38</td>\n",
       "      <td>-9.66</td>\n",
       "      <td>-0.73</td>\n",
       "      <td>-5.34</td>\n",
       "      <td>8.88</td>\n",
       "      <td>...</td>\n",
       "      <td>2.82</td>\n",
       "      <td>-4.95</td>\n",
       "      <td>-0.29</td>\n",
       "      <td>7.86</td>\n",
       "      <td>-0.19</td>\n",
       "      <td>-2.14</td>\n",
       "      <td>3.06</td>\n",
       "      <td>0.34</td>\n",
       "      <td>-4.32</td>\n",
       "      <td>1.07</td>\n",
       "    </tr>\n",
       "    <tr>\n",
       "      <th>2</th>\n",
       "      <td>49.0</td>\n",
       "      <td>0.00</td>\n",
       "      <td>0.00</td>\n",
       "      <td>0.00</td>\n",
       "      <td>0.00</td>\n",
       "      <td>9.03</td>\n",
       "      <td>9.27</td>\n",
       "      <td>9.03</td>\n",
       "      <td>9.27</td>\n",
       "      <td>0.00</td>\n",
       "      <td>...</td>\n",
       "      <td>0.00</td>\n",
       "      <td>0.00</td>\n",
       "      <td>0.00</td>\n",
       "      <td>9.08</td>\n",
       "      <td>0.00</td>\n",
       "      <td>0.00</td>\n",
       "      <td>0.00</td>\n",
       "      <td>0.00</td>\n",
       "      <td>0.00</td>\n",
       "      <td>0.00</td>\n",
       "    </tr>\n",
       "    <tr>\n",
       "      <th>3</th>\n",
       "      <td>48.0</td>\n",
       "      <td>0.00</td>\n",
       "      <td>8.35</td>\n",
       "      <td>0.00</td>\n",
       "      <td>0.00</td>\n",
       "      <td>1.80</td>\n",
       "      <td>8.16</td>\n",
       "      <td>-2.82</td>\n",
       "      <td>6.21</td>\n",
       "      <td>0.00</td>\n",
       "      <td>...</td>\n",
       "      <td>0.00</td>\n",
       "      <td>0.00</td>\n",
       "      <td>0.00</td>\n",
       "      <td>0.53</td>\n",
       "      <td>0.00</td>\n",
       "      <td>0.00</td>\n",
       "      <td>0.00</td>\n",
       "      <td>0.00</td>\n",
       "      <td>0.00</td>\n",
       "      <td>0.00</td>\n",
       "    </tr>\n",
       "    <tr>\n",
       "      <th>4</th>\n",
       "      <td>91.0</td>\n",
       "      <td>8.50</td>\n",
       "      <td>4.61</td>\n",
       "      <td>-4.17</td>\n",
       "      <td>-5.39</td>\n",
       "      <td>1.36</td>\n",
       "      <td>1.60</td>\n",
       "      <td>7.04</td>\n",
       "      <td>4.61</td>\n",
       "      <td>-0.44</td>\n",
       "      <td>...</td>\n",
       "      <td>5.19</td>\n",
       "      <td>5.58</td>\n",
       "      <td>4.27</td>\n",
       "      <td>5.19</td>\n",
       "      <td>5.73</td>\n",
       "      <td>1.55</td>\n",
       "      <td>3.11</td>\n",
       "      <td>6.55</td>\n",
       "      <td>1.80</td>\n",
       "      <td>1.60</td>\n",
       "    </tr>\n",
       "  </tbody>\n",
       "</table>\n",
       "<p>5 rows × 101 columns</p>\n",
       "</div>"
      ],
      "text/plain": [
       "     0     1     2     3     4     5     6     7     8     9    ...    91   \\\n",
       "0   74.0 -7.82  8.79 -9.66 -8.16 -7.52 -8.50 -9.85  4.17 -8.98  ...   2.82   \n",
       "1  100.0  4.08 -0.29  6.36  4.37 -2.38 -9.66 -0.73 -5.34  8.88  ...   2.82   \n",
       "2   49.0  0.00  0.00  0.00  0.00  9.03  9.27  9.03  9.27  0.00  ...   0.00   \n",
       "3   48.0  0.00  8.35  0.00  0.00  1.80  8.16 -2.82  6.21  0.00  ...   0.00   \n",
       "4   91.0  8.50  4.61 -4.17 -5.39  1.36  1.60  7.04  4.61 -0.44  ...   5.19   \n",
       "\n",
       "    92    93    94    95    96    97    98    99    100  \n",
       "0  0.00  0.00  0.00  0.00  0.00 -5.63  0.00  0.00  0.00  \n",
       "1 -4.95 -0.29  7.86 -0.19 -2.14  3.06  0.34 -4.32  1.07  \n",
       "2  0.00  0.00  9.08  0.00  0.00  0.00  0.00  0.00  0.00  \n",
       "3  0.00  0.00  0.53  0.00  0.00  0.00  0.00  0.00  0.00  \n",
       "4  5.58  4.27  5.19  5.73  1.55  3.11  6.55  1.80  1.60  \n",
       "\n",
       "[5 rows x 101 columns]"
      ]
     },
     "execution_count": 29,
     "metadata": {},
     "output_type": "execute_result"
    }
   ],
   "source": [
    "data_DF = pd.DataFrame(data)\n",
    "ratings_DF = pd.DataFrame(ratings)\n",
    "\n",
    "data_DF.head()\n"
   ]
  },
  {
   "cell_type": "code",
   "execution_count": 30,
   "metadata": {
    "collapsed": false
   },
   "outputs": [
    {
     "data": {
      "text/html": [
       "<div>\n",
       "<table border=\"1\" class=\"dataframe\">\n",
       "  <thead>\n",
       "    <tr style=\"text-align: right;\">\n",
       "      <th></th>\n",
       "      <th>0</th>\n",
       "      <th>1</th>\n",
       "      <th>2</th>\n",
       "      <th>3</th>\n",
       "      <th>4</th>\n",
       "      <th>5</th>\n",
       "      <th>6</th>\n",
       "      <th>7</th>\n",
       "      <th>8</th>\n",
       "      <th>9</th>\n",
       "      <th>...</th>\n",
       "      <th>91</th>\n",
       "      <th>92</th>\n",
       "      <th>93</th>\n",
       "      <th>94</th>\n",
       "      <th>95</th>\n",
       "      <th>96</th>\n",
       "      <th>97</th>\n",
       "      <th>98</th>\n",
       "      <th>99</th>\n",
       "      <th>100</th>\n",
       "    </tr>\n",
       "  </thead>\n",
       "  <tbody>\n",
       "    <tr>\n",
       "      <th>count</th>\n",
       "      <td>73421.000000</td>\n",
       "      <td>73421.000000</td>\n",
       "      <td>73421.000000</td>\n",
       "      <td>73421.000000</td>\n",
       "      <td>73421.000000</td>\n",
       "      <td>73421.000000</td>\n",
       "      <td>73421.000000</td>\n",
       "      <td>73421.000000</td>\n",
       "      <td>73421.000000</td>\n",
       "      <td>73421.000000</td>\n",
       "      <td>...</td>\n",
       "      <td>73421.000000</td>\n",
       "      <td>73421.000000</td>\n",
       "      <td>73421.000000</td>\n",
       "      <td>73421.000000</td>\n",
       "      <td>73421.000000</td>\n",
       "      <td>73421.000000</td>\n",
       "      <td>73421.000000</td>\n",
       "      <td>73421.000000</td>\n",
       "      <td>73421.000000</td>\n",
       "      <td>73421.000000</td>\n",
       "    </tr>\n",
       "    <tr>\n",
       "      <th>mean</th>\n",
       "      <td>56.117773</td>\n",
       "      <td>0.393423</td>\n",
       "      <td>0.078312</td>\n",
       "      <td>0.085356</td>\n",
       "      <td>-0.587042</td>\n",
       "      <td>0.235301</td>\n",
       "      <td>0.717474</td>\n",
       "      <td>-0.633774</td>\n",
       "      <td>-0.996131</td>\n",
       "      <td>-0.259607</td>\n",
       "      <td>...</td>\n",
       "      <td>0.543751</td>\n",
       "      <td>0.324124</td>\n",
       "      <td>0.659236</td>\n",
       "      <td>0.321433</td>\n",
       "      <td>0.309997</td>\n",
       "      <td>0.414464</td>\n",
       "      <td>0.457475</td>\n",
       "      <td>0.269036</td>\n",
       "      <td>-0.011429</td>\n",
       "      <td>0.296525</td>\n",
       "    </tr>\n",
       "    <tr>\n",
       "      <th>std</th>\n",
       "      <td>29.066602</td>\n",
       "      <td>3.491382</td>\n",
       "      <td>3.901926</td>\n",
       "      <td>3.621108</td>\n",
       "      <td>3.471794</td>\n",
       "      <td>5.302325</td>\n",
       "      <td>3.714736</td>\n",
       "      <td>5.610147</td>\n",
       "      <td>4.967938</td>\n",
       "      <td>3.379664</td>\n",
       "      <td>...</td>\n",
       "      <td>2.888323</td>\n",
       "      <td>2.820525</td>\n",
       "      <td>2.760490</td>\n",
       "      <td>2.870173</td>\n",
       "      <td>2.885717</td>\n",
       "      <td>2.762403</td>\n",
       "      <td>2.904044</td>\n",
       "      <td>3.008637</td>\n",
       "      <td>2.940424</td>\n",
       "      <td>2.789072</td>\n",
       "    </tr>\n",
       "    <tr>\n",
       "      <th>min</th>\n",
       "      <td>0.000000</td>\n",
       "      <td>-9.950000</td>\n",
       "      <td>-9.950000</td>\n",
       "      <td>-9.950000</td>\n",
       "      <td>-9.950000</td>\n",
       "      <td>-9.950000</td>\n",
       "      <td>-9.950000</td>\n",
       "      <td>-9.950000</td>\n",
       "      <td>-9.950000</td>\n",
       "      <td>-9.950000</td>\n",
       "      <td>...</td>\n",
       "      <td>-9.950000</td>\n",
       "      <td>-9.950000</td>\n",
       "      <td>-9.950000</td>\n",
       "      <td>-9.950000</td>\n",
       "      <td>-9.950000</td>\n",
       "      <td>-9.950000</td>\n",
       "      <td>-9.950000</td>\n",
       "      <td>-9.950000</td>\n",
       "      <td>-9.950000</td>\n",
       "      <td>-9.950000</td>\n",
       "    </tr>\n",
       "    <tr>\n",
       "      <th>25%</th>\n",
       "      <td>29.000000</td>\n",
       "      <td>0.000000</td>\n",
       "      <td>0.000000</td>\n",
       "      <td>0.000000</td>\n",
       "      <td>0.000000</td>\n",
       "      <td>-4.030000</td>\n",
       "      <td>0.000000</td>\n",
       "      <td>-5.870000</td>\n",
       "      <td>-5.190000</td>\n",
       "      <td>0.000000</td>\n",
       "      <td>...</td>\n",
       "      <td>0.000000</td>\n",
       "      <td>0.000000</td>\n",
       "      <td>0.000000</td>\n",
       "      <td>0.000000</td>\n",
       "      <td>0.000000</td>\n",
       "      <td>0.000000</td>\n",
       "      <td>0.000000</td>\n",
       "      <td>0.000000</td>\n",
       "      <td>0.000000</td>\n",
       "      <td>0.000000</td>\n",
       "    </tr>\n",
       "    <tr>\n",
       "      <th>50%</th>\n",
       "      <td>52.000000</td>\n",
       "      <td>0.000000</td>\n",
       "      <td>0.000000</td>\n",
       "      <td>0.000000</td>\n",
       "      <td>0.000000</td>\n",
       "      <td>0.920000</td>\n",
       "      <td>0.000000</td>\n",
       "      <td>-0.290000</td>\n",
       "      <td>-0.630000</td>\n",
       "      <td>0.000000</td>\n",
       "      <td>...</td>\n",
       "      <td>0.000000</td>\n",
       "      <td>0.000000</td>\n",
       "      <td>0.000000</td>\n",
       "      <td>0.000000</td>\n",
       "      <td>0.000000</td>\n",
       "      <td>0.000000</td>\n",
       "      <td>0.000000</td>\n",
       "      <td>0.000000</td>\n",
       "      <td>0.000000</td>\n",
       "      <td>0.000000</td>\n",
       "    </tr>\n",
       "    <tr>\n",
       "      <th>75%</th>\n",
       "      <td>75.000000</td>\n",
       "      <td>0.530000</td>\n",
       "      <td>0.390000</td>\n",
       "      <td>0.000000</td>\n",
       "      <td>0.000000</td>\n",
       "      <td>4.370000</td>\n",
       "      <td>2.380000</td>\n",
       "      <td>3.880000</td>\n",
       "      <td>2.770000</td>\n",
       "      <td>0.000000</td>\n",
       "      <td>...</td>\n",
       "      <td>0.000000</td>\n",
       "      <td>0.000000</td>\n",
       "      <td>0.000000</td>\n",
       "      <td>0.000000</td>\n",
       "      <td>0.000000</td>\n",
       "      <td>0.000000</td>\n",
       "      <td>0.000000</td>\n",
       "      <td>0.000000</td>\n",
       "      <td>0.000000</td>\n",
       "      <td>0.000000</td>\n",
       "    </tr>\n",
       "    <tr>\n",
       "      <th>max</th>\n",
       "      <td>100.000000</td>\n",
       "      <td>9.610000</td>\n",
       "      <td>9.370000</td>\n",
       "      <td>9.610000</td>\n",
       "      <td>9.370000</td>\n",
       "      <td>9.510000</td>\n",
       "      <td>9.660000</td>\n",
       "      <td>10.000000</td>\n",
       "      <td>9.760000</td>\n",
       "      <td>9.900000</td>\n",
       "      <td>...</td>\n",
       "      <td>9.560000</td>\n",
       "      <td>9.610000</td>\n",
       "      <td>9.370000</td>\n",
       "      <td>9.420000</td>\n",
       "      <td>9.370000</td>\n",
       "      <td>9.370000</td>\n",
       "      <td>9.370000</td>\n",
       "      <td>9.370000</td>\n",
       "      <td>9.810000</td>\n",
       "      <td>9.370000</td>\n",
       "    </tr>\n",
       "  </tbody>\n",
       "</table>\n",
       "<p>8 rows × 101 columns</p>\n",
       "</div>"
      ],
      "text/plain": [
       "                0             1             2             3             4    \\\n",
       "count  73421.000000  73421.000000  73421.000000  73421.000000  73421.000000   \n",
       "mean      56.117773      0.393423      0.078312      0.085356     -0.587042   \n",
       "std       29.066602      3.491382      3.901926      3.621108      3.471794   \n",
       "min        0.000000     -9.950000     -9.950000     -9.950000     -9.950000   \n",
       "25%       29.000000      0.000000      0.000000      0.000000      0.000000   \n",
       "50%       52.000000      0.000000      0.000000      0.000000      0.000000   \n",
       "75%       75.000000      0.530000      0.390000      0.000000      0.000000   \n",
       "max      100.000000      9.610000      9.370000      9.610000      9.370000   \n",
       "\n",
       "                5             6             7             8             9    \\\n",
       "count  73421.000000  73421.000000  73421.000000  73421.000000  73421.000000   \n",
       "mean       0.235301      0.717474     -0.633774     -0.996131     -0.259607   \n",
       "std        5.302325      3.714736      5.610147      4.967938      3.379664   \n",
       "min       -9.950000     -9.950000     -9.950000     -9.950000     -9.950000   \n",
       "25%       -4.030000      0.000000     -5.870000     -5.190000      0.000000   \n",
       "50%        0.920000      0.000000     -0.290000     -0.630000      0.000000   \n",
       "75%        4.370000      2.380000      3.880000      2.770000      0.000000   \n",
       "max        9.510000      9.660000     10.000000      9.760000      9.900000   \n",
       "\n",
       "           ...                91            92            93            94   \\\n",
       "count      ...       73421.000000  73421.000000  73421.000000  73421.000000   \n",
       "mean       ...           0.543751      0.324124      0.659236      0.321433   \n",
       "std        ...           2.888323      2.820525      2.760490      2.870173   \n",
       "min        ...          -9.950000     -9.950000     -9.950000     -9.950000   \n",
       "25%        ...           0.000000      0.000000      0.000000      0.000000   \n",
       "50%        ...           0.000000      0.000000      0.000000      0.000000   \n",
       "75%        ...           0.000000      0.000000      0.000000      0.000000   \n",
       "max        ...           9.560000      9.610000      9.370000      9.420000   \n",
       "\n",
       "                95            96            97            98            99   \\\n",
       "count  73421.000000  73421.000000  73421.000000  73421.000000  73421.000000   \n",
       "mean       0.309997      0.414464      0.457475      0.269036     -0.011429   \n",
       "std        2.885717      2.762403      2.904044      3.008637      2.940424   \n",
       "min       -9.950000     -9.950000     -9.950000     -9.950000     -9.950000   \n",
       "25%        0.000000      0.000000      0.000000      0.000000      0.000000   \n",
       "50%        0.000000      0.000000      0.000000      0.000000      0.000000   \n",
       "75%        0.000000      0.000000      0.000000      0.000000      0.000000   \n",
       "max        9.370000      9.370000      9.370000      9.370000      9.810000   \n",
       "\n",
       "                100  \n",
       "count  73421.000000  \n",
       "mean       0.296525  \n",
       "std        2.789072  \n",
       "min       -9.950000  \n",
       "25%        0.000000  \n",
       "50%        0.000000  \n",
       "75%        0.000000  \n",
       "max        9.370000  \n",
       "\n",
       "[8 rows x 101 columns]"
      ]
     },
     "execution_count": 30,
     "metadata": {},
     "output_type": "execute_result"
    }
   ],
   "source": [
    "data_DF.describe()\n",
    "\n",
    "#average of 56 ratings per user\n",
    "#most jokes rated is all 100 jokes\n",
    "#fewest number of jokes rated is zero\n"
   ]
  },
  {
   "cell_type": "code",
   "execution_count": 33,
   "metadata": {
    "collapsed": false
   },
   "outputs": [
    {
     "name": "stdout",
     "output_type": "stream",
     "text": [
      "15\n",
      "41237.56\n"
     ]
    }
   ],
   "source": [
    "#number of people who rated each joke\n",
    "ratings_per_joke = ratings_DF.astype(bool).sum(axis=0)\n",
    "\n",
    "#most ratings is joke number 15\n",
    "print np.argmax(ratings_per_joke)\n",
    "\n",
    "\n",
    "print np.mean(ratings_per_joke)"
   ]
  },
  {
   "cell_type": "code",
   "execution_count": 34,
   "metadata": {
    "collapsed": false
   },
   "outputs": [
    {
     "data": {
      "text/plain": [
       "0    31926\n",
       "1    35178\n",
       "2    32296\n",
       "3    30430\n",
       "4    73194\n",
       "dtype: int64"
      ]
     },
     "execution_count": 34,
     "metadata": {},
     "output_type": "execute_result"
    }
   ],
   "source": [
    "ratings_per_joke.head()"
   ]
  },
  {
   "cell_type": "markdown",
   "metadata": {},
   "source": [
    "# Unregularized SVD Based Collaborative Filtering\n",
    "\n",
    "## step 1: full SVD\n",
    "\n",
    "We'll do a simple though not very effective way at collaborative filtering: a simple SVD approach.\n",
    "\n",
    "SVD (singular value decomposition) is a way of decomposing a matrix into thing like eigenvectors and eigenvalues. It looks like this for a matrix M:\n",
    "\n",
    "M = U * S * V\n",
    "\n",
    "Here, if we suppose M is an n by p matrix:\n",
    "U is an N by p matrix\n",
    "S is a p by p diagonal matrix\n",
    "V is a p by p matrix\n",
    "\n",
    "In our problem, we have n users rating p jokes\n",
    "\n",
    "In recommender problems, it has the interpretation as follows:\n",
    "U is a representation of the users, as p features\n",
    "V is a representation of the jokes, as p features (different from those in U)\n",
    "S is a vector that gives the joint importance of both feature sets"
   ]
  },
  {
   "cell_type": "code",
   "execution_count": 19,
   "metadata": {
    "collapsed": false
   },
   "outputs": [
    {
     "name": "stdout",
     "output_type": "stream",
     "text": [
      "(73421, 100)\n",
      "(100,)\n",
      "(100, 100)\n",
      "[[-7.82  8.79 -9.66 ...,  0.    0.    0.  ]\n",
      " [ 4.08 -0.29  6.36 ...,  0.34 -4.32  1.07]\n",
      " [ 0.    0.    0.   ...,  0.    0.    0.  ]\n",
      " ..., \n",
      " [ 0.    0.    0.   ...,  0.    0.    0.  ]\n",
      " [ 0.    0.    0.   ...,  0.    0.    0.  ]\n",
      " [ 0.    0.    0.   ...,  0.    0.    0.  ]]\n",
      "[[ -7.82000000e+00   8.79000000e+00  -9.66000000e+00 ...,  -2.57571742e-14\n",
      "   -4.06341627e-14  -5.32907052e-14]\n",
      " [  4.08000000e+00  -2.90000000e-01   6.36000000e+00 ...,   3.40000000e-01\n",
      "   -4.32000000e+00   1.07000000e+00]\n",
      " [  1.18133678e-14   2.25933694e-14   2.08051887e-14 ...,   2.39808173e-14\n",
      "    1.31006317e-14  -1.99840144e-15]\n",
      " ..., \n",
      " [  9.53566584e-15   1.53360951e-15   2.01976018e-15 ...,   2.44249065e-15\n",
      "   -1.77635684e-15   1.99840144e-15]\n",
      " [  1.05011316e-14   1.25922002e-14   1.79581777e-14 ...,   2.66453526e-15\n",
      "    3.83026943e-15   8.88178420e-16]\n",
      " [  1.21649734e-14  -5.40528933e-15  -3.22277500e-15 ...,  -6.80011603e-15\n",
      "   -2.22044605e-16  -2.88657986e-15]]\n"
     ]
    }
   ],
   "source": [
    "# full svd; note the first column is dropped since that has the number of jokes rated, we don't care about that\n",
    "u, s, v = np.linalg.svd(ratings, full_matrices=False)\n",
    "\n",
    "print u.shape\n",
    "print s.shape\n",
    "print v.shape\n",
    "\n",
    "# these are (nearly) the same, that's the decomposition!\n",
    "print data[:, 1:]\n",
    "print np.dot(np.dot(u, np.diag(s)), v) # the full reconstruction"
   ]
  },
  {
   "cell_type": "markdown",
   "metadata": {},
   "source": [
    "##  Step 2: Filling in values by truncating the SVD\n",
    "\n",
    "The SVD above just recovers the original matrix. That is not very interesting, we want to get a new estimate for those missing values. To do this, we need to drop dimensions.\n",
    "\n",
    "Inspect S, you should see that it is sorted in decreasing order. Write code to only take the first few dimensions in each of the projections. This means simply to replace the matrix S (you will have to construct it using np.diag) with a new matrix with many of the diagonal values zeroed out."
   ]
  },
  {
   "cell_type": "code",
   "execution_count": 28,
   "metadata": {
    "collapsed": false
   },
   "outputs": [],
   "source": [
    "s_adj = s.copy()\n",
    "\n",
    "#create new S where we set the values of everything other than the first three values equal to zero\n",
    "#This makes everything after the first three latent features have zero weight when we reconstruct the ratings.\n",
    "s_adj[3:] = 0\n",
    "\n",
    "s_adj_diag = np.diag(s_adj)\n",
    "s_adj_diag\n",
    "\n",
    "#reconstruct \n",
    "ratings_pred = np.dot(np.dot(u, s_adj_diag), v)"
   ]
  },
  {
   "cell_type": "markdown",
   "metadata": {},
   "source": [
    "You should now have an approximation to the original matrix. Take the filled in values only and compare them to the non filled in values, do this for a few users and jokes. You might find it useful to write a function to inspect a row or column. Considering doing things like:\n",
    "\n",
    "0. Count how many values are filled in, how many were already present for that row / column\n",
    "1. Compare the range of the filled in values with those not filled in within the row or column\n",
    "2. Compare the mean of the filled in values with those not filled in within the row or column"
   ]
  },
  {
   "cell_type": "code",
   "execution_count": 47,
   "metadata": {
    "collapsed": false
   },
   "outputs": [],
   "source": [
    "test = ratings_DF.iloc[4,]\n",
    "#test.astype(bool)"
   ]
  },
  {
   "cell_type": "code",
   "execution_count": 48,
   "metadata": {
    "collapsed": false
   },
   "outputs": [
    {
     "name": "stdout",
     "output_type": "stream",
     "text": [
      "Joke 25 was actually rated by 48443 users\n",
      "Predictions for joke 25 were filled in for 48443 users\n",
      "The mean of non-zero actual ratings for joke 25 is 4.22328358209\n",
      "The mean of non-zero predicted ratings for joke 25 is 3.12938155219\n",
      "\n",
      "-----\n",
      "\n"
     ]
    }
   ],
   "source": [
    "#Convert predicted values to dataframe\n",
    "ratings_pred_DF = pd.DataFrame(ratings_pred)\n",
    "\n",
    "\n",
    "def inspect_filled_in_joke(ii):\n",
    "    #how many values were filled in in the actual ratings?\n",
    "    filled_in_actual = ratings_DF.astype(bool).sum(axis=0)\n",
    "    filled_in_actual_joke = filled_in_actual[ii]\n",
    "    print \"Joke \" + str(ii) + \" was actually rated by \" + str(int(filled_in_actual_joke)) + \" users\"\n",
    "    \n",
    "    #how many values were filled in in the predicted ratings\n",
    "    filled_in_pred = ratings_pred_DF.astype(bool).sum(axis=1)\n",
    "    filled_in_pred_joke = filled_in_actual[ii]\n",
    "    print \"Predictions for joke \" + str(ii) + \" were filled in for \" + str(int(filled_in_pred_joke)) + \" users\"\n",
    "    \n",
    "    #look at the mean of filled in actual ratings and filled in predicted ratings\n",
    "    filled_in_actual = ratings_DF.iloc[ii,]\n",
    "    #get non-zero ratings\n",
    "    filled_in_actual_non_zero = filled_in_actual[filled_in_actual.astype(bool)]\n",
    "    #get mean\n",
    "    mean_actual = np.mean(filled_in_actual_non_zero)\n",
    "    print \"The mean of non-zero actual ratings for joke \" + str(ii) + \" is \" + str(mean_actual)\n",
    "    \n",
    "    filled_in_pred = ratings_pred_DF.iloc[ii,]\n",
    "    #get non-zero ratings\n",
    "    filled_in_pred_non_zero = filled_in_pred[filled_in_pred.astype(bool)]\n",
    "    #get mean\n",
    "    mean_pred = np.mean(filled_in_pred_non_zero)\n",
    "    print \"The mean of non-zero predicted ratings for joke \" + str(ii) + \" is \" + str(mean_pred)\n",
    "    \n",
    "    \n",
    "    \n",
    "def inspect_filled_in_user(ii):\n",
    "    pass\n",
    "\n",
    "inspect_filled_in_joke(25)\n",
    "print \"\\n-----\\n\"\n",
    "inspect_filled_in_user(2)"
   ]
  },
  {
   "cell_type": "markdown",
   "metadata": {},
   "source": [
    "## Step 3: Let's actually use this thing. \n",
    "\n",
    "Write a function to recommend a joke (s)he's not rated to a user who has at least one unrated joke. Use it for a few people and print the results.\n",
    "\n",
    "Use it on all users and make a histogram of the recommendations. Compare this to a histogram of missing values (number of times a joke was not rated). Does this system recommend a joke very often? Does it make sense?"
   ]
  },
  {
   "cell_type": "code",
   "execution_count": null,
   "metadata": {
    "collapsed": false
   },
   "outputs": [],
   "source": []
  },
  {
   "cell_type": "markdown",
   "metadata": {
    "collapsed": true
   },
   "source": [
    "## Step 4: Examining the joke and user spaces\n",
    "\n",
    "The SVD gave us projections of both the users and the jokes. Let's see if those projections give us any insight.\n",
    "\n",
    "Now, plot the first two rows (the projection dimensions appear on the rows here) of the joke projection matrix. Are there different types of jokes?\n",
    "\n",
    "Plot the first two columns (the projection dimensions appear on the columns here) of the user projection matrix. Are there different types of users?"
   ]
  },
  {
   "cell_type": "code",
   "execution_count": 52,
   "metadata": {
    "collapsed": false
   },
   "outputs": [
    {
     "data": {
      "text/plain": [
       "(73421, 100)"
      ]
     },
     "execution_count": 52,
     "metadata": {},
     "output_type": "execute_result"
    }
   ],
   "source": [
    "u.shape"
   ]
  },
  {
   "cell_type": "code",
   "execution_count": 55,
   "metadata": {
    "collapsed": false
   },
   "outputs": [
    {
     "data": {
      "text/plain": [
       "<matplotlib.collections.PathCollection at 0x104b00cd0>"
      ]
     },
     "execution_count": 55,
     "metadata": {},
     "output_type": "execute_result"
    },
    {
     "data": {
      "image/png": "[encoded data removed]",
      "text/plain": [
       "<matplotlib.figure.Figure at 0x132299410>"
      ]
     },
     "metadata": {},
     "output_type": "display_data"
    }
   ],
   "source": [
    "plt.scatter(u[0,], u[1,])"
   ]
  },
  {
   "cell_type": "code",
   "execution_count": null,
   "metadata": {
    "collapsed": true
   },
   "outputs": [],
   "source": []
  }
 ],
 "metadata": {
  "anaconda-cloud": {},
  "kernelspec": {
   "display_name": "Python [conda env:Machine_learning_python2]",
   "language": "python",
   "name": "conda-env-Machine_learning_python2-py"
  },
  "language_info": {
   "codemirror_mode": {
    "name": "ipython",
    "version": 2
   },
   "file_extension": ".py",
   "mimetype": "text/x-python",
   "name": "python",
   "nbconvert_exporter": "python",
   "pygments_lexer": "ipython2",
   "version": "2.7.13"
  }
 },
 "nbformat": 4,
 "nbformat_minor": 0
}
