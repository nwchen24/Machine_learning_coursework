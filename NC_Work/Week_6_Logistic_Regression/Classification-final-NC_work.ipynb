{
 "cells": [
  {
   "cell_type": "code",
   "execution_count": 3,
   "metadata": {
    "collapsed": true
   },
   "outputs": [],
   "source": [
    "import numpy as np\n",
    "import pandas as pd\n",
    "import matplotlib.pyplot as plt\n",
    "%matplotlib inline"
   ]
  },
  {
   "cell_type": "markdown",
   "metadata": {},
   "source": [
    "# Logistic Regression and Imbalanced Classes"
   ]
  },
  {
   "cell_type": "markdown",
   "metadata": {},
   "source": [
    "## Abalone Data"
   ]
  },
  {
   "cell_type": "code",
   "execution_count": 4,
   "metadata": {
    "collapsed": false
   },
   "outputs": [
    {
     "data": {
      "text/html": [
       "<div>\n",
       "<table border=\"1\" class=\"dataframe\">\n",
       "  <thead>\n",
       "    <tr style=\"text-align: right;\">\n",
       "      <th></th>\n",
       "      <th>Sex</th>\n",
       "      <th>Length</th>\n",
       "      <th>Diameter</th>\n",
       "      <th>Height</th>\n",
       "      <th>Whole_weight</th>\n",
       "      <th>Shucked_weight</th>\n",
       "      <th>Viscera_weight</th>\n",
       "      <th>Shell_weight</th>\n",
       "      <th>Class</th>\n",
       "    </tr>\n",
       "  </thead>\n",
       "  <tbody>\n",
       "    <tr>\n",
       "      <th>0</th>\n",
       "      <td>M</td>\n",
       "      <td>0.455</td>\n",
       "      <td>0.365</td>\n",
       "      <td>0.095</td>\n",
       "      <td>0.5140</td>\n",
       "      <td>0.2245</td>\n",
       "      <td>0.1010</td>\n",
       "      <td>0.150</td>\n",
       "      <td>negative</td>\n",
       "    </tr>\n",
       "    <tr>\n",
       "      <th>1</th>\n",
       "      <td>M</td>\n",
       "      <td>0.350</td>\n",
       "      <td>0.265</td>\n",
       "      <td>0.090</td>\n",
       "      <td>0.2255</td>\n",
       "      <td>0.0995</td>\n",
       "      <td>0.0485</td>\n",
       "      <td>0.070</td>\n",
       "      <td>negative</td>\n",
       "    </tr>\n",
       "    <tr>\n",
       "      <th>2</th>\n",
       "      <td>F</td>\n",
       "      <td>0.530</td>\n",
       "      <td>0.420</td>\n",
       "      <td>0.135</td>\n",
       "      <td>0.6770</td>\n",
       "      <td>0.2565</td>\n",
       "      <td>0.1415</td>\n",
       "      <td>0.210</td>\n",
       "      <td>negative</td>\n",
       "    </tr>\n",
       "    <tr>\n",
       "      <th>3</th>\n",
       "      <td>M</td>\n",
       "      <td>0.440</td>\n",
       "      <td>0.365</td>\n",
       "      <td>0.125</td>\n",
       "      <td>0.5160</td>\n",
       "      <td>0.2155</td>\n",
       "      <td>0.1140</td>\n",
       "      <td>0.155</td>\n",
       "      <td>negative</td>\n",
       "    </tr>\n",
       "    <tr>\n",
       "      <th>4</th>\n",
       "      <td>I</td>\n",
       "      <td>0.330</td>\n",
       "      <td>0.255</td>\n",
       "      <td>0.080</td>\n",
       "      <td>0.2050</td>\n",
       "      <td>0.0895</td>\n",
       "      <td>0.0395</td>\n",
       "      <td>0.055</td>\n",
       "      <td>negative</td>\n",
       "    </tr>\n",
       "  </tbody>\n",
       "</table>\n",
       "</div>"
      ],
      "text/plain": [
       "  Sex  Length  Diameter  Height  Whole_weight  Shucked_weight  Viscera_weight  \\\n",
       "0   M   0.455     0.365   0.095        0.5140          0.2245          0.1010   \n",
       "1   M   0.350     0.265   0.090        0.2255          0.0995          0.0485   \n",
       "2   F   0.530     0.420   0.135        0.6770          0.2565          0.1415   \n",
       "3   M   0.440     0.365   0.125        0.5160          0.2155          0.1140   \n",
       "4   I   0.330     0.255   0.080        0.2050          0.0895          0.0395   \n",
       "\n",
       "   Shell_weight     Class  \n",
       "0         0.150  negative  \n",
       "1         0.070  negative  \n",
       "2         0.210  negative  \n",
       "3         0.155  negative  \n",
       "4         0.055  negative  "
      ]
     },
     "execution_count": 4,
     "metadata": {},
     "output_type": "execute_result"
    }
   ],
   "source": [
    "df = pd.read_csv('abalone19.csv')\n",
    "df.head()"
   ]
  },
  {
   "cell_type": "markdown",
   "metadata": {},
   "source": [
    "The target variable is 'Class'. Check the distribution of values"
   ]
  },
  {
   "cell_type": "code",
   "execution_count": 5,
   "metadata": {
    "collapsed": false
   },
   "outputs": [
    {
     "name": "stdout",
     "output_type": "stream",
     "text": [
      "(4174, 9)\n"
     ]
    },
    {
     "data": {
      "text/plain": [
       "negative     4142\n",
       " positive      32\n",
       "Name: Class, dtype: int64"
      ]
     },
     "execution_count": 5,
     "metadata": {},
     "output_type": "execute_result"
    }
   ],
   "source": [
    "print df.shape\n",
    "df.Class.value_counts()"
   ]
  },
  {
   "cell_type": "markdown",
   "metadata": {},
   "source": [
    "Let's make 'Class' a boolean variable instead of a string."
   ]
  },
  {
   "cell_type": "code",
   "execution_count": 7,
   "metadata": {
    "collapsed": false
   },
   "outputs": [
    {
     "data": {
      "text/plain": [
       "0        negative\n",
       "1        negative\n",
       "2        negative\n",
       "3        negative\n",
       "4        negative\n",
       "5        negative\n",
       "6        negative\n",
       "7        negative\n",
       "8        negative\n",
       "9        positive\n",
       "10       negative\n",
       "11       negative\n",
       "12       negative\n",
       "13       negative\n",
       "14       negative\n",
       "15       negative\n",
       "16       negative\n",
       "17       negative\n",
       "18       negative\n",
       "19       negative\n",
       "20       negative\n",
       "21       negative\n",
       "22       negative\n",
       "23       negative\n",
       "24       negative\n",
       "25       negative\n",
       "26       negative\n",
       "27       negative\n",
       "28       negative\n",
       "29       negative\n",
       "          ...    \n",
       "4144     negative\n",
       "4145     negative\n",
       "4146     negative\n",
       "4147     negative\n",
       "4148     negative\n",
       "4149     negative\n",
       "4150     negative\n",
       "4151     negative\n",
       "4152     negative\n",
       "4153     negative\n",
       "4154     negative\n",
       "4155     negative\n",
       "4156     negative\n",
       "4157     negative\n",
       "4158     negative\n",
       "4159     negative\n",
       "4160     negative\n",
       "4161     negative\n",
       "4162     negative\n",
       "4163     negative\n",
       "4164     negative\n",
       "4165     negative\n",
       "4166     negative\n",
       "4167     negative\n",
       "4168     negative\n",
       "4169     negative\n",
       "4170     negative\n",
       "4171     negative\n",
       "4172     negative\n",
       "4173     negative\n",
       "Name: Class, dtype: object"
      ]
     },
     "execution_count": 7,
     "metadata": {},
     "output_type": "execute_result"
    }
   ],
   "source": [
    "df.Class"
   ]
  },
  {
   "cell_type": "code",
   "execution_count": 8,
   "metadata": {
    "collapsed": false
   },
   "outputs": [],
   "source": [
    "df['Class'] = df.Class == ' positive'"
   ]
  },
  {
   "cell_type": "code",
   "execution_count": null,
   "metadata": {
    "collapsed": true
   },
   "outputs": [],
   "source": []
  },
  {
   "cell_type": "markdown",
   "metadata": {},
   "source": [
    "Keep track of different variable types"
   ]
  },
  {
   "cell_type": "code",
   "execution_count": 9,
   "metadata": {
    "collapsed": true
   },
   "outputs": [],
   "source": [
    "continuous = [\n",
    "    'Length',\n",
    "    'Diameter',\n",
    "    'Whole_weight',\n",
    "    'Shucked_weight',\n",
    "    'Viscera_weight',\n",
    "    'Shell_weight'\n",
    "]\n",
    "discrete = [\n",
    "    'Sex'\n",
    "]\n",
    "predictors = continuous + discrete\n",
    "target = 'Class'"
   ]
  },
  {
   "cell_type": "markdown",
   "metadata": {},
   "source": [
    "## Train/Test Split\n",
    "\n",
    "This time, let's separate X from y"
   ]
  },
  {
   "cell_type": "code",
   "execution_count": 10,
   "metadata": {
    "collapsed": false
   },
   "outputs": [],
   "source": [
    "from sklearn.model_selection import train_test_split\n",
    "X_train, X_test, y_train, y_test = train_test_split(df[predictors], df[target], random_state=2)"
   ]
  },
  {
   "cell_type": "markdown",
   "metadata": {},
   "source": [
    "## Feature Engineering"
   ]
  },
  {
   "cell_type": "markdown",
   "metadata": {},
   "source": [
    "### Normalize the continuous features"
   ]
  },
  {
   "cell_type": "code",
   "execution_count": 11,
   "metadata": {
    "collapsed": false
   },
   "outputs": [],
   "source": [
    "from sklearn.preprocessing import StandardScaler\n",
    "\n",
    "ss = StandardScaler()\n",
    "\n",
    "#Fit only on training data so that test data is not contaminated\n",
    "ss.fit(X_train[continuous])\n",
    "\n",
    "#then transform both the test and training data based on the mean and variance only in the training data\n",
    "X_train[continuous] = ss.transform(X_train[continuous])\n",
    "X_test[continuous] = ss.transform(X_test[continuous])"
   ]
  },
  {
   "cell_type": "code",
   "execution_count": 12,
   "metadata": {
    "collapsed": false
   },
   "outputs": [
    {
     "data": {
      "text/html": [
       "<div>\n",
       "<table border=\"1\" class=\"dataframe\">\n",
       "  <thead>\n",
       "    <tr style=\"text-align: right;\">\n",
       "      <th></th>\n",
       "      <th>Length</th>\n",
       "      <th>Diameter</th>\n",
       "      <th>Whole_weight</th>\n",
       "      <th>Shucked_weight</th>\n",
       "      <th>Viscera_weight</th>\n",
       "      <th>Shell_weight</th>\n",
       "      <th>Sex</th>\n",
       "    </tr>\n",
       "  </thead>\n",
       "  <tbody>\n",
       "    <tr>\n",
       "      <th>1067</th>\n",
       "      <td>-1.236238</td>\n",
       "      <td>-1.285376</td>\n",
       "      <td>-1.203345</td>\n",
       "      <td>-1.103296</td>\n",
       "      <td>-1.223797</td>\n",
       "      <td>-1.224836</td>\n",
       "      <td>I</td>\n",
       "    </tr>\n",
       "    <tr>\n",
       "      <th>3000</th>\n",
       "      <td>1.006980</td>\n",
       "      <td>0.977633</td>\n",
       "      <td>1.284357</td>\n",
       "      <td>1.036111</td>\n",
       "      <td>1.901695</td>\n",
       "      <td>1.260961</td>\n",
       "      <td>M</td>\n",
       "    </tr>\n",
       "    <tr>\n",
       "      <th>2724</th>\n",
       "      <td>-1.028533</td>\n",
       "      <td>-1.033931</td>\n",
       "      <td>-0.986671</td>\n",
       "      <td>-0.819975</td>\n",
       "      <td>-1.069788</td>\n",
       "      <td>-1.085945</td>\n",
       "      <td>I</td>\n",
       "    </tr>\n",
       "    <tr>\n",
       "      <th>3858</th>\n",
       "      <td>0.217699</td>\n",
       "      <td>0.575320</td>\n",
       "      <td>0.512835</td>\n",
       "      <td>-0.010168</td>\n",
       "      <td>0.121523</td>\n",
       "      <td>-0.348753</td>\n",
       "      <td>F</td>\n",
       "    </tr>\n",
       "    <tr>\n",
       "      <th>2395</th>\n",
       "      <td>0.923897</td>\n",
       "      <td>0.977633</td>\n",
       "      <td>1.018070</td>\n",
       "      <td>0.984801</td>\n",
       "      <td>0.646968</td>\n",
       "      <td>1.396291</td>\n",
       "      <td>I</td>\n",
       "    </tr>\n",
       "  </tbody>\n",
       "</table>\n",
       "</div>"
      ],
      "text/plain": [
       "        Length  Diameter  Whole_weight  Shucked_weight  Viscera_weight  \\\n",
       "1067 -1.236238 -1.285376     -1.203345       -1.103296       -1.223797   \n",
       "3000  1.006980  0.977633      1.284357        1.036111        1.901695   \n",
       "2724 -1.028533 -1.033931     -0.986671       -0.819975       -1.069788   \n",
       "3858  0.217699  0.575320      0.512835       -0.010168        0.121523   \n",
       "2395  0.923897  0.977633      1.018070        0.984801        0.646968   \n",
       "\n",
       "      Shell_weight Sex  \n",
       "1067     -1.224836   I  \n",
       "3000      1.260961   M  \n",
       "2724     -1.085945   I  \n",
       "3858     -0.348753   F  \n",
       "2395      1.396291   I  "
      ]
     },
     "execution_count": 12,
     "metadata": {},
     "output_type": "execute_result"
    }
   ],
   "source": [
    "X_train.head()"
   ]
  },
  {
   "cell_type": "markdown",
   "metadata": {},
   "source": [
    "### Binarize the categorical column"
   ]
  },
  {
   "cell_type": "code",
   "execution_count": 13,
   "metadata": {
    "collapsed": false
   },
   "outputs": [],
   "source": [
    "#Note, fit on training data ONLY then transform training and test data separately\n",
    "from sklearn.feature_extraction import DictVectorizer\n",
    "\n",
    "dv = DictVectorizer(sparse=False) \n",
    "X_train = pd.DataFrame(\n",
    "    dv.fit_transform(X_train.to_dict(orient='records')),\n",
    "    columns = dv.feature_names_\n",
    "    )\n",
    "\n",
    "X_test = pd.DataFrame(\n",
    "    dv.transform(X_test.to_dict(orient='records')),\n",
    "    columns = dv.feature_names_\n",
    ")"
   ]
  },
  {
   "cell_type": "code",
   "execution_count": 14,
   "metadata": {
    "collapsed": false
   },
   "outputs": [
    {
     "data": {
      "text/html": [
       "<div>\n",
       "<table border=\"1\" class=\"dataframe\">\n",
       "  <thead>\n",
       "    <tr style=\"text-align: right;\">\n",
       "      <th></th>\n",
       "      <th>Diameter</th>\n",
       "      <th>Length</th>\n",
       "      <th>Sex=F</th>\n",
       "      <th>Sex=I</th>\n",
       "      <th>Sex=M</th>\n",
       "      <th>Shell_weight</th>\n",
       "      <th>Shucked_weight</th>\n",
       "      <th>Viscera_weight</th>\n",
       "      <th>Whole_weight</th>\n",
       "    </tr>\n",
       "  </thead>\n",
       "  <tbody>\n",
       "    <tr>\n",
       "      <th>0</th>\n",
       "      <td>-1.285376</td>\n",
       "      <td>-1.236238</td>\n",
       "      <td>0.0</td>\n",
       "      <td>1.0</td>\n",
       "      <td>0.0</td>\n",
       "      <td>-1.224836</td>\n",
       "      <td>-1.103296</td>\n",
       "      <td>-1.223797</td>\n",
       "      <td>-1.203345</td>\n",
       "    </tr>\n",
       "    <tr>\n",
       "      <th>1</th>\n",
       "      <td>0.977633</td>\n",
       "      <td>1.006980</td>\n",
       "      <td>0.0</td>\n",
       "      <td>0.0</td>\n",
       "      <td>1.0</td>\n",
       "      <td>1.260961</td>\n",
       "      <td>1.036111</td>\n",
       "      <td>1.901695</td>\n",
       "      <td>1.284357</td>\n",
       "    </tr>\n",
       "    <tr>\n",
       "      <th>2</th>\n",
       "      <td>-1.033931</td>\n",
       "      <td>-1.028533</td>\n",
       "      <td>0.0</td>\n",
       "      <td>1.0</td>\n",
       "      <td>0.0</td>\n",
       "      <td>-1.085945</td>\n",
       "      <td>-0.819975</td>\n",
       "      <td>-1.069788</td>\n",
       "      <td>-0.986671</td>\n",
       "    </tr>\n",
       "    <tr>\n",
       "      <th>3</th>\n",
       "      <td>0.575320</td>\n",
       "      <td>0.217699</td>\n",
       "      <td>1.0</td>\n",
       "      <td>0.0</td>\n",
       "      <td>0.0</td>\n",
       "      <td>-0.348753</td>\n",
       "      <td>-0.010168</td>\n",
       "      <td>0.121523</td>\n",
       "      <td>0.512835</td>\n",
       "    </tr>\n",
       "    <tr>\n",
       "      <th>4</th>\n",
       "      <td>0.977633</td>\n",
       "      <td>0.923897</td>\n",
       "      <td>0.0</td>\n",
       "      <td>1.0</td>\n",
       "      <td>0.0</td>\n",
       "      <td>1.396291</td>\n",
       "      <td>0.984801</td>\n",
       "      <td>0.646968</td>\n",
       "      <td>1.018070</td>\n",
       "    </tr>\n",
       "  </tbody>\n",
       "</table>\n",
       "</div>"
      ],
      "text/plain": [
       "   Diameter    Length  Sex=F  Sex=I  Sex=M  Shell_weight  Shucked_weight  \\\n",
       "0 -1.285376 -1.236238    0.0    1.0    0.0     -1.224836       -1.103296   \n",
       "1  0.977633  1.006980    0.0    0.0    1.0      1.260961        1.036111   \n",
       "2 -1.033931 -1.028533    0.0    1.0    0.0     -1.085945       -0.819975   \n",
       "3  0.575320  0.217699    1.0    0.0    0.0     -0.348753       -0.010168   \n",
       "4  0.977633  0.923897    0.0    1.0    0.0      1.396291        0.984801   \n",
       "\n",
       "   Viscera_weight  Whole_weight  \n",
       "0       -1.223797     -1.203345  \n",
       "1        1.901695      1.284357  \n",
       "2       -1.069788     -0.986671  \n",
       "3        0.121523      0.512835  \n",
       "4        0.646968      1.018070  "
      ]
     },
     "execution_count": 14,
     "metadata": {},
     "output_type": "execute_result"
    }
   ],
   "source": [
    "X_train.head()"
   ]
  },
  {
   "cell_type": "markdown",
   "metadata": {},
   "source": [
    "## Logistic Regression"
   ]
  },
  {
   "cell_type": "code",
   "execution_count": 15,
   "metadata": {
    "collapsed": false
   },
   "outputs": [
    {
     "data": {
      "text/plain": [
       "LogisticRegression(C=1.0, class_weight=None, dual=False, fit_intercept=True,\n",
       "          intercept_scaling=1, max_iter=100, multi_class='ovr', n_jobs=1,\n",
       "          penalty='l2', random_state=None, solver='liblinear', tol=0.0001,\n",
       "          verbose=0, warm_start=False)"
      ]
     },
     "execution_count": 15,
     "metadata": {},
     "output_type": "execute_result"
    }
   ],
   "source": [
    "from sklearn.linear_model import LogisticRegression\n",
    "lr = LogisticRegression()\n",
    "lr.fit(X_train, y_train)"
   ]
  },
  {
   "cell_type": "markdown",
   "metadata": {},
   "source": [
    "### Accuracy on test set"
   ]
  },
  {
   "cell_type": "code",
   "execution_count": 16,
   "metadata": {
    "collapsed": false
   },
   "outputs": [
    {
     "data": {
      "text/plain": [
       "0.99329501915708818"
      ]
     },
     "execution_count": 16,
     "metadata": {},
     "output_type": "execute_result"
    }
   ],
   "source": [
    "lr.score(X_test, y_test)"
   ]
  },
  {
   "cell_type": "code",
   "execution_count": null,
   "metadata": {
    "collapsed": true
   },
   "outputs": [],
   "source": []
  },
  {
   "cell_type": "markdown",
   "metadata": {},
   "source": [
    "### Confusion Matrix"
   ]
  },
  {
   "cell_type": "code",
   "execution_count": 17,
   "metadata": {
    "collapsed": false
   },
   "outputs": [
    {
     "name": "stdout",
     "output_type": "stream",
     "text": [
      "             Actual=0  Actual=1\n",
      "Predicted=0      1037         7\n",
      "Predicted=1         0         0\n",
      "\n",
      "\n",
      "True positive rate (detection rate): 0\n",
      "False positive rate (false alarm rate): 0\n"
     ]
    },
    {
     "name": "stderr",
     "output_type": "stream",
     "text": [
      "/Users/nwchen24/anaconda/envs/Machine_learning_python2/lib/python2.7/site-packages/ipykernel/__main__.py:13: RuntimeWarning: divide by zero encountered in long_scalars\n"
     ]
    }
   ],
   "source": [
    "from sklearn.metrics import confusion_matrix\n",
    "\n",
    "pred = lr.predict(X_test)\n",
    "c = pd.DataFrame(\n",
    "        confusion_matrix(pred, y_test), \n",
    "        columns=['Actual=0', 'Actual=1'], \n",
    "        index=['Predicted=0', 'Predicted=1']\n",
    ")\n",
    "\n",
    "print c\n",
    "\n",
    "tpr = c.loc['Predicted=1', 'Actual=1'] / c.loc[:, 'Actual=1'].sum()\n",
    "fpr = c.loc['Predicted=1', 'Actual=0'] / c.loc['Predicted=1', :].sum()\n",
    "\n",
    "print\n",
    "print\n",
    "print \"True positive rate (detection rate): {}\".format(tpr)\n",
    "print \"False positive rate (false alarm rate): {}\".format(fpr)"
   ]
  },
  {
   "cell_type": "markdown",
   "metadata": {},
   "source": [
    "### Closer look at model"
   ]
  },
  {
   "cell_type": "code",
   "execution_count": 18,
   "metadata": {
    "collapsed": false
   },
   "outputs": [
    {
     "data": {
      "text/plain": [
       "<matplotlib.lines.Line2D at 0x11cb0d650>"
      ]
     },
     "execution_count": 18,
     "metadata": {},
     "output_type": "execute_result"
    },
    {
     "data": {
      "image/png": "[encoded data removed]",
      "text/plain": [
       "<matplotlib.figure.Figure at 0x119caf750>"
      ]
     },
     "metadata": {},
     "output_type": "display_data"
    }
   ],
   "source": [
    "def logistic(x):\n",
    "    return 1 / (1 + np.exp(-x))\n",
    "\n",
    "# Inverse of logistic\n",
    "def logit(p):\n",
    "    return np.log(p / (1 - p))\n",
    "\n",
    "# Full spectrum of model behavior\n",
    "pltdf = pd.DataFrame({\n",
    "        'Class': y_test,\n",
    "        'pred': lr.predict_proba(X_test)[:, 1]\n",
    "    })\n",
    "pltdf['logit'] = pltdf.pred.apply(logit)\n",
    "logits = np.linspace(-6, 6, 200)\n",
    "probs = logistic(logits)\n",
    "\n",
    "# Plot\n",
    "ax = pd.DataFrame({'probs': probs}, index=logits).plot()\n",
    "pltdf.plot(x='logit', y='Class', kind='scatter', ax=ax, label='Actual')\n",
    "plt.legend(loc='lower right')\n",
    "plt.axvline(x=0, color='red')\n",
    "plt.axhline(y=logistic(0), color='purple')"
   ]
  },
  {
   "cell_type": "markdown",
   "metadata": {},
   "source": [
    "#### Threshold: p >= 0.01"
   ]
  },
  {
   "cell_type": "code",
   "execution_count": 19,
   "metadata": {
    "collapsed": false,
    "scrolled": true
   },
   "outputs": [
    {
     "data": {
      "text/plain": [
       "<matplotlib.lines.Line2D at 0x11cc2eed0>"
      ]
     },
     "execution_count": 19,
     "metadata": {},
     "output_type": "execute_result"
    },
    {
     "data": {
      "image/png": "[encoded data removed]",
      "text/plain": [
       "<matplotlib.figure.Figure at 0x119ca2550>"
      ]
     },
     "metadata": {},
     "output_type": "display_data"
    }
   ],
   "source": [
    "# ax = plt.plot(logits, probs, label='Predicted')\n",
    "ax = pd.DataFrame({'probs': probs}, index=logits).plot()\n",
    "pltdf.plot(x='logit', y='Class', kind='scatter', ax=ax, label='Actual')\n",
    "plt.legend(loc='lower right')\n",
    "plt.axvline(x=logit(.01), color='red')\n",
    "plt.axhline(y=.01, color='purple')"
   ]
  },
  {
   "cell_type": "code",
   "execution_count": 20,
   "metadata": {
    "collapsed": false
   },
   "outputs": [
    {
     "name": "stdout",
     "output_type": "stream",
     "text": [
      "             Actual=0  Actual=1\n",
      "Predicted=0       702         1\n",
      "Predicted=1       335         6\n",
      "\n",
      "\n",
      "True positive rate (detection rate): 0.857\n",
      "False positive rate (false alarm rate): 0.982\n"
     ]
    }
   ],
   "source": [
    "pred = lr.predict_proba(X_test)[:, 1] >= .01\n",
    "c = pd.DataFrame(\n",
    "        confusion_matrix(pred, y_test), \n",
    "        columns=['Actual=0', 'Actual=1'], \n",
    "        index=['Predicted=0', 'Predicted=1']\n",
    ")\n",
    "\n",
    "print c\n",
    "\n",
    "tpr = c.loc['Predicted=1', 'Actual=1'].astype(float) / c.loc[:, 'Actual=1'].sum()\n",
    "fpr = c.loc['Predicted=1', 'Actual=0'].astype(float) / c.loc['Predicted=1', :].sum()\n",
    "\n",
    "print\n",
    "print\n",
    "print \"True positive rate (detection rate): {:.3}\".format(tpr)\n",
    "print \"False positive rate (false alarm rate): {:.3}\".format(fpr)"
   ]
  },
  {
   "cell_type": "markdown",
   "metadata": {},
   "source": [
    "## ROC Curve\n",
    "\n",
    "Each point on the ROC curve is one confusion matrix, defined by one prediction threshold."
   ]
  },
  {
   "cell_type": "code",
   "execution_count": 22,
   "metadata": {
    "collapsed": false
   },
   "outputs": [
    {
     "data": {
      "text/plain": [
       "<matplotlib.text.Text at 0x11cb81590>"
      ]
     },
     "execution_count": 22,
     "metadata": {},
     "output_type": "execute_result"
    },
    {
     "data": {
      "image/png": "[encoded data removed]",
      "text/plain": [
       "<matplotlib.figure.Figure at 0x11ccfd1d0>"
      ]
     },
     "metadata": {},
     "output_type": "display_data"
    }
   ],
   "source": [
    "from sklearn.metrics import roc_curve\n",
    "pred = lr.predict_proba(X_test)[:, 1]\n",
    "fpr, tpr, thresh = roc_curve(y_test, pred)\n",
    "\n",
    "plt.plot(fpr, tpr)\n",
    "plt.xlabel('FPR')\n",
    "plt.ylabel('TPR')"
   ]
  },
  {
   "cell_type": "markdown",
   "metadata": {},
   "source": [
    "### Area under the Curve"
   ]
  },
  {
   "cell_type": "code",
   "execution_count": 23,
   "metadata": {
    "collapsed": false
   },
   "outputs": [
    {
     "data": {
      "text/plain": [
       "0.77958396473343439"
      ]
     },
     "execution_count": 23,
     "metadata": {},
     "output_type": "execute_result"
    }
   ],
   "source": [
    "from sklearn.metrics import roc_auc_score\n",
    "roc_auc_score(y_test, pred)"
   ]
  },
  {
   "cell_type": "markdown",
   "metadata": {},
   "source": [
    "## Try some other models"
   ]
  },
  {
   "cell_type": "markdown",
   "metadata": {},
   "source": [
    "### Add polynomial coefficients"
   ]
  },
  {
   "cell_type": "code",
   "execution_count": 24,
   "metadata": {
    "collapsed": false
   },
   "outputs": [
    {
     "data": {
      "text/plain": [
       "<matplotlib.text.Text at 0x11cf61610>"
      ]
     },
     "execution_count": 24,
     "metadata": {},
     "output_type": "execute_result"
    },
    {
     "data": {
      "image/png": "[encoded data removed]",
      "text/plain": [
       "<matplotlib.figure.Figure at 0x11cc7e710>"
      ]
     },
     "metadata": {},
     "output_type": "display_data"
    }
   ],
   "source": [
    "from sklearn.preprocessing import PolynomialFeatures\n",
    "from sklearn.linear_model import LogisticRegressionCV\n",
    "\n",
    "poly = PolynomialFeatures(degree=3)\n",
    "lrcv = LogisticRegressionCV(scoring='roc_auc')\n",
    "\n",
    "\n",
    "from sklearn.pipeline import Pipeline\n",
    "polylr = Pipeline([('poly', poly), ('logistic', lrcv)])\n",
    "\n",
    "polylr.fit(X_train, y_train)\n",
    "\n",
    "pred = polylr.predict_proba(X_test)[:, 1]\n",
    "roc_auc_score(y_test, pred)\n",
    "\n",
    "fpr, tpr, thresh = roc_curve(y_test, pred)\n",
    "plt.plot(fpr, tpr)\n",
    "plt.xlabel('FPR')\n",
    "plt.ylabel('TPR')"
   ]
  },
  {
   "cell_type": "markdown",
   "metadata": {},
   "source": [
    "### Gradient Boosted Decision Trees"
   ]
  },
  {
   "cell_type": "code",
   "execution_count": 25,
   "metadata": {
    "collapsed": false
   },
   "outputs": [
    {
     "data": {
      "text/plain": [
       "<matplotlib.text.Text at 0x11db1a3d0>"
      ]
     },
     "execution_count": 25,
     "metadata": {},
     "output_type": "execute_result"
    },
    {
     "data": {
      "image/png": "[encoded data removed]",
      "text/plain": [
       "<matplotlib.figure.Figure at 0x11da83210>"
      ]
     },
     "metadata": {},
     "output_type": "display_data"
    }
   ],
   "source": [
    "from sklearn.ensemble import GradientBoostingClassifier\n",
    "\n",
    "gb = GradientBoostingClassifier()\n",
    "gb.fit(X_train, y_train)\n",
    "\n",
    "pred = gb.predict_proba(X_test)[:, 1]\n",
    "roc_auc_score(y_test, pred)\n",
    "\n",
    "fpr, tpr, thresh = roc_curve(y_test, pred)\n",
    "plt.plot(fpr, tpr)\n",
    "plt.xlabel('FPR')\n",
    "plt.ylabel('TPR')"
   ]
  },
  {
   "cell_type": "markdown",
   "metadata": {},
   "source": [
    "## Compare all three models"
   ]
  },
  {
   "cell_type": "code",
   "execution_count": 26,
   "metadata": {
    "collapsed": false
   },
   "outputs": [
    {
     "name": "stdout",
     "output_type": "stream",
     "text": [
      "Standard AUC: 0.78\n",
      "Polynomial AUC: 0.784\n",
      "Random Forest AUC: 0.703\n"
     ]
    },
    {
     "data": {
      "image/png": "[encoded data removed]",
      "text/plain": [
       "<matplotlib.figure.Figure at 0x11ccc6790>"
      ]
     },
     "metadata": {},
     "output_type": "display_data"
    }
   ],
   "source": [
    "# Standard logistic regression\n",
    "pred = lr.predict_proba(X_test)[:, 1]\n",
    "fpr, tpr, thresh = roc_curve(y_test, pred)\n",
    "standard_auc = roc_auc_score(y_test, pred)\n",
    "plt.plot(fpr, tpr, label = 'Standard Logistic')\n",
    "\n",
    "# Polynomial logistic regression\n",
    "pred = polylr.predict_proba(X_test)[:, 1]\n",
    "fpr, tpr, thresh = roc_curve(y_test, pred)\n",
    "poly_auc = roc_auc_score(y_test, pred)\n",
    "plt.plot(fpr, tpr, label = 'Polynomial Logistic')\n",
    "\n",
    "# Random Forest\n",
    "pred = gb.predict_proba(X_test)[:, 1]\n",
    "fpr, tpr, thresh = roc_curve(y_test, pred)\n",
    "rf_auc = roc_auc_score(y_test, pred)\n",
    "plt.plot(fpr, tpr, label = 'Random Forest')\n",
    "\n",
    "plt.xlabel('FPR')\n",
    "plt.ylabel('TPR')\n",
    "plt.legend(loc='lower right')\n",
    "\n",
    "print \"Standard AUC: {:.3}\".format(standard_auc)\n",
    "print \"Polynomial AUC: {:.3}\".format(poly_auc)\n",
    "print \"Random Forest AUC: {:.3}\".format(rf_auc)"
   ]
  },
  {
   "cell_type": "code",
   "execution_count": null,
   "metadata": {
    "collapsed": true
   },
   "outputs": [],
   "source": []
  },
  {
   "cell_type": "code",
   "execution_count": null,
   "metadata": {
    "collapsed": true
   },
   "outputs": [],
   "source": []
  }
 ],
 "metadata": {
  "anaconda-cloud": {},
  "kernelspec": {
   "display_name": "Python [conda env:Machine_learning_python2]",
   "language": "python",
   "name": "conda-env-Machine_learning_python2-py"
  },
  "language_info": {
   "codemirror_mode": {
    "name": "ipython",
    "version": 2
   },
   "file_extension": ".py",
   "mimetype": "text/x-python",
   "name": "python",
   "nbconvert_exporter": "python",
   "pygments_lexer": "ipython2",
   "version": "2.7.13"
  }
 },
 "nbformat": 4,
 "nbformat_minor": 1
}
