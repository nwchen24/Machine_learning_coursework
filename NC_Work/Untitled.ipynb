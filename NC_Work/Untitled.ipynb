{
 "cells": [
  {
   "cell_type": "code",
   "execution_count": 6,
   "metadata": {
    "collapsed": false
   },
   "outputs": [
    {
     "data": {
      "text/plain": [
       "[2, 0, 0.5833333333333334]"
      ]
     },
     "execution_count": 6,
     "metadata": {},
     "output_type": "execute_result"
    }
   ],
   "source": [
    "import pandas as pd\n",
    "\n",
    "X = [1,2,3]\n",
    "\n",
    "Y = [1,2,3]\n",
    "\n",
    "betas = [0, 1, .5]\n",
    "\n",
    "cost_func_results = []\n",
    "\n",
    "#Compute cost function\n",
    "for i in betas:\n",
    "    total = 0\n",
    "    for j in range(3):\n",
    "        new = (Y[j] - i * X[j]) ** 2\n",
    "        total += new\n",
    "    \n",
    "    total = total * 1 / 6\n",
    "    cost_func_results.append(total)\n",
    "\n",
    "cost_func_results\n",
    "\n"
   ]
  },
  {
   "cell_type": "code",
   "execution_count": null,
   "metadata": {
    "collapsed": true
   },
   "outputs": [],
   "source": []
  }
 ],
 "metadata": {
  "anaconda-cloud": {},
  "kernelspec": {
   "display_name": "Python [conda env:Machine_learning_python2]",
   "language": "python",
   "name": "conda-env-Machine_learning_python2-py"
  },
  "language_info": {
   "codemirror_mode": {
    "name": "ipython",
    "version": 2
   },
   "file_extension": ".py",
   "mimetype": "text/x-python",
   "name": "python",
   "nbconvert_exporter": "python",
   "pygments_lexer": "ipython2",
   "version": "2.7.13"
  }
 },
 "nbformat": 4,
 "nbformat_minor": 1
}
