{
 "cells": [
  {
   "cell_type": "markdown",
   "metadata": {},
   "source": [
    "# Project 2: Topic Classification"
   ]
  },
  {
   "cell_type": "markdown",
   "metadata": {},
   "source": [
    "In this project, you'll work with text data from newsgroup postings on a variety of topics. You'll train classifiers to distinguish between the topics based on the text of the posts. Whereas with digit classification, the input is relatively dense: a 28x28 matrix of pixels, many of which are non-zero, here we'll represent each document with a \"bag-of-words\" model. As you'll see, this makes the feature representation quite sparse -- only a few words of the total vocabulary are active in any given document. The bag-of-words assumption here is that the label depends only on the words; their order is not important.\n",
    "\n",
    "The SK-learn documentation on feature extraction will prove useful:\n",
    "http://scikit-learn.org/stable/modules/feature_extraction.html\n",
    "\n",
    "Each problem can be addressed succinctly with the included packages -- please don't add any more. Grading will be based on writing clean, commented code, along with a few short answers.\n",
    "\n",
    "As always, you're welcome to work on the project in groups and discuss ideas on the course wall, but please prepare your own write-up and write your own code."
   ]
  },
  {
   "cell_type": "code",
   "execution_count": 3,
   "metadata": {
    "collapsed": false
   },
   "outputs": [
    {
     "name": "stderr",
     "output_type": "stream",
     "text": [
      "/Users/nwchen24/anaconda/envs/Machine_learning_python2/lib/python2.7/site-packages/sklearn/cross_validation.py:44: DeprecationWarning: This module was deprecated in version 0.18 in favor of the model_selection module into which all the refactored classes and functions are moved. Also note that the interface of the new CV iterators are different from that of this module. This module will be removed in 0.20.\n",
      "  \"This module will be removed in 0.20.\", DeprecationWarning)\n",
      "/Users/nwchen24/anaconda/envs/Machine_learning_python2/lib/python2.7/site-packages/sklearn/grid_search.py:43: DeprecationWarning: This module was deprecated in version 0.18 in favor of the model_selection module into which all the refactored classes and functions are moved. This module will be removed in 0.20.\n",
      "  DeprecationWarning)\n"
     ]
    }
   ],
   "source": [
    "# This tells matplotlib not to try opening a new window for each plot.\n",
    "%matplotlib inline\n",
    "\n",
    "# General libraries.\n",
    "import re\n",
    "import numpy as np\n",
    "import pandas as pd\n",
    "import matplotlib.pyplot as plt\n",
    "\n",
    "# SK-learn libraries for learning.\n",
    "from sklearn.pipeline import Pipeline\n",
    "from sklearn.neighbors import KNeighborsClassifier\n",
    "from sklearn.linear_model import LogisticRegression\n",
    "from sklearn.naive_bayes import BernoulliNB\n",
    "from sklearn.naive_bayes import MultinomialNB\n",
    "from sklearn.grid_search import GridSearchCV\n",
    "\n",
    "# SK-learn libraries for evaluation.\n",
    "from sklearn.metrics import confusion_matrix\n",
    "from sklearn import metrics\n",
    "from sklearn.metrics import classification_report\n",
    "\n",
    "# SK-learn library for importing the newsgroup data.\n",
    "from sklearn.datasets import fetch_20newsgroups\n",
    "\n",
    "# SK-learn libraries for feature extraction from text.\n",
    "from sklearn.feature_extraction.text import *"
   ]
  },
  {
   "cell_type": "markdown",
   "metadata": {},
   "source": [
    "Load the data, stripping out metadata so that we learn classifiers that only use textual features. By default, newsgroups data is split into train and test sets. We further split the test so we have a dev set. Note that we specify 4 categories to use for this project. If you remove the categories argument from the fetch function, you'll get all 20 categories."
   ]
  },
  {
   "cell_type": "code",
   "execution_count": 4,
   "metadata": {
    "collapsed": false
   },
   "outputs": [
    {
     "name": "stdout",
     "output_type": "stream",
     "text": [
      "training label shape: (2034,)\n",
      "test label shape: (677,)\n",
      "dev label shape: (676,)\n",
      "labels names: ['alt.atheism', 'comp.graphics', 'sci.space', 'talk.religion.misc']\n"
     ]
    }
   ],
   "source": [
    "categories = ['alt.atheism', 'talk.religion.misc', 'comp.graphics', 'sci.space']\n",
    "newsgroups_train = fetch_20newsgroups(subset='train',\n",
    "                                      remove=('headers', 'footers', 'quotes'),\n",
    "                                      categories=categories)\n",
    "newsgroups_test = fetch_20newsgroups(subset='test',\n",
    "                                     remove=('headers', 'footers', 'quotes'),\n",
    "                                     categories=categories)\n",
    "\n",
    "num_test = len(newsgroups_test.target)\n",
    "test_data, test_labels = newsgroups_test.data[num_test/2:], newsgroups_test.target[num_test/2:]\n",
    "dev_data, dev_labels = newsgroups_test.data[:num_test/2], newsgroups_test.target[:num_test/2]\n",
    "train_data, train_labels = newsgroups_train.data, newsgroups_train.target\n",
    "\n",
    "print 'training label shape:', train_labels.shape\n",
    "print 'test label shape:', test_labels.shape\n",
    "print 'dev label shape:', dev_labels.shape\n",
    "print 'labels names:', newsgroups_train.target_names"
   ]
  },
  {
   "cell_type": "markdown",
   "metadata": {},
   "source": [
    "(1) For each of the first 5 training examples, print the text of the message along with the label."
   ]
  },
  {
   "cell_type": "code",
   "execution_count": 5,
   "metadata": {
    "collapsed": false
   },
   "outputs": [
    {
     "name": "stdout",
     "output_type": "stream",
     "text": [
      "Category: comp.graphics\n",
      "\n",
      "Hi,\n",
      "\n",
      "I've noticed that if you only save a model (with all your mapping planes\n",
      "positioned carefully) to a .3DS file that when you reload it after restarting\n",
      "3DS, they are given a default position and orientation.  But if you save\n",
      "to a .PRJ file their positions/orientation are preserved.  Does anyone\n",
      "know why this information is not stored in the .3DS file?  Nothing is\n",
      "explicitly said in the manual about saving texture rules in the .PRJ file. \n",
      "I'd like to be able to read the texture rule information, does anyone have \n",
      "the format for the .PRJ file?\n",
      "\n",
      "Is the .CEL file format available from somewhere?\n",
      "\n",
      "Rych\n",
      "\n",
      "\n",
      "Category: talk.religion.misc\n",
      "\n",
      "\n",
      "\n",
      "Seems to be, barring evidence to the contrary, that Koresh was simply\n",
      "another deranged fanatic who thought it neccessary to take a whole bunch of\n",
      "folks with him, children and all, to satisfy his delusional mania. Jim\n",
      "Jones, circa 1993.\n",
      "\n",
      "\n",
      "Nope - fruitcakes like Koresh have been demonstrating such evil corruption\n",
      "for centuries.\n",
      "\n",
      "\n",
      "Category: sci.space\n",
      "\n",
      "\n",
      " >In article <1993Apr19.020359.26996@sq.sq.com>, msb@sq.sq.com (Mark Brader) \n",
      "\n",
      "MB>                                                             So the\n",
      "MB> 1970 figure seems unlikely to actually be anything but a perijove.\n",
      "\n",
      "JG>Sorry, _perijoves_...I'm not used to talking this language.\n",
      "\n",
      "Couldn't we just say periapsis or apoapsis?\n",
      "\n",
      " \n",
      "\n",
      "\n",
      "Category: alt.atheism\n",
      "\n",
      "I have a request for those who would like to see Charley Wingate\n",
      "respond to the \"Charley Challenges\" (and judging from my e-mail, there\n",
      "appear to be quite a few of you.)  \n",
      "\n",
      "It is clear that Mr. Wingate intends to continue to post tangential or\n",
      "unrelated articles while ingoring the Challenges themselves.  Between\n",
      "the last two re-postings of the Challenges, I noted perhaps a dozen or\n",
      "more posts by Mr. Wingate, none of which answered a single Challenge.  \n",
      "\n",
      "It seems unmistakable to me that Mr. Wingate hopes that the questions\n",
      "will just go away, and he is doing his level best to change the\n",
      "subject.  Given that this seems a rather common net.theist tactic, I\n",
      "would like to suggest that we impress upon him our desire for answers,\n",
      "in the following manner:\n",
      "\n",
      "1. Ignore any future articles by Mr. Wingate that do not address the\n",
      "Challenges, until he answers them or explictly announces that he\n",
      "refuses to do so.\n",
      "\n",
      "--or--\n",
      "\n",
      "2. If you must respond to one of his articles, include within it\n",
      "something similar to the following:\n",
      "\n",
      "    \"Please answer the questions posed to you in the Charley Challenges.\"\n",
      "\n",
      "Really, I'm not looking to humiliate anyone here, I just want some\n",
      "honest answers.  You wouldn't think that honesty would be too much to\n",
      "ask from a devout Christian, would you?  \n",
      "\n",
      "Nevermind, that was a rhetorical question.\n",
      "\n",
      "\n",
      "Category: sci.space\n",
      "\n",
      "AW&ST  had a brief blurb on a Manned Lunar Exploration confernce\n",
      "May 7th  at Crystal City Virginia, under the auspices of AIAA.\n",
      "\n",
      "Does anyone know more about this?  How much, to attend????\n",
      "\n",
      "Anyone want to go?\n",
      "\n",
      "\n"
     ]
    }
   ],
   "source": [
    "def P1(num_examples=5):\n",
    "### STUDENT START ###\n",
    "    for i in range(num_examples):\n",
    "        print \"Category: \" + newsgroups_train.target_names[train_labels[i]]\n",
    "        print ''\n",
    "        print train_data[i]\n",
    "        print ''\n",
    "        print ''\n",
    "### STUDENT END ###\n",
    "P1()"
   ]
  },
  {
   "cell_type": "markdown",
   "metadata": {},
   "source": [
    "(2) Use CountVectorizer to turn the raw training text into feature vectors. You should use the fit_transform function, which makes 2 passes through the data: first it computes the vocabulary (\"fit\"), second it converts the raw text into feature vectors using the vocabulary (\"transform\").\n",
    "\n",
    "The vectorizer has a lot of options. To get familiar with some of them, write code to answer these questions:\n",
    "\n",
    "a. The output of the transform (also of fit_transform) is a sparse matrix: http://docs.scipy.org/doc/scipy-0.14.0/reference/generated/scipy.sparse.csr_matrix.html. What is the size of the vocabulary? What is the average number of non-zero features per example? What fraction of the entries in the matrix are non-zero? Hint: use \"nnz\" and \"shape\" attributes.\n",
    "\n",
    "b. What are the 0th and last feature strings (in alphabetical order)? Hint: use the vectorizer's get_feature_names function.\n",
    "\n",
    "c. Specify your own vocabulary with 4 words: [\"atheism\", \"graphics\", \"space\", \"religion\"]. Confirm the training vectors are appropriately shaped. Now what's the average number of non-zero features per example?\n",
    "\n",
    "d. Instead of extracting unigram word features, use \"analyzer\" and \"ngram_range\" to extract bigram and trigram character features. What size vocabulary does this yield?\n",
    "\n",
    "e. Use the \"min_df\" argument to prune words that appear in fewer than 10 documents. What size vocabulary does this yield?\n",
    "\n",
    "f. Using the standard CountVectorizer, what fraction of the words in the dev data are missing from the vocabulary? Hint: build a vocabulary for both train and dev and look at the size of the difference."
   ]
  },
  {
   "cell_type": "code",
   "execution_count": 6,
   "metadata": {
    "collapsed": false
   },
   "outputs": [
    {
     "name": "stdout",
     "output_type": "stream",
     "text": [
      "Part A\n",
      "The size of the vocabulary in the training data is : 26879\n",
      "The number of non-zero values in the vocabulary matrix is : 196700\n",
      "The share of non-zero values in the vocabulary matrix is : 0.00359782722696\n",
      "\n",
      "Part B\n",
      "The first feature by alphabetical order is: 00\n",
      "The last feature by alphabetical order is: zyxel\n",
      "\n",
      "Part C\n",
      "The share of non-zero values in the vocabulary matrix is : 0.0671091445428\n",
      "\n",
      "Part D\n",
      "Getting counts of bigrams and trigrams yields a vocabulary of size: 510583\n",
      "\n",
      "Part E\n",
      "The pruned vocabulary yields a vocabulary of size: 3064\n",
      "\n",
      "Part F\n",
      "There are 4027 vocab words that appear in the dev data and not in the training data.\n"
     ]
    }
   ],
   "source": [
    "def P2():\n",
    "### STUDENT START ###\n",
    "\n",
    "    #***********\n",
    "    #a\n",
    "    #***********\n",
    "\n",
    "    #Initialize the vectorizer\n",
    "    gen_features = CountVectorizer()\n",
    "\n",
    "    #fit to training data\n",
    "    vocab_counts = gen_features.fit_transform(train_data)\n",
    "    \n",
    "    print \"Part A\"\n",
    "    \n",
    "    #The size of the vocabulary is 26,879 words.\n",
    "    print \"The size of the vocabulary in the training data is : \" + str(vocab_counts.shape[1])\n",
    "\n",
    "    #Get count of non-zero values\n",
    "    print \"The number of non-zero values in the vocabulary matrix is : \" + str(vocab_counts.nnz)\n",
    "\n",
    "    #Get share of non-zero values\n",
    "    print \"The share of non-zero values in the vocabulary matrix is : \" + \\\n",
    "        str(vocab_counts.nnz / (1.0 * vocab_counts.shape[0] * vocab_counts.shape[1]))\n",
    "\n",
    "    print \"\"\n",
    "\n",
    "    #***********\n",
    "    #b\n",
    "    #***********\n",
    "\n",
    "    #Initialize the vectorizer\n",
    "    gen_features = CountVectorizer()\n",
    "\n",
    "    #Fit to the training data\n",
    "    gen_features.fit_transform(train_data)\n",
    "\n",
    "    print \"Part B\"\n",
    "    \n",
    "    print \"The first feature by alphabetical order is: \" + gen_features.get_feature_names()[0]\n",
    "\n",
    "    print \"The last feature by alphabetical order is: \" + \\\n",
    "        gen_features.get_feature_names()[len(gen_features.get_feature_names()) - 1]\n",
    "\n",
    "    print \"\"\n",
    "\n",
    "\n",
    "    #***********\n",
    "    #c\n",
    "    #***********\n",
    "\n",
    "    #define the vocab list we want to look at\n",
    "    vocab_list = [\"atheism\", \"graphics\", \"space\", \"religion\"]\n",
    "\n",
    "    #Initialize an instance of the vectorizer, setting the vocabulary list\n",
    "    gen_features_spec_voc = CountVectorizer(vocabulary = vocab_list)\n",
    "\n",
    "    #get counts of each word in our vocabulary list by fitting to the training data\n",
    "    spec_voc_counts = gen_features_spec_voc.fit_transform(train_data)\n",
    "\n",
    "    #check shape of the result\n",
    "    spec_voc_counts.shape\n",
    "\n",
    "    print \"Part C\"\n",
    "    \n",
    "    #Get share of non-zero values\n",
    "    print \"The share of non-zero values in the vocabulary matrix is : \" + \\\n",
    "        str(spec_voc_counts.nnz / (1.0 * spec_voc_counts.shape[0] * spec_voc_counts.shape[1]))\n",
    "\n",
    "    print \"\"\n",
    "\n",
    "    #***********\n",
    "    #d\n",
    "    #***********\n",
    "\n",
    "    #Initialize an instance of the vectorizer, choosing to look for two and three word features\n",
    "    gen_features_ngrams = CountVectorizer(analyzer = 'word', ngram_range = (2,3))\n",
    "\n",
    "    #fit the vectorizer to the training data\n",
    "    ngram_vocab = gen_features_ngrams.fit_transform(train_data)\n",
    "\n",
    "    print \"Part D\"\n",
    "    \n",
    "    #Getting counts of bigrams and trigrams yields a vocabulary of 510,583 ngrams\n",
    "    print \"Getting counts of bigrams and trigrams yields a vocabulary of size: \" + str(ngram_vocab.shape[1])\n",
    "\n",
    "    print \"\"\n",
    "\n",
    "    #***********\n",
    "    #e\n",
    "    #***********\n",
    "\n",
    "    #Initialize an instance of the vectorizer removing words that appear in fewer than ten documents\n",
    "    gen_features_min_docs = CountVectorizer(min_df = 10)\n",
    "\n",
    "    #fit to the training data\n",
    "    pruned_vocab = gen_features_min_docs.fit_transform(train_data)\n",
    "\n",
    "    print \"Part E\"\n",
    "    \n",
    "    print \"The pruned vocabulary yields a vocabulary of size: \" + str(pruned_vocab.shape[1])\n",
    "\n",
    "    print \"\"\n",
    "\n",
    "    #***********\n",
    "    #f\n",
    "    #***********\n",
    "\n",
    "    #Initialize an instance of the vectorizer\n",
    "    gen_features = CountVectorizer()\n",
    "\n",
    "    #fit to the training data\n",
    "    train_data_vocab = gen_features.fit_transform(train_data)\n",
    "\n",
    "    #Get list of the feature names in training data\n",
    "    train_data_features = gen_features.get_feature_names()\n",
    "\n",
    "    #fit to the dev data\n",
    "    dev_data_vocab = gen_features.fit_transform(dev_data)\n",
    "\n",
    "    #Get list of the feature names in the dev data\n",
    "    dev_data_features = gen_features.get_feature_names()\n",
    "\n",
    "    #Find how many of the dev data vocab words are not in the training data\n",
    "    overlap = len(set(train_data_features) & set(dev_data_features))\n",
    "\n",
    "    print \"Part F\"\n",
    "    \n",
    "    print \"There are \" + str(len(dev_data_features) - overlap) + \" vocab words that appear in the dev data and not in the training data.\"\n",
    "\n",
    "### STUDENT END ###\n",
    "P2()"
   ]
  },
  {
   "cell_type": "markdown",
   "metadata": {},
   "source": [
    "(3) Use the default CountVectorizer options and report the f1 score (use metrics.f1_score) for a k nearest neighbors classifier; find the optimal value for k. Also fit a Multinomial Naive Bayes model and find the optimal value for alpha. Finally, fit a logistic regression model and find the optimal value for the regularization strength C using l2 regularization. A few questions:\n",
    "\n",
    "a. Why doesn't nearest neighbors work well for this problem?\n",
    "\n",
    "b. Any ideas why logistic regression doesn't work as well as Naive Bayes?\n",
    "\n",
    "c. Logistic regression estimates a weight vector for each class, which you can access with the coef\\_ attribute. Output the sum of the squared weight values for each class for each setting of the C parameter. Briefly explain the relationship between the sum and the value of C."
   ]
  },
  {
   "cell_type": "code",
   "execution_count": 50,
   "metadata": {
    "collapsed": false
   },
   "outputs": [
    {
     "name": "stdout",
     "output_type": "stream",
     "text": [
      "The optimal number of neighbors is: 151\n"
     ]
    },
    {
     "data": {
      "image/png": "[encoded data removed]",
      "text/plain": [
       "<matplotlib.figure.Figure at 0x116a18d50>"
      ]
     },
     "metadata": {},
     "output_type": "display_data"
    }
   ],
   "source": [
    "#***********\n",
    "#knn\n",
    "#***********\n",
    "\n",
    "#Instantiate an instance of the vectorizer\n",
    "gen_features = CountVectorizer()\n",
    "\n",
    "#generate a feature matrix for the training data\n",
    "train_data_features = gen_features.fit_transform(train_data)\n",
    "\n",
    "#max neighbors\n",
    "max_neighbors = 501\n",
    "\n",
    "#create a list of possible k values\n",
    "k_options = {'n_neighbors': range(1,max_neighbors)}\n",
    "\n",
    "#Instantiate a KNN classifier\n",
    "knn_ksearch = GridSearchCV(KNeighborsClassifier(), k_options)\n",
    "\n",
    "#fit the KNN classifier\n",
    "knn_ksearch.fit(train_data_features, train_labels)\n",
    "\n",
    "#Get mean scores\n",
    "grid_search_results = knn_ksearch.grid_scores_\n",
    "\n",
    "#Get best K value\n",
    "knn_ksearch.best_params_\n",
    "\n",
    "#Get mean scores\n",
    "mean_scores = []\n",
    "\n",
    "for i in range(0,max_neighbors-1):\n",
    "    mean_scores.append(grid_search_results[i][1])\n",
    "\n",
    "\n",
    "#Plot accuracy vs. number of neighbors\n",
    "plt.scatter(range(1,max_neighbors), mean_scores)\n",
    "plt.title('KNN \\n Number of Neighbors vs. Accuracy')\n",
    "\n",
    "print 'The optimal number of neighbors is: ' + str(knn_ksearch.best_params_['n_neighbors'])\n"
   ]
  },
  {
   "cell_type": "code",
   "execution_count": 54,
   "metadata": {
    "collapsed": false
   },
   "outputs": [
    {
     "name": "stdout",
     "output_type": "stream",
     "text": [
      "The optimal alpha is: {'alpha': 0.0035999999999999999}\n",
      "0.830875122911\n"
     ]
    },
    {
     "data": {
      "text/plain": [
       "<matplotlib.text.Text at 0x1180d2790>"
      ]
     },
     "execution_count": 54,
     "metadata": {},
     "output_type": "execute_result"
    },
    {
     "data": {
      "image/png": "[encoded data removed]",
      "text/plain": [
       "<matplotlib.figure.Figure at 0x117164a90>"
      ]
     },
     "metadata": {},
     "output_type": "display_data"
    }
   ],
   "source": [
    "#***********\n",
    "#Multinomial Naive Bayes\n",
    "#***********\n",
    "\n",
    "#Instantiate an instance of the vectorizer\n",
    "gen_features = CountVectorizer()\n",
    "\n",
    "#generate a feature matrix for the training data\n",
    "train_data_features = gen_features.fit_transform(train_data)\n",
    "\n",
    "#Define the alpha values we want to try\n",
    "alphas_to_try = np.arange(0.0001, 0.1, 0.0001)\n",
    "\n",
    "alphas = {'alpha': alphas_to_try}\n",
    "\n",
    "#Define the classifier\n",
    "mnb_alphasearch = GridSearchCV(MultinomialNB(), alphas)\n",
    "\n",
    "#fit the classifier\n",
    "mnb_alphasearch.fit(train_data_features, train_labels)\n",
    "\n",
    "#Get the mean scores for each alpha tried by the grid search\n",
    "alphasearch_results = mnb_alphasearch.grid_scores_\n",
    "\n",
    "#Get mean scores\n",
    "mean_scores = []\n",
    "\n",
    "for i in range(0,len(alphas_to_try)):\n",
    "    mean_scores.append(alphasearch_results[i][1])\n",
    "\n",
    "\n",
    "#return the model fit\n",
    "print 'The optimal alpha is: ' + str(mnb_alphasearch.best_params_)\n",
    "print mnb_alphasearch.best_score_\n",
    "\n",
    "#plot alphas against performance\n",
    "plt.scatter(alphas_to_try, mean_scores)\n",
    "plt.title('Multinomial Naive Bayes \\n Alphas vs. Performance')\n"
   ]
  },
  {
   "cell_type": "code",
   "execution_count": 56,
   "metadata": {
    "collapsed": false
   },
   "outputs": [
    {
     "name": "stdout",
     "output_type": "stream",
     "text": [
      "The optimal C is: {'C': 0.17000000000000001}\n",
      "0.776794493609\n"
     ]
    },
    {
     "data": {
      "text/plain": [
       "<matplotlib.text.Text at 0x10b7bce50>"
      ]
     },
     "execution_count": 56,
     "metadata": {},
     "output_type": "execute_result"
    },
    {
     "data": {
      "image/png": "[encoded data removed]",
      "text/plain": [
       "<matplotlib.figure.Figure at 0x114babd90>"
      ]
     },
     "metadata": {},
     "output_type": "display_data"
    }
   ],
   "source": [
    "#***********\n",
    "#Logistic Regression\n",
    "#***********\n",
    "\n",
    "#Instantiate an instance of the vectorizer\n",
    "gen_features = CountVectorizer()\n",
    "\n",
    "#generate a feature matrix for the training data\n",
    "train_data_features = gen_features.fit_transform(train_data)\n",
    "\n",
    "#Define a list of the c values to try\n",
    "c_vals_to_try = np.arange(0.01,2,0.01)\n",
    "\n",
    "c_vals = {'C': c_vals_to_try}\n",
    "\n",
    "#Instantiate an instance of the logistic regression classifier\n",
    "logr_Csearch = GridSearchCV(LogisticRegression(), c_vals)\n",
    "\n",
    "#fit the model\n",
    "logr_Csearch.fit(train_data_features, train_labels)\n",
    "\n",
    "#Get the mean scores\n",
    "Csearch_results = logr_Csearch.grid_scores_\n",
    "\n",
    "mean_scores = []\n",
    "\n",
    "for i in range(0,len(c_vals_to_try)):\n",
    "    mean_scores.append(Csearch_results[i][1])\n",
    "\n",
    "#return the model fit\n",
    "print 'The optimal C is: ' + str(logr_Csearch.best_params_)\n",
    "print logr_Csearch.best_score_\n",
    "\n",
    "#plot alphas against performance\n",
    "plt.scatter(c_vals_to_try, mean_scores)\n",
    "plt.title('Logistic Regression \\n C Values vs. Performance')\n"
   ]
  },
  {
   "cell_type": "code",
   "execution_count": 96,
   "metadata": {
    "collapsed": false
   },
   "outputs": [
    {
     "data": {
      "text/plain": [
       "<matplotlib.legend.Legend at 0x117e3b0d0>"
      ]
     },
     "execution_count": 96,
     "metadata": {},
     "output_type": "execute_result"
    },
    {
     "data": {
      "image/png": "[encoded data removed]",
      "text/plain": [
       "<matplotlib.figure.Figure at 0x1179c5cd0>"
      ]
     },
     "metadata": {},
     "output_type": "display_data"
    }
   ],
   "source": [
    "#Logistic regression estimates a weight vector for each class, which you can access with the coef_ attribute.\n",
    "#Output the sum of the squared weight values for each class for each setting of the C parameter.\n",
    "#Briefly explain the relationship between the sum and the value of C.\n",
    "\n",
    "weight_vals_sum_sq = []\n",
    "\n",
    "#loop through C values\n",
    "for c in c_vals_to_try:\n",
    "\n",
    "    #Instantiate a logistic regression estimator\n",
    "    logReg = LogisticRegression(C = c)\n",
    "\n",
    "    #Fit the model to the training data\n",
    "    logReg.fit(train_data_features, train_labels)\n",
    "\n",
    "    #Get the sum of squared weight values for each class\n",
    "    sum_sq = np.sum(logReg.coef_ ** 2, axis = 1)\n",
    "    \n",
    "    #Append sums to list to store\n",
    "    weight_vals_sum_sq.append(sum_sq)\n",
    "\n",
    "#Plot sum of squared weights against c values \n",
    "plt.plot(c_vals_to_try, weight_vals_sum_sq)\n",
    "plt.title(\"Logistic Regression Model \\n C Values vs. Sum of Squared Weights\")\n",
    "plt.legend()\n",
    "\n",
    "#Get labels of each category\n",
    "legend_labels = []\n",
    "\n",
    "for i in np.unique(train_labels):\n",
    "    legend_labels.append(newsgroups_train.target_names[train_labels[i]])\n",
    "    \n",
    "#Plot C values against sum of squared weights\n",
    "plt.plot(c_vals_to_try, weight_vals_sum_sq)\n",
    "plt.title(\"Logistic Regression Model \\n C Values vs. Sum of Squared Weights\")\n",
    "plt.legend(legend_labels, loc = 'best')\n",
    "\n"
   ]
  },
  {
   "cell_type": "code",
   "execution_count": 97,
   "metadata": {
    "collapsed": false
   },
   "outputs": [],
   "source": [
    "def P3():\n",
    "### STUDENT START ###\n",
    "    #***********\n",
    "    #knn\n",
    "    #***********\n",
    "\n",
    "    #Instantiate an instance of the vectorizer\n",
    "    gen_features = CountVectorizer()\n",
    "\n",
    "    #generate a feature matrix for the training data\n",
    "    train_data_features = gen_features.fit_transform(train_data)\n",
    "\n",
    "    #max neighbors\n",
    "    max_neighbors = 501\n",
    "\n",
    "    #create a list of possible k values\n",
    "    k_options = {'n_neighbors': range(1,max_neighbors)}\n",
    "\n",
    "    #Instantiate a KNN classifier\n",
    "    knn_ksearch = GridSearchCV(KNeighborsClassifier(), k_options)\n",
    "\n",
    "    #fit the KNN classifier\n",
    "    knn_ksearch.fit(train_data_features, train_labels)\n",
    "\n",
    "    #Get mean scores\n",
    "    grid_search_results = knn_ksearch.grid_scores_\n",
    "\n",
    "    #Get best K value\n",
    "    knn_ksearch.best_params_\n",
    "\n",
    "    #Get mean scores\n",
    "    mean_scores = []\n",
    "\n",
    "    for i in range(0,max_neighbors-1):\n",
    "        mean_scores.append(grid_search_results[i][1])\n",
    "\n",
    "\n",
    "    #Plot accuracy vs. number of neighbors\n",
    "    plt.scatter(range(1,max_neighbors), mean_scores)\n",
    "    plt.title('KNN \\n Number of Neighbors vs. Accuracy')\n",
    "\n",
    "    print 'The optimal number of neighbors is: ' + str(knn_ksearch.best_params_['n_neighbors'])\n",
    "\n",
    "    \n",
    "    #***********\n",
    "    #Multinomial Naive Bayes\n",
    "    #***********\n",
    "\n",
    "    #Instantiate an instance of the vectorizer\n",
    "    gen_features = CountVectorizer()\n",
    "\n",
    "    #generate a feature matrix for the training data\n",
    "    train_data_features = gen_features.fit_transform(train_data)\n",
    "\n",
    "    #Define the alpha values we want to try\n",
    "    alphas_to_try = np.arange(0.0001, 0.1, 0.0001)\n",
    "\n",
    "    alphas = {'alpha': alphas_to_try}\n",
    "\n",
    "    #Define the classifier\n",
    "    mnb_alphasearch = GridSearchCV(MultinomialNB(), alphas)\n",
    "\n",
    "    #fit the classifier\n",
    "    mnb_alphasearch.fit(train_data_features, train_labels)\n",
    "\n",
    "    #Get the mean scores for each alpha tried by the grid search\n",
    "    alphasearch_results = mnb_alphasearch.grid_scores_\n",
    "\n",
    "    #Get mean scores\n",
    "    mean_scores = []\n",
    "\n",
    "    for i in range(0,len(alphas_to_try)):\n",
    "        mean_scores.append(alphasearch_results[i][1])\n",
    "\n",
    "\n",
    "    #return the model fit\n",
    "    print 'The optimal alpha is: ' + str(mnb_alphasearch.best_params_)\n",
    "    print mnb_alphasearch.best_score_\n",
    "\n",
    "    #plot alphas against performance\n",
    "    plt.scatter(alphas_to_try, mean_scores)\n",
    "    plt.title('Multinomial Naive Bayes \\n Alphas vs. Performance')\n",
    "    \n",
    "    \n",
    "    #***********\n",
    "    #Logistic Regression\n",
    "    #***********\n",
    "\n",
    "    #Instantiate an instance of the vectorizer\n",
    "    gen_features = CountVectorizer()\n",
    "\n",
    "    #generate a feature matrix for the training data\n",
    "    train_data_features = gen_features.fit_transform(train_data)\n",
    "\n",
    "    #Define a list of the c values to try\n",
    "    c_vals_to_try = np.arange(0.01,2,0.01)\n",
    "\n",
    "    c_vals = {'C': c_vals_to_try}\n",
    "\n",
    "    #Instantiate an instance of the logistic regression classifier\n",
    "    logr_Csearch = GridSearchCV(LogisticRegression(), c_vals)\n",
    "\n",
    "    #fit the model\n",
    "    logr_Csearch.fit(train_data_features, train_labels)\n",
    "\n",
    "    #Get the mean scores\n",
    "    Csearch_results = logr_Csearch.grid_scores_\n",
    "\n",
    "    mean_scores = []\n",
    "\n",
    "    for i in range(0,len(c_vals_to_try)):\n",
    "        mean_scores.append(Csearch_results[i][1])\n",
    "\n",
    "    #return the model fit\n",
    "    print 'The optimal C is: ' + str(logr_Csearch.best_params_)\n",
    "    print logr_Csearch.best_score_\n",
    "\n",
    "    #plot alphas against performance\n",
    "    plt.scatter(c_vals_to_try, mean_scores)\n",
    "    plt.title('Logistic Regression \\n C Values vs. Performance')\n",
    "\n",
    "    \n",
    "    #Part c - characteristics as C changes\n",
    "    weight_vals_sum_sq = []\n",
    "\n",
    "    #loop through C values\n",
    "    for c in c_vals_to_try:\n",
    "\n",
    "        #Instantiate a logistic regression estimator\n",
    "        logReg = LogisticRegression(C = c)\n",
    "\n",
    "        #Fit the model to the training data\n",
    "        logReg.fit(train_data_features, train_labels)\n",
    "\n",
    "        #Get the sum of squared weight values for each class\n",
    "        sum_sq = np.sum(logReg.coef_ ** 2, axis = 1)\n",
    "\n",
    "        #Append sums to list to store\n",
    "        weight_vals_sum_sq.append(sum_sq)\n",
    "\n",
    "    #Plot sum of squared weights against c values \n",
    "    plt.plot(c_vals_to_try, weight_vals_sum_sq)\n",
    "    plt.title(\"Logistic Regression Model \\n C Values vs. Sum of Squared Weights\")\n",
    "    plt.legend()\n",
    "\n",
    "    #Get labels of each category\n",
    "    legend_labels = []\n",
    "\n",
    "    for i in np.unique(train_labels):\n",
    "        legend_labels.append(newsgroups_train.target_names[train_labels[i]])\n",
    "\n",
    "    #Plot C values against sum of squared weights\n",
    "    plt.plot(c_vals_to_try, weight_vals_sum_sq)\n",
    "    plt.title(\"Logistic Regression Model \\n C Values vs. Sum of Squared Weights\")\n",
    "    plt.legend(legend_labels, loc = 'best')\n",
    "\n",
    "### STUDENT END ###\n",
    "#P3()"
   ]
  },
  {
   "cell_type": "markdown",
   "metadata": {},
   "source": [
    "ANSWER:\n",
    "\n",
    "Part a  \n",
    "KNN does not perform well for this example because of the curse of dimensionality. In essence, with so many features, all training examples are far away.\n",
    "\n",
    "Part b  \n",
    "Logistic regression may not perform as well as Naive Bayes because the cost function hyper plane has many many local minima. The reason the cost function hyper plan has so many local minima is because the feature space is so large, and the features are binary. This means that Logistic regression will have a difficult time finding the parameters that truly minimize the cost function.\n",
    "\n",
    "Part c  \n",
    "As shown in the chart above we increase the C parameter, the sum of the squared weights for each parameter increases at a seemingly logarithmic rate.\n"
   ]
  },
  {
   "cell_type": "markdown",
   "metadata": {},
   "source": [
    "(4) Train a logistic regression model. Find the 5 features with the largest weights for each label -- 20 features in total. Create a table with 20 rows and 4 columns that shows the weight for each of these features for each of the labels. Create the table again with bigram features. Any surprising features in this table?"
   ]
  },
  {
   "cell_type": "code",
   "execution_count": 5,
   "metadata": {
    "collapsed": false
   },
   "outputs": [],
   "source": [
    "#def P4():\n",
    "### STUDENT START ###\n",
    "\n",
    "### STUDENT END ###\n",
    "#P4()"
   ]
  },
  {
   "cell_type": "markdown",
   "metadata": {},
   "source": [
    "ANSWER:"
   ]
  },
  {
   "cell_type": "markdown",
   "metadata": {},
   "source": [
    "(5) Try to improve the logistic regression classifier by passing a custom preprocessor to CountVectorizer. The preprocessing function runs on the raw text, before it is split into words by the tokenizer. Your preprocessor should try to normalize the input in various ways to improve generalization. For example, try lowercasing everything, replacing sequences of numbers with a single token, removing various other non-letter characters, and shortening long words. If you're not already familiar with regular expressions for manipulating strings, see https://docs.python.org/2/library/re.html, and re.sub() in particular. With your new preprocessor, how much did you reduce the size of the dictionary?\n",
    "\n",
    "For reference, I was able to improve dev F1 by 2 points."
   ]
  },
  {
   "cell_type": "code",
   "execution_count": 6,
   "metadata": {
    "collapsed": false
   },
   "outputs": [],
   "source": [
    "#def empty_preprocessor(s):\n",
    "#    return s\n",
    "\n",
    "#def better_preprocessor(s):\n",
    "### STUDENT START ###\n",
    "\n",
    "### STUDENT END ###\n",
    "\n",
    "#def P5():\n",
    "### STUDENT START ###\n",
    "\n",
    "### STUDENT END ###\n",
    "#P5()"
   ]
  },
  {
   "cell_type": "markdown",
   "metadata": {},
   "source": [
    "(6) The idea of regularization is to avoid learning very large weights (which are likely to fit the training data, but not generalize well) by adding a penalty to the total size of the learned weights. That is, logistic regression seeks the set of weights that minimizes errors in the training data AND has a small size. The default regularization, L2, computes this size as the sum of the squared weights (see P3, above). L1 regularization computes this size as the sum of the absolute values of the weights. The result is that whereas L2 regularization makes all the weights relatively small, L1 regularization drives lots of the weights to 0, effectively removing unimportant features.\n",
    "\n",
    "Train a logistic regression model using a \"l1\" penalty. Output the number of learned weights that are not equal to zero. How does this compare to the number of non-zero weights you get with \"l2\"? Now, reduce the size of the vocabulary by keeping only those features that have at least one non-zero weight and retrain a model using \"l2\".\n",
    "\n",
    "Make a plot showing accuracy of the re-trained model vs. the vocabulary size you get when pruning unused features by adjusting the C parameter.\n",
    "\n",
    "Note: The gradient descent code that trains the logistic regression model sometimes has trouble converging with extreme settings of the C parameter. Relax the convergence criteria by setting tol=.01 (the default is .0001)."
   ]
  },
  {
   "cell_type": "code",
   "execution_count": 15,
   "metadata": {
    "collapsed": false
   },
   "outputs": [],
   "source": [
    "#def P6():\n",
    "    # Keep this random seed here to make comparison easier.\n",
    "    #np.random.seed(0)\n",
    "\n",
    "    ### STUDENT START ###\n",
    "    \n",
    "    ### STUDENT END ###\n",
    "#P6()"
   ]
  },
  {
   "cell_type": "markdown",
   "metadata": {},
   "source": [
    "(7) Use the TfidfVectorizer -- how is this different from the CountVectorizer? Train a logistic regression model with C=100.\n",
    "\n",
    "Make predictions on the dev data and show the top 3 documents where the ratio R is largest, where R is:\n",
    "\n",
    "maximum predicted probability / predicted probability of the correct label\n",
    "\n",
    "What kinds of mistakes is the model making? Suggest a way to address one particular issue that you see."
   ]
  },
  {
   "cell_type": "code",
   "execution_count": 16,
   "metadata": {
    "collapsed": false
   },
   "outputs": [],
   "source": [
    "#def P7():\n",
    "### STUDENT START ###\n",
    "\n",
    "## STUDENT END ###\n",
    "#P7()"
   ]
  },
  {
   "cell_type": "markdown",
   "metadata": {},
   "source": [
    "ANSWER:"
   ]
  },
  {
   "cell_type": "markdown",
   "metadata": {},
   "source": [
    "(8) EXTRA CREDIT\n",
    "\n",
    "Try implementing one of your ideas based on your error analysis. Use logistic regression as your underlying model."
   ]
  },
  {
   "cell_type": "code",
   "execution_count": null,
   "metadata": {
    "collapsed": true
   },
   "outputs": [],
   "source": []
  }
 ],
 "metadata": {
  "anaconda-cloud": {},
  "kernelspec": {
   "display_name": "Python [conda env:Machine_learning_python2]",
   "language": "python",
   "name": "conda-env-Machine_learning_python2-py"
  },
  "language_info": {
   "codemirror_mode": {
    "name": "ipython",
    "version": 2
   },
   "file_extension": ".py",
   "mimetype": "text/x-python",
   "name": "python",
   "nbconvert_exporter": "python",
   "pygments_lexer": "ipython2",
   "version": "2.7.13"
  }
 },
 "nbformat": 4,
 "nbformat_minor": 0
}
