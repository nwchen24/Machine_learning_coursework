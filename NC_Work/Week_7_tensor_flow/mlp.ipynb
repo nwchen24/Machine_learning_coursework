{
 "cells": [
  {
   "cell_type": "code",
   "execution_count": 206,
   "metadata": {
    "collapsed": false
   },
   "outputs": [],
   "source": [
    "import pandas as pd\n",
    "import numpy as np\n",
    "import tensorflow as tf\n",
    "import matplotlib.pyplot as plt\n",
    "from sklearn.linear_model import LinearRegression"
   ]
  },
  {
   "cell_type": "markdown",
   "metadata": {},
   "source": [
    "# Intro to Tensorflow\n",
    "\n",
    "### Goals\n",
    "- Gain a basic understanding of the what/how/why of Tensorflow\n",
    "- Implement a simple multi-layer perceptron "
   ]
  },
  {
   "cell_type": "markdown",
   "metadata": {},
   "source": [
    "## Tensorflow Basics"
   ]
  },
  {
   "cell_type": "markdown",
   "metadata": {},
   "source": [
    "Tensorflow (and other 'deep learning' libraries) are really good at gradient descent. \n",
    "\n",
    "Three types of objects\n",
    "- Placeholders where we will use real data\n",
    "- Variables. These are the model parameters - they can be updated using gradient descent.\n",
    "- Constants.\n",
    "\n",
    "Use these objects to construct a loss function. Then use gradient descent to find the best parameters, given the data."
   ]
  },
  {
   "cell_type": "markdown",
   "metadata": {},
   "source": [
    "### Constants"
   ]
  },
  {
   "cell_type": "code",
   "execution_count": 4,
   "metadata": {
    "collapsed": true
   },
   "outputs": [],
   "source": [
    "node1 = tf.constant(3.0, tf.float32)\n",
    "node2 = tf.constant(4.0)"
   ]
  },
  {
   "cell_type": "code",
   "execution_count": 6,
   "metadata": {
    "collapsed": true
   },
   "outputs": [],
   "source": [
    "sess = tf.InteractiveSession()"
   ]
  },
  {
   "cell_type": "code",
   "execution_count": 7,
   "metadata": {
    "collapsed": false
   },
   "outputs": [
    {
     "data": {
      "text/plain": [
       "[7.0, 3.0, 6.0]"
      ]
     },
     "execution_count": 7,
     "metadata": {},
     "output_type": "execute_result"
    }
   ],
   "source": [
    "sess.run([node1 + node2, node1, 2*node1])"
   ]
  },
  {
   "cell_type": "markdown",
   "metadata": {},
   "source": [
    "### Placeholders\n",
    "Placeholders are the objects that will be filled with real data at runtime"
   ]
  },
  {
   "cell_type": "code",
   "execution_count": 9,
   "metadata": {
    "collapsed": true
   },
   "outputs": [],
   "source": [
    "a = tf.placeholder(tf.float32)\n",
    "b = tf.placeholder(tf.float32)\n",
    "\n",
    "adder_node = a + b"
   ]
  },
  {
   "cell_type": "code",
   "execution_count": 11,
   "metadata": {
    "collapsed": false
   },
   "outputs": [
    {
     "data": {
      "text/plain": [
       "array([ 11.  ,   0.19], dtype=float32)"
      ]
     },
     "execution_count": 11,
     "metadata": {},
     "output_type": "execute_result"
    }
   ],
   "source": [
    "sess.run(adder_node, feed_dict = {a:[3, .19], b:[8,0]})"
   ]
  },
  {
   "cell_type": "markdown",
   "metadata": {},
   "source": [
    "### Variables"
   ]
  },
  {
   "cell_type": "markdown",
   "metadata": {},
   "source": [
    "Think about the linear equation\n",
    "$$\n",
    "y = 3 x - 3\n",
    "$$"
   ]
  },
  {
   "cell_type": "code",
   "execution_count": 16,
   "metadata": {
    "collapsed": true
   },
   "outputs": [],
   "source": [
    "x = tf.placeholder(tf.float32)"
   ]
  },
  {
   "cell_type": "code",
   "execution_count": 17,
   "metadata": {
    "collapsed": false
   },
   "outputs": [],
   "source": [
    "W = tf.Variable([3.], tf.float32)\n",
    "b = tf.Variable([-3.], tf.float32)\n",
    "\n",
    "linear_model = W * x + b"
   ]
  },
  {
   "cell_type": "markdown",
   "metadata": {},
   "source": [
    "Variables need to be initialized"
   ]
  },
  {
   "cell_type": "code",
   "execution_count": 18,
   "metadata": {
    "collapsed": true
   },
   "outputs": [],
   "source": [
    "sess.run(tf.global_variables_initializer())"
   ]
  },
  {
   "cell_type": "code",
   "execution_count": 19,
   "metadata": {
    "collapsed": false
   },
   "outputs": [
    {
     "data": {
      "text/plain": [
       "array([ 0.,  3.,  6.], dtype=float32)"
      ]
     },
     "execution_count": 19,
     "metadata": {},
     "output_type": "execute_result"
    }
   ],
   "source": [
    "sess.run(linear_model, feed_dict = {x:[1, 2, 3]})"
   ]
  },
  {
   "cell_type": "markdown",
   "metadata": {},
   "source": [
    "Or we could define some y values and see how well it fits the model"
   ]
  },
  {
   "cell_type": "code",
   "execution_count": 21,
   "metadata": {
    "collapsed": false
   },
   "outputs": [
    {
     "data": {
      "text/plain": [
       "array([ 9.,  1.,  1.], dtype=float32)"
      ]
     },
     "execution_count": 21,
     "metadata": {},
     "output_type": "execute_result"
    }
   ],
   "source": [
    "y = tf.placeholder(tf.float32)\n",
    "\n",
    "error = tf.square(linear_model - y)\n",
    "\n",
    "\n",
    "sess.run(error, {x:[1, 2, 3], y:[3, 4, 5]})"
   ]
  },
  {
   "cell_type": "markdown",
   "metadata": {},
   "source": [
    "# Linear Regression"
   ]
  },
  {
   "cell_type": "markdown",
   "metadata": {},
   "source": [
    "## Crime Data"
   ]
  },
  {
   "cell_type": "code",
   "execution_count": 23,
   "metadata": {
    "collapsed": false
   },
   "outputs": [],
   "source": [
    "from sklearn.model_selection import train_test_split\n",
    "\n",
    "# Load some crime data\n",
    "headers = pd.read_csv('comm_names.txt', squeeze=True)\n",
    "headers = headers.apply(lambda s: s.split()[1])\n",
    "crime = (pd.read_csv('http://archive.ics.uci.edu/ml/machine-learning-databases/communities/communities.data', \n",
    "                    header=None, na_values=['?'], names=headers)\n",
    "         .iloc[:, 5:]\n",
    "         .dropna()\n",
    "         )\n",
    "\n",
    "# Set target and predictors\n",
    "target = 'ViolentCrimesPerPop'\n",
    "predictors = [c for c in crime.columns if not c == target]\n",
    "\n",
    "# Train/test split\n",
    "X = crime[predictors]\n",
    "y = crime[[target]]\n",
    "X_train, X_test, y_train, y_test = train_test_split(X, y, random_state=2)"
   ]
  },
  {
   "cell_type": "markdown",
   "metadata": {},
   "source": [
    "### Define the model"
   ]
  },
  {
   "cell_type": "code",
   "execution_count": 228,
   "metadata": {
    "collapsed": false
   },
   "outputs": [],
   "source": [
    "#We are going to estimate a linear regression model. First, we need to define all of the pieces of the model\n",
    "\n",
    "#parameters\n",
    "dim_input = X_train.shape[1]\n",
    "dim_output = 1\n",
    "\n",
    "#input\n",
    "#Array to match the shape of X train\n",
    "x = tf.placeholder(tf.float32, [None, dim_input])\n",
    "\n",
    "#output\n",
    "#column vector to match y_train\n",
    "y_ = tf.placeholder(tf.float32, [None, 1])\n",
    "\n",
    "#variables\n",
    "#W is a matrix of model parameters, the dimensions of which will match the input - parameter for each input.\n",
    "#Individual X is a row, want to multiply the X's by the rows W\n",
    "#b is the beginning initialization of the intercepts\n",
    "#we initialize these randomly, then through the training step below, we will update the parameters to minimize the loss function\n",
    "W = tf.Variable(tf.random_normal([dim_input, dim_output]))\n",
    "b = tf.Variable(tf.random_normal([dim_output]))\n",
    "\n",
    "#Specify the functional form of the model\n",
    "y = tf.matmul(x, W) + b\n",
    "\n",
    "#Loss - define mean squared error\n",
    "mse = tf.reduce_mean(tf.square(y - y_))\n",
    "#define the regularization term which penalizes large parameters. Note the 11.8 here is arbitrary and can be played with\n",
    "reg = tf.reduce_mean(11.8 * tf.square(W))\n",
    "\n",
    "#define new loss function, we'll now minimize MSE plus regularization term\n",
    "loss = mse + reg\n",
    "\n",
    "#Optimizer\n",
    "#AdamOptimizer is an 'adaptive' gradient descent in that it adjusts step sizes as it goes\n",
    "optimizer = tf.train.AdamOptimizer(0.01)\n",
    "\n",
    "#minimize loss\n",
    "train_step = optimizer.minimize(loss)\n"
   ]
  },
  {
   "cell_type": "markdown",
   "metadata": {},
   "source": [
    "Initialize"
   ]
  },
  {
   "cell_type": "code",
   "execution_count": 229,
   "metadata": {
    "collapsed": false
   },
   "outputs": [],
   "source": [
    "sess = tf.InteractiveSession()\n",
    "sess.run(tf.global_variables_initializer())"
   ]
  },
  {
   "cell_type": "code",
   "execution_count": 230,
   "metadata": {
    "collapsed": false
   },
   "outputs": [
    {
     "data": {
      "text/plain": [
       "(121, 1)"
      ]
     },
     "execution_count": 230,
     "metadata": {},
     "output_type": "execute_result"
    }
   ],
   "source": [
    "#view W's shape\n",
    "#W has 121 rows (it's a column vector), these are the coefficients for the 121 variables in the input\n",
    "#Above, we initialized these to random values. Gradient descent will find the true parameters\n",
    "sess.run(W).shape"
   ]
  },
  {
   "cell_type": "code",
   "execution_count": null,
   "metadata": {
    "collapsed": true
   },
   "outputs": [],
   "source": []
  },
  {
   "cell_type": "markdown",
   "metadata": {},
   "source": [
    "View loss"
   ]
  },
  {
   "cell_type": "code",
   "execution_count": 231,
   "metadata": {
    "collapsed": false
   },
   "outputs": [
    {
     "data": {
      "text/plain": [
       "10.780749"
      ]
     },
     "execution_count": 231,
     "metadata": {},
     "output_type": "execute_result"
    }
   ],
   "source": [
    "sess.run(mse, {x:X_train, y_:y_train})"
   ]
  },
  {
   "cell_type": "code",
   "execution_count": 232,
   "metadata": {
    "collapsed": false
   },
   "outputs": [],
   "source": [
    "#Run a training step (uses the optimizer above and tries to minimize mean squared error)\n",
    "#After this step, mse should decrease and ultimately converge\n",
    "sess.run(train_step, {x:X_train, y_:y_train})"
   ]
  },
  {
   "cell_type": "code",
   "execution_count": 233,
   "metadata": {
    "collapsed": false
   },
   "outputs": [
    {
     "data": {
      "text/plain": [
       "8.6049089"
      ]
     },
     "execution_count": 233,
     "metadata": {},
     "output_type": "execute_result"
    }
   ],
   "source": [
    "#view error on training data to watch it converge\n",
    "sess.run(mse, {x:X_train, y_:y_train})"
   ]
  },
  {
   "cell_type": "code",
   "execution_count": 234,
   "metadata": {
    "collapsed": false
   },
   "outputs": [
    {
     "data": {
      "text/plain": [
       "7.8574004"
      ]
     },
     "execution_count": 234,
     "metadata": {},
     "output_type": "execute_result"
    }
   ],
   "source": [
    "#view error on testing data\n",
    "sess.run(mse, {x:X_test, y_:y_test})"
   ]
  },
  {
   "cell_type": "markdown",
   "metadata": {},
   "source": [
    "Parameters"
   ]
  },
  {
   "cell_type": "code",
   "execution_count": null,
   "metadata": {
    "collapsed": false
   },
   "outputs": [],
   "source": []
  },
  {
   "cell_type": "code",
   "execution_count": null,
   "metadata": {
    "collapsed": true
   },
   "outputs": [],
   "source": []
  },
  {
   "cell_type": "markdown",
   "metadata": {},
   "source": [
    "### Exercise\n",
    "\n",
    "1: Run 10000 gradient descent steps of the model above. Every 500 iterations, note the train error and the test error."
   ]
  },
  {
   "cell_type": "code",
   "execution_count": 235,
   "metadata": {
    "collapsed": false
   },
   "outputs": [
    {
     "name": "stdout",
     "output_type": "stream",
     "text": [
      "Iteration 500 Train error is: 0.0267927, Test error is: 0.0265614\n",
      "\n",
      "Iteration 1000 Train error is: 0.0261429, Test error is: 0.0262311\n",
      "\n",
      "Iteration 1500 Train error is: 0.0261454, Test error is: 0.02628\n",
      "\n",
      "Iteration 2000 Train error is: 0.0261454, Test error is: 0.0263059\n",
      "\n",
      "Iteration 2500 Train error is: 0.0261457, Test error is: 0.0263278\n",
      "\n",
      "Iteration 3000 Train error is: 0.0261461, Test error is: 0.0263434\n",
      "\n",
      "Iteration 3500 Train error is: 0.0261463, Test error is: 0.0263525\n",
      "\n",
      "Iteration 4000 Train error is: 0.0261464, Test error is: 0.0263566\n",
      "\n",
      "Iteration 4500 Train error is: 0.0261465, Test error is: 0.026358\n",
      "\n",
      "Iteration 5000 Train error is: 0.0261465, Test error is: 0.0263583\n",
      "\n",
      "Iteration 5500 Train error is: 0.0261464, Test error is: 0.0263419\n",
      "\n",
      "Iteration 6000 Train error is: 0.0285499, Test error is: 0.027846\n",
      "\n",
      "Iteration 6500 Train error is: 0.0261465, Test error is: 0.0263584\n",
      "\n",
      "Iteration 7000 Train error is: 0.0261465, Test error is: 0.0263584\n",
      "\n",
      "Iteration 7500 Train error is: 0.0261465, Test error is: 0.0263584\n",
      "\n",
      "Iteration 8000 Train error is: 0.0261465, Test error is: 0.0263584\n",
      "\n",
      "Iteration 8500 Train error is: 0.0261463, Test error is: 0.0263545\n",
      "\n",
      "Iteration 9000 Train error is: 0.0261465, Test error is: 0.0263584\n",
      "\n",
      "Iteration 9500 Train error is: 0.0261465, Test error is: 0.0263589\n",
      "\n",
      "Iteration 10000 Train error is: 0.0261465, Test error is: 0.0263584\n",
      "\n"
     ]
    }
   ],
   "source": [
    "counter = 0\n",
    "\n",
    "train_errors = []\n",
    "\n",
    "while counter < 10000:\n",
    "    #run train step\n",
    "    sess.run(train_step, {x:X_train, y_:y_train})\n",
    "    #increment counter\n",
    "    counter += 1\n",
    "    #get errors\n",
    "    train_error = sess.run(mse, {x:X_train, y_:y_train})\n",
    "    test_error = sess.run(mse, {x:X_test, y_:y_test})\n",
    "    \n",
    "    train_errors.append(train_error)\n",
    "    if counter % 500 == 0:\n",
    "\n",
    "        print 'Iteration ' + str(counter) + ' Train error is: ' + str(train_error) + ', Test error is: ' + str(test_error)\n",
    "        print \n",
    "        \n",
    "\n"
   ]
  },
  {
   "cell_type": "markdown",
   "metadata": {},
   "source": [
    "Note, the regularized model converges much more quickly on the mean squared error."
   ]
  },
  {
   "cell_type": "code",
   "execution_count": 236,
   "metadata": {
    "collapsed": false
   },
   "outputs": [
    {
     "data": {
      "image/png": "[encoded data removed]",
      "text/plain": [
       "<matplotlib.figure.Figure at 0x11b75d850>"
      ]
     },
     "metadata": {},
     "output_type": "display_data"
    }
   ],
   "source": [
    "#create graph of how the MSE converges\n",
    "x_values = np.arange(0, 10000, 1).tolist()\n",
    "\n",
    "plt.scatter(x_values, train_errors)\n",
    "plt.show()"
   ]
  },
  {
   "cell_type": "markdown",
   "metadata": {},
   "source": [
    "2: Compare your results above to LinearRegression in scikit-learn."
   ]
  },
  {
   "cell_type": "code",
   "execution_count": 212,
   "metadata": {
    "collapsed": false
   },
   "outputs": [
    {
     "data": {
      "text/plain": [
       "(121, 1)"
      ]
     },
     "execution_count": 212,
     "metadata": {},
     "output_type": "execute_result"
    }
   ],
   "source": [
    "#Look at the parameters from tensor flow\n",
    "tensor_flow_params = sess.run(W)\n",
    "tensor_flow_params.shape"
   ]
  },
  {
   "cell_type": "code",
   "execution_count": 215,
   "metadata": {
    "collapsed": false
   },
   "outputs": [],
   "source": [
    "#sk learn linear regression\n",
    "\n",
    "#instantiate model\n",
    "linear_model = LinearRegression()\n",
    "\n",
    "#fit to the training data\n",
    "linear_model.fit(X_train, y_train)\n",
    "\n",
    "#get parameters\n",
    "lin_regression_coefs = linear_model.coef_.reshape(121,1)"
   ]
  },
  {
   "cell_type": "code",
   "execution_count": null,
   "metadata": {
    "collapsed": true
   },
   "outputs": [],
   "source": [
    "#Compare the parameters between the results from the neural net and the linear regression"
   ]
  },
  {
   "cell_type": "markdown",
   "metadata": {},
   "source": [
    "3: In Week 5, we found that the best ridge regularization parameter for this data was alpha=11.8. Try to add the same amount of regularization to the tensorflow model above, then compare with ridge regression in scikit-learn."
   ]
  },
  {
   "cell_type": "markdown",
   "metadata": {},
   "source": [
    "# Multi-layer Perceptron (MLP)\n",
    "\n",
    "![](mlp.png)\n",
    "\n",
    "### Exercise\n",
    "\n",
    "Build a multi-layer perceptron to predict crime rates.\n",
    "\n",
    "Start with two hidden units. You should be able to define one matrix transforms the inputs to the hidden layer, and a second matrix that will transform the hidden layer to the output.\n",
    "\n",
    "Don't forget add bias at each step and to apply a nonlinear transformation to the hidden layer (e.g. tf.nn.sigmoid())"
   ]
  },
  {
   "cell_type": "code",
   "execution_count": null,
   "metadata": {
    "collapsed": false
   },
   "outputs": [],
   "source": [
    "dim_hidden = 2\n",
    "\n",
    "# input\n",
    "\n",
    "# output\n",
    "\n",
    "# Input to hidden\n",
    "\n",
    "\n",
    "# Hidden to output\n",
    "\n",
    "\n",
    "# Model\n",
    "\n",
    "\n",
    "# Loss\n",
    "\n",
    "\n",
    "# Optimizer\n"
   ]
  },
  {
   "cell_type": "markdown",
   "metadata": {},
   "source": [
    "Once you have something working, it is time to tune your network to find the right number of hidden layers and amount of regularization.\n",
    "\n",
    "1. Use your code block from above that performs gradient descent steps and records intermediate results.\n",
    "2. You might want to force the optimizer to be stochastic. That is, feed it 100 random training examples at each step instead of the whole training dataset.\n",
    "3. Start with two hidden units and try to get the regularization right. Then slowly increase the number of hidden units and continue tuning the regularization.\n",
    "4. If the training error is high, you have too much bias. If the training and testing errors are very different, you have too much variance. If the training or testing errors are jumping all over the place, your step size is too high."
   ]
  },
  {
   "cell_type": "code",
   "execution_count": null,
   "metadata": {
    "collapsed": true
   },
   "outputs": [],
   "source": [
    "sess = tf.InteractiveSession()\n",
    "tf.global_variables_initializer().run()"
   ]
  },
  {
   "cell_type": "code",
   "execution_count": null,
   "metadata": {
    "collapsed": false
   },
   "outputs": [],
   "source": []
  },
  {
   "cell_type": "markdown",
   "metadata": {},
   "source": [
    "# Bonus: Add _another_ hidden layer.\n",
    "\n",
    "Can you decrease the MSE on the test set even further?"
   ]
  },
  {
   "cell_type": "code",
   "execution_count": null,
   "metadata": {
    "collapsed": false
   },
   "outputs": [],
   "source": [
    "dim_h1 = 8\n",
    "dim_h2 = 8\n",
    "\n",
    "# input\n",
    "x = tf.placeholder(tf.float32, [None, dim_input])\n",
    "\n",
    "# target\n",
    "y_ = tf.placeholder(tf.float32, [None, 1])\n",
    "\n",
    "# Input to hidden 1\n",
    "W1 = tf.Variable(tf.random_normal([dim_input, dim_h1]))\n",
    "b1 = tf.Variable(tf.random_normal([dim_h1]))\n",
    "\n",
    "# Hidden 1 to hidden 2\n",
    "W2 = tf.Variable(tf.random_normal([dim_h1, dim_h2]))\n",
    "b2 = tf.Variable(tf.random_normal([dim_h2]))\n",
    "\n",
    "# Hidden 2 to output\n",
    "W3 = tf.Variable(tf.random_normal([dim_h2, dim_output]))\n",
    "b3 = tf.Variable(tf.random_normal([1]))\n",
    "\n",
    "# Model\n",
    "H1 = tf.nn.tanh(tf.matmul(x, W1) + b1)\n",
    "H2 = tf.nn.tanh(tf.matmul(H1, W2) + b2)\n",
    "y = tf.matmul(H2, W3) + b3\n",
    "\n",
    "# Loss\n",
    "mse = tf.reduce_mean(tf.square(y - y_))\n",
    "lam = .4\n",
    "reg = tf.reduce_mean(lam * tf.square(W1)) + \\\n",
    "    tf.reduce_mean(lam * tf.square(W2)) + \\\n",
    "    tf.reduce_mean(lam * tf.square(W3))\n",
    "loss = mse + reg\n",
    "\n",
    "# Optimizer\n",
    "train_step = tf.train.AdamOptimizer(0.0005).minimize(loss)"
   ]
  },
  {
   "cell_type": "code",
   "execution_count": null,
   "metadata": {
    "collapsed": true
   },
   "outputs": [],
   "source": [
    "sess = tf.InteractiveSession()"
   ]
  },
  {
   "cell_type": "code",
   "execution_count": null,
   "metadata": {
    "collapsed": true
   },
   "outputs": [],
   "source": [
    "tf.global_variables_initializer().run()"
   ]
  },
  {
   "cell_type": "code",
   "execution_count": null,
   "metadata": {
    "collapsed": false
   },
   "outputs": [],
   "source": [
    "for i in range(10000):\n",
    "    idx = np.random.choice(X_train.shape[0], 150, replace=True)\n",
    "    X_batch = X_train.iloc[idx, :]\n",
    "    y_batch = y_train.iloc[idx, :]\n",
    "    if i % 1000 == 0:\n",
    "        train_mse = sess.run(mse, {x: X_batch, y_: y_batch})\n",
    "        test_mse = sess.run(mse, {x: X_test, y_: y_test})\n",
    "        print 'Iteration: {:04} \\t Train Loss: {:.3} \\t Test Loss: {:.3}'.format(i, train_mse, test_mse)\n",
    "    batch_update(sess, X_train, y_train)"
   ]
  },
  {
   "cell_type": "code",
   "execution_count": null,
   "metadata": {
    "collapsed": true
   },
   "outputs": [],
   "source": []
  }
 ],
 "metadata": {
  "anaconda-cloud": {},
  "kernelspec": {
   "display_name": "Python [conda env:Machine_learning_python2]",
   "language": "python",
   "name": "conda-env-Machine_learning_python2-py"
  },
  "language_info": {
   "codemirror_mode": {
    "name": "ipython",
    "version": 2
   },
   "file_extension": ".py",
   "mimetype": "text/x-python",
   "name": "python",
   "nbconvert_exporter": "python",
   "pygments_lexer": "ipython2",
   "version": "2.7.13"
  }
 },
 "nbformat": 4,
 "nbformat_minor": 1
}
