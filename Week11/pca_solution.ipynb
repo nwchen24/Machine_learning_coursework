{
 "cells": [
  {
   "cell_type": "markdown",
   "metadata": {},
   "source": [
    "# Dimensionality Reduction"
   ]
  },
  {
   "cell_type": "code",
   "execution_count": 1,
   "metadata": {
    "collapsed": true
   },
   "outputs": [],
   "source": [
    "import numpy as np\n",
    "import pandas as pd\n",
    "\n",
    "from sklearn.decomposition import PCA\n",
    "\n",
    "import matplotlib.pyplot as plt\n",
    "%matplotlib inline"
   ]
  },
  {
   "cell_type": "markdown",
   "metadata": {},
   "source": [
    "We will continue to work with the Crime data introduced in Week 8"
   ]
  },
  {
   "cell_type": "code",
   "execution_count": 2,
   "metadata": {
    "collapsed": false
   },
   "outputs": [],
   "source": [
    "from sklearn.model_selection import train_test_split\n",
    "from sklearn.preprocessing import Imputer, StandardScaler\n",
    "from sklearn.pipeline import Pipeline\n",
    "\n",
    "# Load some crime data\n",
    "headers = pd.read_csv('comm_names.txt', squeeze=True)\n",
    "headers = headers.apply(lambda s: s.split()[1])\n",
    "crime = (pd.read_csv('http://archive.ics.uci.edu/ml/machine-learning-databases/communities/communities.data', \n",
    "                    header=None, na_values=['?'], names=headers)\n",
    "         .iloc[:, 5:]\n",
    "         .dropna()\n",
    "         )\n",
    "\n",
    "# Set target and predictors\n",
    "target = 'ViolentCrimesPerPop'\n",
    "predictors = [c for c in crime.columns if not c == target]\n",
    "\n",
    "# Train/test split\n",
    "X = crime[predictors]\n",
    "y = crime[[target]]\n",
    "X_train, X_test, y_train, y_test = train_test_split(X, y, random_state=2)"
   ]
  },
  {
   "cell_type": "code",
   "execution_count": 3,
   "metadata": {
    "collapsed": false
   },
   "outputs": [
    {
     "data": {
      "text/plain": [
       "(239, 121)"
      ]
     },
     "execution_count": 3,
     "metadata": {},
     "output_type": "execute_result"
    }
   ],
   "source": [
    "X_train.shape"
   ]
  },
  {
   "cell_type": "markdown",
   "metadata": {},
   "source": [
    "In Week five we build a linear model with this data. The problem was that there were too many variables and so it was too easy to overfit. We used regularization to solve this problem.\n",
    "\n",
    "This week, we will use a different strategy. Instead of regularization, we will reduce overfitting by reducing the number of variables that are used in the model. First, we will make sure we understand how to use PCA."
   ]
  },
  {
   "cell_type": "markdown",
   "metadata": {},
   "source": [
    "### Learn the principal components of the training data"
   ]
  },
  {
   "cell_type": "markdown",
   "metadata": {},
   "source": [
    "First lets look at the covariance of the training data, which tells us about the relationships between the various variables."
   ]
  },
  {
   "cell_type": "code",
   "execution_count": 4,
   "metadata": {
    "collapsed": false
   },
   "outputs": [],
   "source": [
    "covar = X_train.cov()"
   ]
  },
  {
   "cell_type": "code",
   "execution_count": 5,
   "metadata": {
    "collapsed": false
   },
   "outputs": [
    {
     "data": {
      "text/html": [
       "<div>\n",
       "<table border=\"1\" class=\"dataframe\">\n",
       "  <thead>\n",
       "    <tr style=\"text-align: right;\">\n",
       "      <th></th>\n",
       "      <th>householdsize</th>\n",
       "      <th>racepctblack</th>\n",
       "      <th>racePctWhite</th>\n",
       "      <th>racePctAsian</th>\n",
       "      <th>racePctHisp</th>\n",
       "      <th>agePct12t21</th>\n",
       "      <th>agePct12t29</th>\n",
       "      <th>agePct16t24</th>\n",
       "      <th>agePct65up</th>\n",
       "      <th>numbUrban</th>\n",
       "      <th>...</th>\n",
       "      <th>PolicAveOTWorked</th>\n",
       "      <th>LandArea</th>\n",
       "      <th>PopDens</th>\n",
       "      <th>PctUsePubTrans</th>\n",
       "      <th>PolicCars</th>\n",
       "      <th>PolicOperBudg</th>\n",
       "      <th>LemasPctPolicOnPatr</th>\n",
       "      <th>LemasGangUnitDeploy</th>\n",
       "      <th>LemasPctOfficDrugUn</th>\n",
       "      <th>PolicBudgPerPop</th>\n",
       "    </tr>\n",
       "  </thead>\n",
       "  <tbody>\n",
       "    <tr>\n",
       "      <th>householdsize</th>\n",
       "      <td>0.021410</td>\n",
       "      <td>-0.000127</td>\n",
       "      <td>-0.011699</td>\n",
       "      <td>0.007105</td>\n",
       "      <td>0.022312</td>\n",
       "      <td>0.008448</td>\n",
       "      <td>0.005489</td>\n",
       "      <td>0.003611</td>\n",
       "      <td>-0.013051</td>\n",
       "      <td>0.000907</td>\n",
       "      <td>...</td>\n",
       "      <td>0.004106</td>\n",
       "      <td>0.000477</td>\n",
       "      <td>0.003530</td>\n",
       "      <td>-0.003442</td>\n",
       "      <td>-0.002739</td>\n",
       "      <td>-0.000461</td>\n",
       "      <td>0.000065</td>\n",
       "      <td>0.003671</td>\n",
       "      <td>-0.002352</td>\n",
       "      <td>-0.004670</td>\n",
       "    </tr>\n",
       "    <tr>\n",
       "      <th>racepctblack</th>\n",
       "      <td>-0.000127</td>\n",
       "      <td>0.092122</td>\n",
       "      <td>-0.062022</td>\n",
       "      <td>-0.023163</td>\n",
       "      <td>-0.016497</td>\n",
       "      <td>0.010070</td>\n",
       "      <td>0.006355</td>\n",
       "      <td>0.007921</td>\n",
       "      <td>-0.001788</td>\n",
       "      <td>0.008230</td>\n",
       "      <td>...</td>\n",
       "      <td>-0.009082</td>\n",
       "      <td>0.005963</td>\n",
       "      <td>0.002844</td>\n",
       "      <td>0.019239</td>\n",
       "      <td>0.012588</td>\n",
       "      <td>0.004061</td>\n",
       "      <td>-0.012726</td>\n",
       "      <td>0.007832</td>\n",
       "      <td>0.007020</td>\n",
       "      <td>-0.000865</td>\n",
       "    </tr>\n",
       "    <tr>\n",
       "      <th>racePctWhite</th>\n",
       "      <td>-0.011699</td>\n",
       "      <td>-0.062022</td>\n",
       "      <td>0.061215</td>\n",
       "      <td>-0.005825</td>\n",
       "      <td>-0.014351</td>\n",
       "      <td>-0.010141</td>\n",
       "      <td>-0.008796</td>\n",
       "      <td>-0.007804</td>\n",
       "      <td>0.010488</td>\n",
       "      <td>-0.012800</td>\n",
       "      <td>...</td>\n",
       "      <td>-0.002211</td>\n",
       "      <td>-0.004517</td>\n",
       "      <td>-0.017188</td>\n",
       "      <td>-0.020940</td>\n",
       "      <td>-0.009573</td>\n",
       "      <td>-0.005864</td>\n",
       "      <td>0.007443</td>\n",
       "      <td>-0.012998</td>\n",
       "      <td>-0.006491</td>\n",
       "      <td>0.002158</td>\n",
       "    </tr>\n",
       "    <tr>\n",
       "      <th>racePctAsian</th>\n",
       "      <td>0.007105</td>\n",
       "      <td>-0.023163</td>\n",
       "      <td>-0.005825</td>\n",
       "      <td>0.056827</td>\n",
       "      <td>0.016331</td>\n",
       "      <td>-0.002698</td>\n",
       "      <td>0.003220</td>\n",
       "      <td>0.000884</td>\n",
       "      <td>-0.010732</td>\n",
       "      <td>0.008682</td>\n",
       "      <td>...</td>\n",
       "      <td>0.014028</td>\n",
       "      <td>-0.001759</td>\n",
       "      <td>0.018240</td>\n",
       "      <td>0.011425</td>\n",
       "      <td>-0.003540</td>\n",
       "      <td>0.004182</td>\n",
       "      <td>0.005368</td>\n",
       "      <td>0.010434</td>\n",
       "      <td>-0.001469</td>\n",
       "      <td>-0.000444</td>\n",
       "    </tr>\n",
       "    <tr>\n",
       "      <th>racePctHisp</th>\n",
       "      <td>0.022312</td>\n",
       "      <td>-0.016497</td>\n",
       "      <td>-0.014351</td>\n",
       "      <td>0.016331</td>\n",
       "      <td>0.063348</td>\n",
       "      <td>0.004709</td>\n",
       "      <td>0.005313</td>\n",
       "      <td>0.001569</td>\n",
       "      <td>-0.011534</td>\n",
       "      <td>0.006021</td>\n",
       "      <td>...</td>\n",
       "      <td>0.013533</td>\n",
       "      <td>-0.003201</td>\n",
       "      <td>0.027619</td>\n",
       "      <td>0.008045</td>\n",
       "      <td>0.002171</td>\n",
       "      <td>0.003755</td>\n",
       "      <td>0.003162</td>\n",
       "      <td>0.006303</td>\n",
       "      <td>0.001483</td>\n",
       "      <td>-0.000006</td>\n",
       "    </tr>\n",
       "  </tbody>\n",
       "</table>\n",
       "<p>5 rows × 121 columns</p>\n",
       "</div>"
      ],
      "text/plain": [
       "               householdsize  racepctblack  racePctWhite  racePctAsian  \\\n",
       "householdsize       0.021410     -0.000127     -0.011699      0.007105   \n",
       "racepctblack       -0.000127      0.092122     -0.062022     -0.023163   \n",
       "racePctWhite       -0.011699     -0.062022      0.061215     -0.005825   \n",
       "racePctAsian        0.007105     -0.023163     -0.005825      0.056827   \n",
       "racePctHisp         0.022312     -0.016497     -0.014351      0.016331   \n",
       "\n",
       "               racePctHisp  agePct12t21  agePct12t29  agePct16t24  agePct65up  \\\n",
       "householdsize     0.022312     0.008448     0.005489     0.003611   -0.013051   \n",
       "racepctblack     -0.016497     0.010070     0.006355     0.007921   -0.001788   \n",
       "racePctWhite     -0.014351    -0.010141    -0.008796    -0.007804    0.010488   \n",
       "racePctAsian      0.016331    -0.002698     0.003220     0.000884   -0.010732   \n",
       "racePctHisp       0.063348     0.004709     0.005313     0.001569   -0.011534   \n",
       "\n",
       "               numbUrban       ...         PolicAveOTWorked  LandArea  \\\n",
       "householdsize   0.000907       ...                 0.004106  0.000477   \n",
       "racepctblack    0.008230       ...                -0.009082  0.005963   \n",
       "racePctWhite   -0.012800       ...                -0.002211 -0.004517   \n",
       "racePctAsian    0.008682       ...                 0.014028 -0.001759   \n",
       "racePctHisp     0.006021       ...                 0.013533 -0.003201   \n",
       "\n",
       "                PopDens  PctUsePubTrans  PolicCars  PolicOperBudg  \\\n",
       "householdsize  0.003530       -0.003442  -0.002739      -0.000461   \n",
       "racepctblack   0.002844        0.019239   0.012588       0.004061   \n",
       "racePctWhite  -0.017188       -0.020940  -0.009573      -0.005864   \n",
       "racePctAsian   0.018240        0.011425  -0.003540       0.004182   \n",
       "racePctHisp    0.027619        0.008045   0.002171       0.003755   \n",
       "\n",
       "               LemasPctPolicOnPatr  LemasGangUnitDeploy  LemasPctOfficDrugUn  \\\n",
       "householdsize             0.000065             0.003671            -0.002352   \n",
       "racepctblack             -0.012726             0.007832             0.007020   \n",
       "racePctWhite              0.007443            -0.012998            -0.006491   \n",
       "racePctAsian              0.005368             0.010434            -0.001469   \n",
       "racePctHisp               0.003162             0.006303             0.001483   \n",
       "\n",
       "               PolicBudgPerPop  \n",
       "householdsize        -0.004670  \n",
       "racepctblack         -0.000865  \n",
       "racePctWhite          0.002158  \n",
       "racePctAsian         -0.000444  \n",
       "racePctHisp          -0.000006  \n",
       "\n",
       "[5 rows x 121 columns]"
      ]
     },
     "execution_count": 5,
     "metadata": {},
     "output_type": "execute_result"
    }
   ],
   "source": [
    "covar.head()"
   ]
  },
  {
   "cell_type": "markdown",
   "metadata": {},
   "source": [
    "Total Variance"
   ]
  },
  {
   "cell_type": "code",
   "execution_count": 6,
   "metadata": {
    "collapsed": false
   },
   "outputs": [
    {
     "data": {
      "text/plain": [
       "4.5646812840617415"
      ]
     },
     "execution_count": 6,
     "metadata": {},
     "output_type": "execute_result"
    }
   ],
   "source": [
    "np.trace(covar)"
   ]
  },
  {
   "cell_type": "markdown",
   "metadata": {},
   "source": [
    "Now lets transform the data into principal component space."
   ]
  },
  {
   "cell_type": "code",
   "execution_count": 7,
   "metadata": {
    "collapsed": false
   },
   "outputs": [],
   "source": [
    "pca = PCA()\n",
    "X_transformed = pca.fit_transform(X_train)"
   ]
  },
  {
   "cell_type": "markdown",
   "metadata": {},
   "source": [
    "What does the covariance look like now?"
   ]
  },
  {
   "cell_type": "code",
   "execution_count": 8,
   "metadata": {
    "collapsed": false
   },
   "outputs": [],
   "source": [
    "new_covar = np.round(pd.DataFrame(X_transformed).cov(), 10)"
   ]
  },
  {
   "cell_type": "code",
   "execution_count": 9,
   "metadata": {
    "collapsed": false
   },
   "outputs": [
    {
     "data": {
      "text/html": [
       "<div>\n",
       "<table border=\"1\" class=\"dataframe\">\n",
       "  <thead>\n",
       "    <tr style=\"text-align: right;\">\n",
       "      <th></th>\n",
       "      <th>0</th>\n",
       "      <th>1</th>\n",
       "      <th>2</th>\n",
       "      <th>3</th>\n",
       "      <th>4</th>\n",
       "      <th>5</th>\n",
       "      <th>6</th>\n",
       "      <th>7</th>\n",
       "      <th>8</th>\n",
       "      <th>9</th>\n",
       "      <th>...</th>\n",
       "      <th>111</th>\n",
       "      <th>112</th>\n",
       "      <th>113</th>\n",
       "      <th>114</th>\n",
       "      <th>115</th>\n",
       "      <th>116</th>\n",
       "      <th>117</th>\n",
       "      <th>118</th>\n",
       "      <th>119</th>\n",
       "      <th>120</th>\n",
       "    </tr>\n",
       "  </thead>\n",
       "  <tbody>\n",
       "    <tr>\n",
       "      <th>0</th>\n",
       "      <td>1.000151</td>\n",
       "      <td>0.000000</td>\n",
       "      <td>0.000000</td>\n",
       "      <td>0.000000</td>\n",
       "      <td>-0.000000</td>\n",
       "      <td>-0.0</td>\n",
       "      <td>0.0</td>\n",
       "      <td>0.0</td>\n",
       "      <td>-0.0</td>\n",
       "      <td>-0.0</td>\n",
       "      <td>...</td>\n",
       "      <td>-0.0</td>\n",
       "      <td>0.0</td>\n",
       "      <td>-0.0</td>\n",
       "      <td>0.0</td>\n",
       "      <td>0.0</td>\n",
       "      <td>-0.0</td>\n",
       "      <td>0.0</td>\n",
       "      <td>-0.0</td>\n",
       "      <td>-0.0</td>\n",
       "      <td>-0.0</td>\n",
       "    </tr>\n",
       "    <tr>\n",
       "      <th>1</th>\n",
       "      <td>0.000000</td>\n",
       "      <td>0.944612</td>\n",
       "      <td>0.000000</td>\n",
       "      <td>-0.000000</td>\n",
       "      <td>-0.000000</td>\n",
       "      <td>0.0</td>\n",
       "      <td>0.0</td>\n",
       "      <td>-0.0</td>\n",
       "      <td>0.0</td>\n",
       "      <td>-0.0</td>\n",
       "      <td>...</td>\n",
       "      <td>-0.0</td>\n",
       "      <td>-0.0</td>\n",
       "      <td>0.0</td>\n",
       "      <td>-0.0</td>\n",
       "      <td>0.0</td>\n",
       "      <td>0.0</td>\n",
       "      <td>-0.0</td>\n",
       "      <td>0.0</td>\n",
       "      <td>0.0</td>\n",
       "      <td>-0.0</td>\n",
       "    </tr>\n",
       "    <tr>\n",
       "      <th>2</th>\n",
       "      <td>0.000000</td>\n",
       "      <td>0.000000</td>\n",
       "      <td>0.366457</td>\n",
       "      <td>0.000000</td>\n",
       "      <td>0.000000</td>\n",
       "      <td>0.0</td>\n",
       "      <td>0.0</td>\n",
       "      <td>-0.0</td>\n",
       "      <td>0.0</td>\n",
       "      <td>0.0</td>\n",
       "      <td>...</td>\n",
       "      <td>-0.0</td>\n",
       "      <td>0.0</td>\n",
       "      <td>0.0</td>\n",
       "      <td>-0.0</td>\n",
       "      <td>-0.0</td>\n",
       "      <td>0.0</td>\n",
       "      <td>-0.0</td>\n",
       "      <td>0.0</td>\n",
       "      <td>-0.0</td>\n",
       "      <td>0.0</td>\n",
       "    </tr>\n",
       "    <tr>\n",
       "      <th>3</th>\n",
       "      <td>0.000000</td>\n",
       "      <td>-0.000000</td>\n",
       "      <td>0.000000</td>\n",
       "      <td>0.341325</td>\n",
       "      <td>-0.000000</td>\n",
       "      <td>0.0</td>\n",
       "      <td>-0.0</td>\n",
       "      <td>-0.0</td>\n",
       "      <td>-0.0</td>\n",
       "      <td>0.0</td>\n",
       "      <td>...</td>\n",
       "      <td>-0.0</td>\n",
       "      <td>-0.0</td>\n",
       "      <td>0.0</td>\n",
       "      <td>-0.0</td>\n",
       "      <td>0.0</td>\n",
       "      <td>0.0</td>\n",
       "      <td>-0.0</td>\n",
       "      <td>0.0</td>\n",
       "      <td>0.0</td>\n",
       "      <td>0.0</td>\n",
       "    </tr>\n",
       "    <tr>\n",
       "      <th>4</th>\n",
       "      <td>-0.000000</td>\n",
       "      <td>-0.000000</td>\n",
       "      <td>0.000000</td>\n",
       "      <td>-0.000000</td>\n",
       "      <td>0.228824</td>\n",
       "      <td>0.0</td>\n",
       "      <td>0.0</td>\n",
       "      <td>0.0</td>\n",
       "      <td>-0.0</td>\n",
       "      <td>-0.0</td>\n",
       "      <td>...</td>\n",
       "      <td>0.0</td>\n",
       "      <td>0.0</td>\n",
       "      <td>0.0</td>\n",
       "      <td>0.0</td>\n",
       "      <td>0.0</td>\n",
       "      <td>-0.0</td>\n",
       "      <td>0.0</td>\n",
       "      <td>-0.0</td>\n",
       "      <td>-0.0</td>\n",
       "      <td>-0.0</td>\n",
       "    </tr>\n",
       "  </tbody>\n",
       "</table>\n",
       "<p>5 rows × 121 columns</p>\n",
       "</div>"
      ],
      "text/plain": [
       "        0         1         2         3         4    5    6    7    8    9    \\\n",
       "0  1.000151  0.000000  0.000000  0.000000 -0.000000 -0.0  0.0  0.0 -0.0 -0.0   \n",
       "1  0.000000  0.944612  0.000000 -0.000000 -0.000000  0.0  0.0 -0.0  0.0 -0.0   \n",
       "2  0.000000  0.000000  0.366457  0.000000  0.000000  0.0  0.0 -0.0  0.0  0.0   \n",
       "3  0.000000 -0.000000  0.000000  0.341325 -0.000000  0.0 -0.0 -0.0 -0.0  0.0   \n",
       "4 -0.000000 -0.000000  0.000000 -0.000000  0.228824  0.0  0.0  0.0 -0.0 -0.0   \n",
       "\n",
       "  ...   111  112  113  114  115  116  117  118  119  120  \n",
       "0 ...  -0.0  0.0 -0.0  0.0  0.0 -0.0  0.0 -0.0 -0.0 -0.0  \n",
       "1 ...  -0.0 -0.0  0.0 -0.0  0.0  0.0 -0.0  0.0  0.0 -0.0  \n",
       "2 ...  -0.0  0.0  0.0 -0.0 -0.0  0.0 -0.0  0.0 -0.0  0.0  \n",
       "3 ...  -0.0 -0.0  0.0 -0.0  0.0  0.0 -0.0  0.0  0.0  0.0  \n",
       "4 ...   0.0  0.0  0.0  0.0  0.0 -0.0  0.0 -0.0 -0.0 -0.0  \n",
       "\n",
       "[5 rows x 121 columns]"
      ]
     },
     "execution_count": 9,
     "metadata": {},
     "output_type": "execute_result"
    }
   ],
   "source": [
    "new_covar.head()"
   ]
  },
  {
   "cell_type": "markdown",
   "metadata": {},
   "source": [
    "What about the total variance?"
   ]
  },
  {
   "cell_type": "code",
   "execution_count": 10,
   "metadata": {
    "collapsed": false
   },
   "outputs": [
    {
     "data": {
      "text/plain": [
       "4.5646812836999997"
      ]
     },
     "execution_count": 10,
     "metadata": {},
     "output_type": "execute_result"
    }
   ],
   "source": [
    "np.trace(new_covar)"
   ]
  },
  {
   "cell_type": "markdown",
   "metadata": {},
   "source": [
    "The explained variance is also an attribute of the PCA object"
   ]
  },
  {
   "cell_type": "code",
   "execution_count": 11,
   "metadata": {
    "collapsed": false
   },
   "outputs": [
    {
     "data": {
      "text/plain": [
       "array([  2.19106533e-01,   2.06939420e-01,   8.02810120e-02,\n",
       "         7.47752083e-02,   5.01291616e-02,   4.18393061e-02,\n",
       "         3.58021604e-02,   3.25890761e-02,   2.34660181e-02,\n",
       "         2.08946199e-02,   1.69462353e-02,   1.55047108e-02,\n",
       "         1.26432559e-02,   1.17560411e-02,   1.11716904e-02,\n",
       "         9.70236595e-03,   9.17786126e-03,   8.50330295e-03,\n",
       "         8.05032881e-03,   7.71802787e-03,   6.70941416e-03,\n",
       "         6.38068721e-03,   5.94082908e-03,   5.52253350e-03,\n",
       "         5.12646231e-03,   4.64131068e-03,   4.27393798e-03,\n",
       "         3.82396548e-03,   3.72323029e-03,   3.36058837e-03,\n",
       "         3.16463232e-03,   3.01600932e-03,   2.83488412e-03,\n",
       "         2.68087839e-03,   2.51543707e-03,   2.35442490e-03,\n",
       "         2.16245187e-03,   1.99428315e-03,   1.94933229e-03,\n",
       "         1.75233466e-03,   1.70553493e-03,   1.63950849e-03,\n",
       "         1.59224609e-03,   1.41150734e-03,   1.37249028e-03,\n",
       "         1.28081558e-03,   1.20737191e-03,   1.12831782e-03,\n",
       "         1.04703058e-03,   1.03045396e-03,   9.52921944e-04,\n",
       "         8.44650656e-04,   7.89218139e-04,   7.71655776e-04,\n",
       "         7.52993545e-04,   6.74025659e-04,   6.63026761e-04,\n",
       "         6.40624167e-04,   6.10616566e-04,   5.85549501e-04,\n",
       "         5.40368733e-04,   4.89816045e-04,   4.65992452e-04,\n",
       "         4.63680242e-04,   4.25221631e-04,   3.85888989e-04,\n",
       "         3.80120013e-04,   3.48144369e-04,   3.21757821e-04,\n",
       "         3.18246753e-04,   2.87442182e-04,   2.75802988e-04,\n",
       "         2.36906515e-04,   2.31824214e-04,   2.15583621e-04,\n",
       "         2.08972028e-04,   2.06411610e-04,   1.88232910e-04,\n",
       "         1.69462802e-04,   1.63987587e-04,   1.54635045e-04,\n",
       "         1.44222900e-04,   1.37834130e-04,   1.35004608e-04,\n",
       "         1.24357542e-04,   1.22678336e-04,   1.06241726e-04,\n",
       "         9.37809154e-05,   8.83197079e-05,   8.71055827e-05,\n",
       "         8.19506834e-05,   7.00852635e-05,   6.81373690e-05,\n",
       "         6.33642477e-05,   5.85514188e-05,   5.08078520e-05,\n",
       "         4.74882827e-05,   4.48229426e-05,   4.19419512e-05,\n",
       "         3.80657175e-05,   3.69843152e-05,   3.11699442e-05,\n",
       "         3.06734466e-05,   2.65324367e-05,   2.42825973e-05,\n",
       "         2.22822979e-05,   1.93565284e-05,   1.72773087e-05,\n",
       "         1.53197499e-05,   1.01795391e-05,   9.93351204e-06,\n",
       "         9.18441429e-06,   8.16411705e-06,   7.28267257e-06,\n",
       "         6.61035358e-06,   5.10374610e-06,   4.46559675e-06,\n",
       "         3.55237834e-06,   2.86157258e-06,   9.76739208e-07,\n",
       "         2.49018635e-08])"
      ]
     },
     "execution_count": 11,
     "metadata": {},
     "output_type": "execute_result"
    }
   ],
   "source": [
    "pca.explained_variance_ratio_"
   ]
  },
  {
   "cell_type": "markdown",
   "metadata": {},
   "source": [
    "### Exercise\n",
    "\n",
    "A typical rule of thumb is to keep the components that account for 90% of the total variance. Use PCA to create a new data frame X_reduced. The total variance in the columns of X_reduced should account for about 90% of the variance in X_train"
   ]
  },
  {
   "cell_type": "markdown",
   "metadata": {},
   "source": [
    "Fit PCA to the training data"
   ]
  },
  {
   "cell_type": "code",
   "execution_count": 12,
   "metadata": {
    "collapsed": false
   },
   "outputs": [
    {
     "data": {
      "text/plain": [
       "PCA(copy=True, iterated_power='auto', n_components=None, random_state=None,\n",
       "  svd_solver='auto', tol=0.0, whiten=False)"
      ]
     },
     "execution_count": 12,
     "metadata": {},
     "output_type": "execute_result"
    }
   ],
   "source": [
    "pca = PCA()\n",
    "pca.fit(X_train)"
   ]
  },
  {
   "cell_type": "markdown",
   "metadata": {},
   "source": [
    "Scree plot of explained variance"
   ]
  },
  {
   "cell_type": "code",
   "execution_count": 13,
   "metadata": {
    "collapsed": false
   },
   "outputs": [
    {
     "data": {
      "text/plain": [
       "[<matplotlib.lines.Line2D at 0x115502510>]"
      ]
     },
     "execution_count": 13,
     "metadata": {},
     "output_type": "execute_result"
    },
    {
     "data": {
      "image/png": "[encoded data removed]",
      "text/plain": [
       "<matplotlib.figure.Figure at 0x113e29f50>"
      ]
     },
     "metadata": {},
     "output_type": "display_data"
    }
   ],
   "source": [
    "plt.plot(pca.explained_variance_)"
   ]
  },
  {
   "cell_type": "markdown",
   "metadata": {},
   "source": [
    "Decide how many components to use"
   ]
  },
  {
   "cell_type": "code",
   "execution_count": 14,
   "metadata": {
    "collapsed": false
   },
   "outputs": [
    {
     "data": {
      "text/plain": [
       "20"
      ]
     },
     "execution_count": 14,
     "metadata": {},
     "output_type": "execute_result"
    }
   ],
   "source": [
    "num_comp = np.sum(np.cumsum(pca.explained_variance_ratio_) < .9)\n",
    "num_comp"
   ]
  },
  {
   "cell_type": "markdown",
   "metadata": {},
   "source": [
    "#### Method One"
   ]
  },
  {
   "cell_type": "markdown",
   "metadata": {},
   "source": [
    "Create a new PCA object that is explicity a dimension reducer"
   ]
  },
  {
   "cell_type": "code",
   "execution_count": 15,
   "metadata": {
    "collapsed": true
   },
   "outputs": [],
   "source": [
    "X_reduced = PCA(n_components=num_comp).fit_transform(X_train)"
   ]
  },
  {
   "cell_type": "code",
   "execution_count": 16,
   "metadata": {
    "collapsed": false
   },
   "outputs": [
    {
     "data": {
      "text/plain": [
       "(239, 20)"
      ]
     },
     "execution_count": 16,
     "metadata": {},
     "output_type": "execute_result"
    }
   ],
   "source": [
    "X_reduced.shape"
   ]
  },
  {
   "cell_type": "code",
   "execution_count": 17,
   "metadata": {
    "collapsed": false
   },
   "outputs": [
    {
     "data": {
      "text/plain": [
       "array([[-0.83543565, -0.78278795, -0.24035994, -0.54654713,  0.15563304],\n",
       "       [ 0.48221287, -0.5331727 , -0.42792212,  0.47540061, -0.27159707],\n",
       "       [-0.95863882, -0.13229706,  0.11693975,  0.43873554, -0.21689277],\n",
       "       [-1.11246824, -0.16156369,  0.00555115,  0.18426371, -0.04292035],\n",
       "       [-0.46593257, -0.78238634, -0.34163554,  0.5232864 ,  0.04280874]])"
      ]
     },
     "execution_count": 17,
     "metadata": {},
     "output_type": "execute_result"
    }
   ],
   "source": [
    "X_reduced[:5, :5]"
   ]
  },
  {
   "cell_type": "markdown",
   "metadata": {},
   "source": [
    "#### Method Two"
   ]
  },
  {
   "cell_type": "markdown",
   "metadata": {},
   "source": [
    "Transform the data using the original PCA, but keep only the first num_comp columns"
   ]
  },
  {
   "cell_type": "code",
   "execution_count": 18,
   "metadata": {
    "collapsed": false
   },
   "outputs": [],
   "source": [
    "X_reduced = pca.transform(X_train)[:, :num_comp]"
   ]
  },
  {
   "cell_type": "code",
   "execution_count": 19,
   "metadata": {
    "collapsed": false
   },
   "outputs": [
    {
     "data": {
      "text/plain": [
       "(239, 20)"
      ]
     },
     "execution_count": 19,
     "metadata": {},
     "output_type": "execute_result"
    }
   ],
   "source": [
    "X_reduced.shape"
   ]
  },
  {
   "cell_type": "code",
   "execution_count": 20,
   "metadata": {
    "collapsed": false
   },
   "outputs": [
    {
     "data": {
      "text/plain": [
       "array([[-0.83543565, -0.78278795, -0.24035994, -0.54654713,  0.15563304],\n",
       "       [ 0.48221287, -0.5331727 , -0.42792212,  0.47540061, -0.27159707],\n",
       "       [-0.95863882, -0.13229706,  0.11693975,  0.43873554, -0.21689277],\n",
       "       [-1.11246824, -0.16156369,  0.00555115,  0.18426371, -0.04292035],\n",
       "       [-0.46593257, -0.78238634, -0.34163554,  0.5232864 ,  0.04280874]])"
      ]
     },
     "execution_count": 20,
     "metadata": {},
     "output_type": "execute_result"
    }
   ],
   "source": [
    "X_reduced[:5, :5]"
   ]
  },
  {
   "cell_type": "markdown",
   "metadata": {},
   "source": [
    "#### Method Three\n",
    "\n",
    "The key to understanding PCA is the following equation:\n",
    "\n",
    "$$\n",
    "\\underset{m \\times n}M \\approx \\underset{m \\times k}U \\times \\underset{k \\times n}V^T\n",
    "$$\n",
    "\n",
    "- $M$ is the original data matrix (as long as each column has zero mean)\n",
    "- $k$ is the dimension to reduce to\n",
    "- $U$ maps from rows of M to components\n",
    "- $V^T$ maps from components to columns of M (features)"
   ]
  },
  {
   "cell_type": "code",
   "execution_count": 21,
   "metadata": {
    "collapsed": false
   },
   "outputs": [],
   "source": [
    "Vt = pca.components_[:20, :]\n",
    "M = X_train - X_train.mean()\n",
    "U = np.matmul(M, np.transpose(Vt))"
   ]
  },
  {
   "cell_type": "code",
   "execution_count": 22,
   "metadata": {
    "collapsed": false
   },
   "outputs": [
    {
     "data": {
      "text/plain": [
       "(239, 20)"
      ]
     },
     "execution_count": 22,
     "metadata": {},
     "output_type": "execute_result"
    }
   ],
   "source": [
    "U.shape"
   ]
  },
  {
   "cell_type": "code",
   "execution_count": 23,
   "metadata": {
    "collapsed": false
   },
   "outputs": [
    {
     "data": {
      "text/plain": [
       "array([[-0.83543565, -0.78278795, -0.24035994, -0.54654713,  0.15563304],\n",
       "       [ 0.48221287, -0.5331727 , -0.42792212,  0.47540061, -0.27159707],\n",
       "       [-0.95863882, -0.13229706,  0.11693975,  0.43873554, -0.21689277],\n",
       "       [-1.11246824, -0.16156369,  0.00555115,  0.18426371, -0.04292035],\n",
       "       [-0.46593257, -0.78238634, -0.34163554,  0.5232864 ,  0.04280874]])"
      ]
     },
     "execution_count": 23,
     "metadata": {},
     "output_type": "execute_result"
    }
   ],
   "source": [
    "U[:5, :5]"
   ]
  },
  {
   "cell_type": "markdown",
   "metadata": {},
   "source": [
    "### Exercise\n",
    "\n",
    "The component matrix $V$ tells us the mapping between principal components and the original features. Use this matrix to try to interpret the first two principal components"
   ]
  },
  {
   "cell_type": "code",
   "execution_count": 24,
   "metadata": {
    "collapsed": false
   },
   "outputs": [],
   "source": [
    "comp0 = pd.Series(dict(zip(X_train.columns, Vt[0, :])))\n",
    "comp1 = pd.Series(dict(zip(X_train.columns, Vt[1, :])))\n",
    "col_order = comp0.sort_values().index"
   ]
  },
  {
   "cell_type": "code",
   "execution_count": 25,
   "metadata": {
    "collapsed": false
   },
   "outputs": [
    {
     "data": {
      "text/plain": [
       "<matplotlib.axes._subplots.AxesSubplot at 0x11551d250>"
      ]
     },
     "execution_count": 25,
     "metadata": {},
     "output_type": "execute_result"
    },
    {
     "data": {
      "image/png": "[encoded data removed]",
      "text/plain": [
       "<matplotlib.figure.Figure at 0x1155b27d0>"
      ]
     },
     "metadata": {},
     "output_type": "display_data"
    }
   ],
   "source": [
    "plt.figure(figsize=(4, 24))\n",
    "comp0[col_order].plot(kind='barh')\n",
    "comp1[col_order].plot(kind='barh', color='red')"
   ]
  },
  {
   "cell_type": "markdown",
   "metadata": {},
   "source": [
    "- The first component ranges from wealthy immigrant neighborhoods, to poor native neighborhoods.\n",
    "- The second component ranges from poor immigrant neighborhoods to wealthy native neighborhoods.\n",
    "- These do seem to be orthogonal"
   ]
  },
  {
   "cell_type": "markdown",
   "metadata": {},
   "source": [
    "## Application: Linear Regression\n",
    "\n",
    "We tried regularized regression on this dataset before. Let's remind ourselves of the results"
   ]
  },
  {
   "cell_type": "markdown",
   "metadata": {},
   "source": [
    "#### Vanilla"
   ]
  },
  {
   "cell_type": "code",
   "execution_count": 26,
   "metadata": {
    "collapsed": false
   },
   "outputs": [
    {
     "name": "stdout",
     "output_type": "stream",
     "text": [
      "Train R-squared: 0.823\n",
      "Test R-squared: 0.509\n"
     ]
    }
   ],
   "source": [
    "from sklearn.linear_model import LinearRegression\n",
    "lr = LinearRegression()\n",
    "lr.fit(X_train, y_train)\n",
    "\n",
    "print 'Train R-squared: {:.3}'.format(lr.score(X_train, y_train))\n",
    "print 'Test R-squared: {:.3}'.format(lr.score(X_test, y_test))"
   ]
  },
  {
   "cell_type": "markdown",
   "metadata": {},
   "source": [
    "#### Lasso"
   ]
  },
  {
   "cell_type": "code",
   "execution_count": 27,
   "metadata": {
    "collapsed": false
   },
   "outputs": [
    {
     "name": "stdout",
     "output_type": "stream",
     "text": [
      "Train R-squared: 0.661\n",
      "Test R-squared: 0.722\n"
     ]
    },
    {
     "name": "stderr",
     "output_type": "stream",
     "text": [
      "/Users/zalexander/anaconda/lib/python2.7/site-packages/sklearn/linear_model/coordinate_descent.py:1082: DataConversionWarning: A column-vector y was passed when a 1d array was expected. Please change the shape of y to (n_samples, ), for example using ravel().\n",
      "  y = column_or_1d(y, warn=True)\n"
     ]
    }
   ],
   "source": [
    "from sklearn.linear_model import LassoCV\n",
    "lasso = LassoCV(alphas= 2. ** np.arange(-10, 10))\n",
    "lasso.fit(X_train, y_train)\n",
    "\n",
    "print 'Train R-squared: {:.3}'.format(lasso.score(X_train, y_train))\n",
    "print 'Test R-squared: {:.3}'.format(lasso.score(X_test, y_test))"
   ]
  },
  {
   "cell_type": "markdown",
   "metadata": {},
   "source": [
    "### Using Dimensionality Reduction\n",
    "\n",
    "The reason the un-regularized model does so poorly is that there are way too many features compared to the number of observations. Another approach to regularization is simply to choose a smaller number of features.\n",
    "\n",
    "## Exercise\n",
    "\n",
    "Below are three approaches to reducing the number of features used in the model. For each approach, \n",
    "\n",
    "1. Plot the R-squared (on X_test) vs number of features used.\n",
    "2. Report the best R-squared\n",
    "3. Report the number of features used to get the best R-squared"
   ]
  },
  {
   "cell_type": "markdown",
   "metadata": {},
   "source": [
    "#### 1. Randomly choose subsets of features\n",
    "\n",
    "This is the most naive approach to dimensionality reduction; just pick $k$ features at random."
   ]
  },
  {
   "cell_type": "code",
   "execution_count": 28,
   "metadata": {
    "collapsed": false
   },
   "outputs": [],
   "source": [
    "def random_features(nfeatures):\n",
    "    cols = np.random.choice(X_train.columns, nfeatures, replace=False)\n",
    "    lr = LinearRegression()\n",
    "    lr.fit(X_train.loc[:, cols], y_train)\n",
    "    return lr.score(X_test.loc[:, cols], y_test)\n",
    "\n",
    "out = [random_features(i) for i in range(1, 120)]\n"
   ]
  },
  {
   "cell_type": "code",
   "execution_count": 29,
   "metadata": {
    "collapsed": false
   },
   "outputs": [
    {
     "data": {
      "text/plain": [
       "[<matplotlib.lines.Line2D at 0x11c31a650>]"
      ]
     },
     "execution_count": 29,
     "metadata": {},
     "output_type": "execute_result"
    },
    {
     "data": {
      "image/png": "[encoded data removed]",
      "text/plain": [
       "<matplotlib.figure.Figure at 0x11babf690>"
      ]
     },
     "metadata": {},
     "output_type": "display_data"
    }
   ],
   "source": [
    "plt.plot(out)"
   ]
  },
  {
   "cell_type": "code",
   "execution_count": 30,
   "metadata": {
    "collapsed": false
   },
   "outputs": [
    {
     "data": {
      "text/plain": [
       "0.71487926938346069"
      ]
     },
     "execution_count": 30,
     "metadata": {},
     "output_type": "execute_result"
    }
   ],
   "source": [
    "np.max(out)"
   ]
  },
  {
   "cell_type": "code",
   "execution_count": 31,
   "metadata": {
    "collapsed": false
   },
   "outputs": [
    {
     "data": {
      "text/plain": [
       "34"
      ]
     },
     "execution_count": 31,
     "metadata": {},
     "output_type": "execute_result"
    }
   ],
   "source": [
    "np.argmax(out)"
   ]
  },
  {
   "cell_type": "markdown",
   "metadata": {},
   "source": [
    "#### 2. Intelligently choose subsets of features\n",
    "\n",
    "We can do a little better than randomly choosing sets of features. Use the sklearn function `f_regression` to rank the features in order of their correlation with the target, then pick the top $k$ features."
   ]
  },
  {
   "cell_type": "code",
   "execution_count": 32,
   "metadata": {
    "collapsed": false
   },
   "outputs": [
    {
     "name": "stderr",
     "output_type": "stream",
     "text": [
      "/Users/zalexander/anaconda/lib/python2.7/site-packages/sklearn/utils/validation.py:526: DataConversionWarning: A column-vector y was passed when a 1d array was expected. Please change the shape of y to (n_samples, ), for example using ravel().\n",
      "  y = column_or_1d(y, warn=True)\n"
     ]
    }
   ],
   "source": [
    "from sklearn.feature_selection import f_regression\n",
    "\n",
    "feature_importance = f_regression(X_train, y_train)[0]\n",
    "\n",
    "def best_features(n_features):\n",
    "    idx = np.argsort(-feature_importance)[:n_features]\n",
    "    lr = LinearRegression()\n",
    "    lr.fit(X_train.iloc[:, idx], y_train)\n",
    "    return lr.score(X_test.iloc[:, idx], y_test)\n",
    "\n",
    "out = [best_features(i) for i in range(1, 121)]"
   ]
  },
  {
   "cell_type": "code",
   "execution_count": 33,
   "metadata": {
    "collapsed": false
   },
   "outputs": [
    {
     "data": {
      "text/plain": [
       "[<matplotlib.lines.Line2D at 0x11507d710>]"
      ]
     },
     "execution_count": 33,
     "metadata": {},
     "output_type": "execute_result"
    },
    {
     "data": {
      "image/png": "[encoded data removed]",
      "text/plain": [
       "<matplotlib.figure.Figure at 0x11c5e3ad0>"
      ]
     },
     "metadata": {},
     "output_type": "display_data"
    }
   ],
   "source": [
    "plt.plot(out)"
   ]
  },
  {
   "cell_type": "code",
   "execution_count": 34,
   "metadata": {
    "collapsed": false
   },
   "outputs": [
    {
     "data": {
      "text/plain": [
       "0.73364135625953164"
      ]
     },
     "execution_count": 34,
     "metadata": {},
     "output_type": "execute_result"
    }
   ],
   "source": [
    "np.max(out)"
   ]
  },
  {
   "cell_type": "code",
   "execution_count": 35,
   "metadata": {
    "collapsed": false
   },
   "outputs": [
    {
     "data": {
      "text/plain": [
       "50"
      ]
     },
     "execution_count": 35,
     "metadata": {},
     "output_type": "execute_result"
    }
   ],
   "source": [
    "np.argmax(out)"
   ]
  },
  {
   "cell_type": "markdown",
   "metadata": {},
   "source": [
    "#### 3. Intelligently choose a projections into principal component space\n",
    "\n",
    "Lastly, we can use PCA to compress as much information into as few features as possible. The number of features to use is the number of principal components."
   ]
  },
  {
   "cell_type": "code",
   "execution_count": 36,
   "metadata": {
    "collapsed": true
   },
   "outputs": [],
   "source": [
    "def best_components(n_features):\n",
    "    pca = PCA(n_components=n_features)\n",
    "    X_transformed = pca.fit_transform(X_train)\n",
    "    lr = LinearRegression()\n",
    "    lr.fit(X_transformed, y_train)\n",
    "    return lr.score(pca.transform(X_test), y_test)\n",
    "\n",
    "out = [best_components(i) for i in range(1, 121)]\n",
    "    "
   ]
  },
  {
   "cell_type": "code",
   "execution_count": 37,
   "metadata": {
    "collapsed": false
   },
   "outputs": [
    {
     "data": {
      "text/plain": [
       "[<matplotlib.lines.Line2D at 0x1150e6f10>]"
      ]
     },
     "execution_count": 37,
     "metadata": {},
     "output_type": "execute_result"
    },
    {
     "data": {
      "image/png": "[encoded data removed]",
      "text/plain": [
       "<matplotlib.figure.Figure at 0x11513ff10>"
      ]
     },
     "metadata": {},
     "output_type": "display_data"
    }
   ],
   "source": [
    "plt.plot(out)"
   ]
  },
  {
   "cell_type": "code",
   "execution_count": 38,
   "metadata": {
    "collapsed": false
   },
   "outputs": [
    {
     "data": {
      "text/plain": [
       "0.73038344488550411"
      ]
     },
     "execution_count": 38,
     "metadata": {},
     "output_type": "execute_result"
    }
   ],
   "source": [
    "np.max(out)"
   ]
  },
  {
   "cell_type": "code",
   "execution_count": 39,
   "metadata": {
    "collapsed": false
   },
   "outputs": [
    {
     "data": {
      "text/plain": [
       "19"
      ]
     },
     "execution_count": 39,
     "metadata": {},
     "output_type": "execute_result"
    }
   ],
   "source": [
    "np.argmax(out)"
   ]
  },
  {
   "cell_type": "markdown",
   "metadata": {},
   "source": [
    "## Bonus"
   ]
  },
  {
   "cell_type": "markdown",
   "metadata": {},
   "source": [
    "### Kernel PCA"
   ]
  },
  {
   "cell_type": "markdown",
   "metadata": {},
   "source": [
    "### Exercise\n",
    "\n",
    "See if you can find kernel parameters to improve the estimate further"
   ]
  },
  {
   "cell_type": "code",
   "execution_count": 40,
   "metadata": {
    "collapsed": true
   },
   "outputs": [],
   "source": [
    "from sklearn.decomposition import KernelPCA\n",
    "from sklearn.model_selection import GridSearchCV"
   ]
  },
  {
   "cell_type": "markdown",
   "metadata": {},
   "source": [
    "Fix number of components"
   ]
  },
  {
   "cell_type": "code",
   "execution_count": 41,
   "metadata": {
    "collapsed": false
   },
   "outputs": [
    {
     "data": {
      "text/plain": [
       "<matplotlib.axes._subplots.AxesSubplot at 0x11bef6210>"
      ]
     },
     "execution_count": 41,
     "metadata": {},
     "output_type": "execute_result"
    },
    {
     "data": {
      "image/png": "[encoded data removed]",
      "text/plain": [
       "<matplotlib.figure.Figure at 0x11c6162d0>"
      ]
     },
     "metadata": {},
     "output_type": "display_data"
    }
   ],
   "source": [
    "pipe = Pipeline(steps=[\n",
    "    ('scale', StandardScaler()),\n",
    "    ('decomp', PCA(n_components=25)),\n",
    "    ('model', LinearRegression())\n",
    "])\n",
    "param_grid = {\n",
    "#     'decomp__kernel': ['rbf'],\n",
    "    'decomp__gamma': np.linspace(.001, .01, 50)\n",
    "#     'decomp__n_components': np.arange(10, 50)\n",
    "}\n",
    "\n",
    "searcher = GridSearchCV(pipe, param_grid, n_jobs=-1)\n",
    "\n",
    "searcher.fit(X_train, y_train)\n",
    "\n",
    "df = pd.DataFrame(searcher.cv_results_)\n",
    "df['score'] = (df.split0_test_score + df.split1_test_score + df.split2_test_score) / 3\n",
    "\n",
    "\n",
    "df.plot(x='param_decomp__gamma', y='score', kind='scatter')"
   ]
  },
  {
   "cell_type": "code",
   "execution_count": 42,
   "metadata": {
    "collapsed": false
   },
   "outputs": [
    {
     "data": {
      "text/plain": [
       "{'decomp__gamma': 0.0028367346938775514}"
      ]
     },
     "execution_count": 42,
     "metadata": {},
     "output_type": "execute_result"
    }
   ],
   "source": [
    "searcher.best_params_"
   ]
  },
  {
   "cell_type": "markdown",
   "metadata": {},
   "source": [
    "Fix Gamma"
   ]
  },
  {
   "cell_type": "code",
   "execution_count": 43,
   "metadata": {
    "collapsed": false
   },
   "outputs": [
    {
     "data": {
      "text/plain": [
       "<matplotlib.axes._subplots.AxesSubplot at 0x115380510>"
      ]
     },
     "execution_count": 43,
     "metadata": {},
     "output_type": "execute_result"
    },
    {
     "data": {
      "image/png": "[encoded data removed]",
      "text/plain": [
       "<matplotlib.figure.Figure at 0x11c62d750>"
      ]
     },
     "metadata": {},
     "output_type": "display_data"
    }
   ],
   "source": [
    "pipe = Pipeline(steps=[\n",
    "    ('scale', StandardScaler()),\n",
    "    ('decomp', KernelPCA(kernel='rbf', gamma=searcher.best_params_['decomp__gamma'])),\n",
    "    ('model', LinearRegression())\n",
    "])\n",
    "param_grid = {\n",
    "#     'decomp__kernel': ['rbf'],\n",
    "#     'decomp__gamma': np.linspace(.001, .1, 50),\n",
    "    'decomp__n_components': np.arange(5, 100)\n",
    "}\n",
    "\n",
    "searcher = GridSearchCV(pipe, param_grid, n_jobs=-1)\n",
    "\n",
    "searcher.fit(X_train, y_train)\n",
    "\n",
    "df = pd.DataFrame(searcher.cv_results_)\n",
    "df['score'] = (df.split0_test_score + df.split1_test_score + df.split2_test_score) / 3\n",
    "\n",
    "\n",
    "df.plot(x='param_decomp__n_components', y='score', kind='scatter')"
   ]
  },
  {
   "cell_type": "code",
   "execution_count": 44,
   "metadata": {
    "collapsed": false
   },
   "outputs": [
    {
     "data": {
      "text/plain": [
       "0.63156046628182905"
      ]
     },
     "execution_count": 44,
     "metadata": {},
     "output_type": "execute_result"
    }
   ],
   "source": [
    "searcher.score(X_test, y_test)"
   ]
  },
  {
   "cell_type": "markdown",
   "metadata": {},
   "source": [
    "I wasn't able to improve on linear PCA."
   ]
  },
  {
   "cell_type": "code",
   "execution_count": null,
   "metadata": {
    "collapsed": true
   },
   "outputs": [],
   "source": []
  }
 ],
 "metadata": {
  "kernelspec": {
   "display_name": "Python [conda root]",
   "language": "python",
   "name": "conda-root-py"
  },
  "language_info": {
   "codemirror_mode": {
    "name": "ipython",
    "version": 2
   },
   "file_extension": ".py",
   "mimetype": "text/x-python",
   "name": "python",
   "nbconvert_exporter": "python",
   "pygments_lexer": "ipython2",
   "version": "2.7.13"
  }
 },
 "nbformat": 4,
 "nbformat_minor": 2
}
