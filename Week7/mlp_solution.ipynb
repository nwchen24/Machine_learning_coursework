{
 "cells": [
  {
   "cell_type": "code",
   "execution_count": 1,
   "metadata": {
    "collapsed": false
   },
   "outputs": [],
   "source": [
    "import pandas as pd\n",
    "import numpy as np\n",
    "import tensorflow as tf"
   ]
  },
  {
   "cell_type": "markdown",
   "metadata": {},
   "source": [
    "# Intro to Tensorflow\n",
    "\n",
    "### Goals\n",
    "- Gain a basic understanding of the what/how/why of Tensorflow\n",
    "- Implement a simple multi-layer perceptron "
   ]
  },
  {
   "cell_type": "markdown",
   "metadata": {},
   "source": [
    "## Tensorflow Basics"
   ]
  },
  {
   "cell_type": "markdown",
   "metadata": {},
   "source": [
    "Tensorflow (and other 'deep learning' libraries) are really good at gradient descent. \n",
    "\n",
    "Three types of objects\n",
    "- Placeholders where we will use real data\n",
    "- Variables. These are the model parameters - they can be updated using gradient descent.\n",
    "- Constants.\n",
    "\n",
    "Use these objects to construct a loss function. Then use gradient descent to find the best parameters, given the data."
   ]
  },
  {
   "cell_type": "markdown",
   "metadata": {},
   "source": [
    "### Constants"
   ]
  },
  {
   "cell_type": "code",
   "execution_count": 2,
   "metadata": {
    "collapsed": true
   },
   "outputs": [],
   "source": [
    "node1 = tf.constant(3.0, tf.float32)\n",
    "node2 = tf.constant(4.0)"
   ]
  },
  {
   "cell_type": "code",
   "execution_count": 3,
   "metadata": {
    "collapsed": false
   },
   "outputs": [
    {
     "data": {
      "text/plain": [
       "<tf.Tensor 'add:0' shape=() dtype=float32>"
      ]
     },
     "execution_count": 3,
     "metadata": {},
     "output_type": "execute_result"
    }
   ],
   "source": [
    "node1 + node2"
   ]
  },
  {
   "cell_type": "code",
   "execution_count": 4,
   "metadata": {
    "collapsed": true
   },
   "outputs": [],
   "source": [
    "sess = tf.InteractiveSession()"
   ]
  },
  {
   "cell_type": "code",
   "execution_count": 5,
   "metadata": {
    "collapsed": false
   },
   "outputs": [
    {
     "data": {
      "text/plain": [
       "7.0"
      ]
     },
     "execution_count": 5,
     "metadata": {},
     "output_type": "execute_result"
    }
   ],
   "source": [
    "sess.run(node1 + node2)"
   ]
  },
  {
   "cell_type": "markdown",
   "metadata": {},
   "source": [
    "### Placeholders\n",
    "Placeholders are the objects that will be filled with real data at runtime"
   ]
  },
  {
   "cell_type": "code",
   "execution_count": 6,
   "metadata": {
    "collapsed": true
   },
   "outputs": [],
   "source": [
    "a = tf.placeholder(tf.float32)\n",
    "b = tf.placeholder(tf.float32)\n",
    "adder_node = a + b "
   ]
  },
  {
   "cell_type": "code",
   "execution_count": 7,
   "metadata": {
    "collapsed": false
   },
   "outputs": [
    {
     "data": {
      "text/plain": [
       "array([ 10.,  11.], dtype=float32)"
      ]
     },
     "execution_count": 7,
     "metadata": {},
     "output_type": "execute_result"
    }
   ],
   "source": [
    "sess.run(adder_node, feed_dict={a: [3, 4], b: [7, 7]})"
   ]
  },
  {
   "cell_type": "markdown",
   "metadata": {},
   "source": [
    "### Variables"
   ]
  },
  {
   "cell_type": "markdown",
   "metadata": {},
   "source": [
    "Think about the linear equation\n",
    "$$\n",
    "y = 3 x - 3\n",
    "$$"
   ]
  },
  {
   "cell_type": "code",
   "execution_count": 8,
   "metadata": {
    "collapsed": true
   },
   "outputs": [],
   "source": [
    "# Define the data\n",
    "x = tf.placeholder(tf.float32)\n",
    "\n",
    "# Define a linear model\n",
    "W = tf.Variable([3.], tf.float32)\n",
    "b = tf.Variable([-3.], tf.float32)\n",
    "linear_model = W * x + b\n"
   ]
  },
  {
   "cell_type": "markdown",
   "metadata": {},
   "source": [
    "Variables need to be initialized"
   ]
  },
  {
   "cell_type": "code",
   "execution_count": 9,
   "metadata": {
    "collapsed": true
   },
   "outputs": [],
   "source": [
    "sess.run(tf.global_variables_initializer())"
   ]
  },
  {
   "cell_type": "code",
   "execution_count": 10,
   "metadata": {
    "collapsed": false
   },
   "outputs": [
    {
     "data": {
      "text/plain": [
       "array([ 9.,  3.,  0.], dtype=float32)"
      ]
     },
     "execution_count": 10,
     "metadata": {},
     "output_type": "execute_result"
    }
   ],
   "source": [
    "sess.run(linear_model, {x: [4, 2, 1]})"
   ]
  },
  {
   "cell_type": "markdown",
   "metadata": {},
   "source": [
    "Or we could define some y values and see how well it fits the model"
   ]
  },
  {
   "cell_type": "code",
   "execution_count": 11,
   "metadata": {
    "collapsed": true
   },
   "outputs": [],
   "source": [
    "y = tf.placeholder(tf.float32)\n",
    "error = tf.square(linear_model - y)"
   ]
  },
  {
   "cell_type": "code",
   "execution_count": 12,
   "metadata": {
    "collapsed": false
   },
   "outputs": [
    {
     "data": {
      "text/plain": [
       "array([ 64.,   4.,   1.], dtype=float32)"
      ]
     },
     "execution_count": 12,
     "metadata": {},
     "output_type": "execute_result"
    }
   ],
   "source": [
    "sess.run(error, {x: [4, 2, 1], y: [1, 1, 1]})"
   ]
  },
  {
   "cell_type": "markdown",
   "metadata": {},
   "source": [
    "# Linear Regression"
   ]
  },
  {
   "cell_type": "markdown",
   "metadata": {},
   "source": [
    "## Crime Data"
   ]
  },
  {
   "cell_type": "code",
   "execution_count": 13,
   "metadata": {
    "collapsed": false
   },
   "outputs": [],
   "source": [
    "from sklearn.model_selection import train_test_split\n",
    "\n",
    "# Load some crime data\n",
    "headers = pd.read_csv('comm_names.txt', squeeze=True)\n",
    "headers = headers.apply(lambda s: s.split()[1])\n",
    "crime = (pd.read_csv('http://archive.ics.uci.edu/ml/machine-learning-databases/communities/communities.data', \n",
    "                    header=None, na_values=['?'], names=headers)\n",
    "         .iloc[:, 5:]\n",
    "         .dropna()\n",
    "         )\n",
    "\n",
    "# Set target and predictors\n",
    "target = 'ViolentCrimesPerPop'\n",
    "predictors = [c for c in crime.columns if not c == target]\n",
    "\n",
    "# Train/test split\n",
    "X = crime[predictors]\n",
    "y = crime[[target]]\n",
    "X_train, X_test, y_train, y_test = train_test_split(X, y, random_state=2)"
   ]
  },
  {
   "cell_type": "markdown",
   "metadata": {},
   "source": [
    "### Define the model"
   ]
  },
  {
   "cell_type": "code",
   "execution_count": 14,
   "metadata": {
    "collapsed": false
   },
   "outputs": [],
   "source": [
    "# Parameters\n",
    "dim_input = X_train.shape[1]\n",
    "dim_output = 1\n",
    "\n",
    "# input\n",
    "x = tf.placeholder(tf.float32, [None, dim_input])\n",
    "\n",
    "# output\n",
    "y_ = tf.placeholder(tf.float32, [None, 1])\n",
    "\n",
    "# Variables\n",
    "W = tf.Variable(tf.random_normal([dim_input, dim_output]))\n",
    "b = tf.Variable(tf.random_normal([1]))\n",
    "\n",
    "# Model\n",
    "y = tf.matmul(x, W) + b\n",
    "\n",
    "# Loss\n",
    "mse = tf.reduce_mean(tf.square(y - y_))\n",
    "\n",
    "# Optimizer\n",
    "optimizer = tf.train.AdamOptimizer(0.01)  # Automatically adjusts learning rate\n",
    "train_step = optimizer.minimize(mse)"
   ]
  },
  {
   "cell_type": "markdown",
   "metadata": {},
   "source": [
    "Initialize"
   ]
  },
  {
   "cell_type": "code",
   "execution_count": 15,
   "metadata": {
    "collapsed": true
   },
   "outputs": [],
   "source": [
    "sess = tf.InteractiveSession()\n",
    "tf.global_variables_initializer().run()"
   ]
  },
  {
   "cell_type": "markdown",
   "metadata": {},
   "source": [
    "View loss"
   ]
  },
  {
   "cell_type": "code",
   "execution_count": 16,
   "metadata": {
    "collapsed": false
   },
   "outputs": [
    {
     "data": {
      "text/plain": [
       "98.40609"
      ]
     },
     "execution_count": 16,
     "metadata": {},
     "output_type": "execute_result"
    }
   ],
   "source": [
    "sess.run(mse, feed_dict={x: X_train, y_: y_train})"
   ]
  },
  {
   "cell_type": "markdown",
   "metadata": {},
   "source": [
    "Parameters"
   ]
  },
  {
   "cell_type": "code",
   "execution_count": 17,
   "metadata": {
    "collapsed": false
   },
   "outputs": [
    {
     "data": {
      "text/plain": [
       "array([ 0.34602281], dtype=float32)"
      ]
     },
     "execution_count": 17,
     "metadata": {},
     "output_type": "execute_result"
    }
   ],
   "source": [
    "sess.run(b)"
   ]
  },
  {
   "cell_type": "code",
   "execution_count": 18,
   "metadata": {
    "collapsed": true
   },
   "outputs": [],
   "source": [
    "sess.run(train_step, feed_dict={x: X_train, y_: y_train})"
   ]
  },
  {
   "cell_type": "markdown",
   "metadata": {},
   "source": [
    "### Exercise\n",
    "\n",
    "1: Run 10000 gradient descent steps of the model above. Every 500 iterations, note the train error and the test error."
   ]
  },
  {
   "cell_type": "code",
   "execution_count": 19,
   "metadata": {
    "collapsed": false
   },
   "outputs": [
    {
     "name": "stdout",
     "output_type": "stream",
     "text": [
      "Iteration: 0000 \t Train Loss: 89.5 \t Test Loss: 93.0\n",
      "Iteration: 0500 \t Train Loss: 0.679 \t Test Loss: 0.617\n",
      "Iteration: 1000 \t Train Loss: 0.304 \t Test Loss: 0.332\n",
      "Iteration: 1500 \t Train Loss: 0.186 \t Test Loss: 0.227\n",
      "Iteration: 2000 \t Train Loss: 0.13 \t Test Loss: 0.177\n",
      "Iteration: 2500 \t Train Loss: 0.097 \t Test Loss: 0.151\n",
      "Iteration: 3000 \t Train Loss: 0.0739 \t Test Loss: 0.131\n",
      "Iteration: 3500 \t Train Loss: 0.0569 \t Test Loss: 0.113\n",
      "Iteration: 4000 \t Train Loss: 0.0445 \t Test Loss: 0.0966\n",
      "Iteration: 4500 \t Train Loss: 0.0356 \t Test Loss: 0.0833\n",
      "Iteration: 5000 \t Train Loss: 0.0294 \t Test Loss: 0.0729\n",
      "Iteration: 5500 \t Train Loss: 0.0251 \t Test Loss: 0.0651\n",
      "Iteration: 6000 \t Train Loss: 0.022 \t Test Loss: 0.0596\n",
      "Iteration: 6500 \t Train Loss: 0.0197 \t Test Loss: 0.0559\n",
      "Iteration: 7000 \t Train Loss: 0.0181 \t Test Loss: 0.0534\n",
      "Iteration: 7500 \t Train Loss: 0.0169 \t Test Loss: 0.0516\n",
      "Iteration: 8000 \t Train Loss: 0.016 \t Test Loss: 0.0501\n",
      "Iteration: 8500 \t Train Loss: 0.0153 \t Test Loss: 0.0487\n",
      "Iteration: 9000 \t Train Loss: 0.0148 \t Test Loss: 0.0475\n",
      "Iteration: 9500 \t Train Loss: 0.0172 \t Test Loss: 0.0475\n"
     ]
    }
   ],
   "source": [
    "for i in range(10000):\n",
    "    if i % 500 == 0:\n",
    "        train_mse = sess.run(mse, {x: X_train, y_: y_train})\n",
    "        test_mse = sess.run(mse, {x: X_test, y_: y_test})\n",
    "        print 'Iteration: {:04} \\t Train Loss: {:.3} \\t Test Loss: {:.3}'.format(i, train_mse, test_mse)\n",
    "    sess.run(train_step, feed_dict = {x: X_train, y_: y_train})\n"
   ]
  },
  {
   "cell_type": "markdown",
   "metadata": {},
   "source": [
    "2: Compare your results above to LinearRegression in scikit-learn."
   ]
  },
  {
   "cell_type": "code",
   "execution_count": 37,
   "metadata": {
    "collapsed": false
   },
   "outputs": [],
   "source": [
    "from sklearn.linear_model import LinearRegression, Ridge\n",
    "\n",
    "lr = LinearRegression()\n",
    "# lr = Ridge(alpha=11.7)\n",
    "lr.fit(X_train, y_train)\n",
    "train_pred = lr.predict(X_train)\n",
    "test_pred = lr.predict(X_test)\n",
    "train_mse = np.mean((train_pred - y_train) ** 2)\n",
    "test_mse = np.mean((test_pred - y_test) ** M2)\n",
    "\n",
    "print train_mse\n",
    "\n",
    "print test_mse"
   ]
  },
  {
   "cell_type": "markdown",
   "metadata": {},
   "source": [
    "3: In Week 5, we found that the best ridge regularization parameter for this data was alpha=11.8. Try to add the same amount of regularization to the tensorflow model above, then compare with ridge regression in scikit-learn."
   ]
  },
  {
   "cell_type": "markdown",
   "metadata": {},
   "source": [
    "# Multi-layer Perceptron (MLP)\n",
    "\n",
    "![](mlp.png)\n",
    "\n",
    "### Exercise\n",
    "\n",
    "Build a multi-layer perceptron to predict crime rates.\n",
    "\n",
    "Start with two hidden units. You should be able to define one matrix transforms the inputs to the hidden layer, and a second matrix that will transform the hidden layer to the output.\n",
    "\n",
    "Don't forget add bias at each step and to apply a nonlinear transformation to the hidden layer (e.g. tf.nn.sigmoid())"
   ]
  },
  {
   "cell_type": "code",
   "execution_count": 23,
   "metadata": {
    "collapsed": false
   },
   "outputs": [],
   "source": [
    "dim_hidden = 2\n",
    "\n",
    "# input\n",
    "x = tf.placeholder(tf.float32, [None, dim_input])\n",
    "\n",
    "# target\n",
    "y_ = tf.placeholder(tf.float32, [None, 1])\n",
    "\n",
    "# Input to hidden\n",
    "W = tf.Variable(tf.random_normal([dim_input, dim_hidden]))\n",
    "b1 = tf.Variable(tf.random_normal([dim_hidden]))\n",
    "\n",
    "# Hidden to output\n",
    "V = tf.Variable(tf.random_normal([dim_hidden, dim_output]))\n",
    "b2 = tf.Variable(tf.random_normal([1]))\n",
    "\n",
    "# Model\n",
    "H = tf.nn.sigmoid(tf.matmul(x, W) + b1)\n",
    "y = tf.matmul(H, V) + b2\n",
    "\n",
    "# Loss\n",
    "mse = tf.reduce_mean(tf.square(y - y_))\n",
    "lam = 1\n",
    "reg = tf.reduce_mean(lam * tf.square(W)) + tf.reduce_mean(lam * tf.square(V))\n",
    "loss = mse + reg\n",
    "\n",
    "# Optimizer\n",
    "train_step = tf.train.AdamOptimizer(0.001).minimize(loss)"
   ]
  },
  {
   "cell_type": "markdown",
   "metadata": {},
   "source": [
    "Once you have something working, it is time to tune your network to find the right number of hidden layers and amount of regularization.\n",
    "\n",
    "1. Use your code block from above that performs gradient descent steps and records intermediate results.\n",
    "2. You might want to force the optimizer to be stochastic. That is, feed it 100 random training examples at each step instead of the whole training dataset.\n",
    "3. Start with two hidden units and try to get the regularization right. Then slowly increase the number of hidden units and continue tuning the regularization.\n",
    "4. If the training error is high, you have too much bias. If the training and testing errors are very different, you have too much variance. If the training or testing errors are jumping all over the place, your step size is too high."
   ]
  },
  {
   "cell_type": "code",
   "execution_count": 24,
   "metadata": {
    "collapsed": true
   },
   "outputs": [],
   "source": [
    "sess = tf.InteractiveSession()"
   ]
  },
  {
   "cell_type": "code",
   "execution_count": 25,
   "metadata": {
    "collapsed": true
   },
   "outputs": [],
   "source": [
    "tf.global_variables_initializer().run()"
   ]
  },
  {
   "cell_type": "code",
   "execution_count": 27,
   "metadata": {
    "collapsed": false
   },
   "outputs": [
    {
     "name": "stdout",
     "output_type": "stream",
     "text": [
      "Iteration: 0000 \t Train Loss: 0.831 \t Test Loss: 0.635\n",
      "Iteration: 1000 \t Train Loss: 0.034 \t Test Loss: 0.0325\n",
      "Iteration: 2000 \t Train Loss: 0.0305 \t Test Loss: 0.0257\n",
      "Iteration: 3000 \t Train Loss: 0.0275 \t Test Loss: 0.0255\n",
      "Iteration: 4000 \t Train Loss: 0.0236 \t Test Loss: 0.024\n",
      "Iteration: 5000 \t Train Loss: 0.018 \t Test Loss: 0.0236\n",
      "Iteration: 6000 \t Train Loss: 0.0238 \t Test Loss: 0.0236\n",
      "Iteration: 7000 \t Train Loss: 0.0238 \t Test Loss: 0.0237\n",
      "Iteration: 8000 \t Train Loss: 0.02 \t Test Loss: 0.0232\n",
      "Iteration: 9000 \t Train Loss: 0.02 \t Test Loss: 0.0237\n"
     ]
    }
   ],
   "source": [
    "for i in range(10000):\n",
    "    idx = np.random.choice(X_train.shape[0], 100, replace=True)\n",
    "    X_batch = X_train.iloc[idx, :]\n",
    "    y_batch = y_train.iloc[idx, :]\n",
    "    if i % 1000 == 0:\n",
    "        train_mse = sess.run(mse, {x: X_batch, y_: y_batch})\n",
    "        test_mse = sess.run(mse, {x: X_test, y_: y_test})\n",
    "        print 'Iteration: {:04} \\t Train Loss: {:.3} \\t Test Loss: {:.3}'.format(i, train_mse, test_mse)\n",
    "    sess.run(train_step, feed_dict = {x: X_batch, y_: y_batch})\n"
   ]
  },
  {
   "cell_type": "markdown",
   "metadata": {},
   "source": [
    "# Bonus: Add _another_ hidden layer.\n",
    "\n",
    "Can you decrease the MSE on the test set even further?"
   ]
  },
  {
   "cell_type": "code",
   "execution_count": 28,
   "metadata": {
    "collapsed": false
   },
   "outputs": [],
   "source": [
    "dim_h1 = 8\n",
    "dim_h2 = 8\n",
    "\n",
    "# input\n",
    "x = tf.placeholder(tf.float32, [None, dim_input])\n",
    "\n",
    "# target\n",
    "y_ = tf.placeholder(tf.float32, [None, 1])\n",
    "\n",
    "# Input to hidden 1\n",
    "W1 = tf.Variable(tf.random_normal([dim_input, dim_h1]))\n",
    "b1 = tf.Variable(tf.random_normal([dim_h1]))\n",
    "\n",
    "# Hidden 1 to hidden 2\n",
    "W2 = tf.Variable(tf.random_normal([dim_h1, dim_h2]))\n",
    "b2 = tf.Variable(tf.random_normal([dim_h2]))\n",
    "\n",
    "# Hidden 2 to output\n",
    "W3 = tf.Variable(tf.random_normal([dim_h2, dim_output]))\n",
    "b3 = tf.Variable(tf.random_normal([1]))\n",
    "\n",
    "# Model\n",
    "H1 = tf.nn.tanh(tf.matmul(x, W1) + b1)\n",
    "H2 = tf.nn.tanh(tf.matmul(H1, W2) + b2)\n",
    "y = tf.matmul(H2, W3) + b3\n",
    "\n",
    "# Loss\n",
    "mse = tf.reduce_mean(tf.square(y - y_))\n",
    "lam = .4\n",
    "reg = tf.reduce_mean(lam * tf.square(W1)) + \\\n",
    "    tf.reduce_mean(lam * tf.square(W2)) + \\\n",
    "    tf.reduce_mean(lam * tf.square(W3))\n",
    "loss = mse + reg\n",
    "\n",
    "# Optimizer\n",
    "train_step = tf.train.AdamOptimizer(0.0005).minimize(loss)"
   ]
  },
  {
   "cell_type": "code",
   "execution_count": 29,
   "metadata": {
    "collapsed": true
   },
   "outputs": [],
   "source": [
    "sess = tf.InteractiveSession()"
   ]
  },
  {
   "cell_type": "code",
   "execution_count": 30,
   "metadata": {
    "collapsed": true
   },
   "outputs": [],
   "source": [
    "tf.global_variables_initializer().run()"
   ]
  },
  {
   "cell_type": "code",
   "execution_count": 33,
   "metadata": {
    "collapsed": false
   },
   "outputs": [
    {
     "name": "stdout",
     "output_type": "stream",
     "text": [
      "Iteration: 0000 \t Train Loss: 0.0186 \t Test Loss: 0.0252\n",
      "Iteration: 1000 \t Train Loss: 0.0204 \t Test Loss: 0.0242\n",
      "Iteration: 2000 \t Train Loss: 0.0177 \t Test Loss: 0.0244\n",
      "Iteration: 3000 \t Train Loss: 0.0219 \t Test Loss: 0.0244\n",
      "Iteration: 4000 \t Train Loss: 0.017 \t Test Loss: 0.0246\n",
      "Iteration: 5000 \t Train Loss: 0.0223 \t Test Loss: 0.024\n",
      "Iteration: 6000 \t Train Loss: 0.0224 \t Test Loss: 0.0239\n",
      "Iteration: 7000 \t Train Loss: 0.018 \t Test Loss: 0.0243\n",
      "Iteration: 8000 \t Train Loss: 0.0162 \t Test Loss: 0.024\n",
      "Iteration: 9000 \t Train Loss: 0.0163 \t Test Loss: 0.024\n"
     ]
    }
   ],
   "source": [
    "for i in range(10000):\n",
    "    idx = np.random.choice(X_train.shape[0], 100, replace=True)\n",
    "    X_batch = X_train.iloc[idx, :]\n",
    "    y_batch = y_train.iloc[idx, :]\n",
    "    if i % 1000 == 0:\n",
    "        train_mse = sess.run(mse, {x: X_batch, y_: y_batch})\n",
    "        test_mse = sess.run(mse, {x: X_test, y_: y_test})\n",
    "        print 'Iteration: {:04} \\t Train Loss: {:.3} \\t Test Loss: {:.3}'.format(i, train_mse, test_mse)\n",
    "    sess.run(train_step, feed_dict = {x: X_batch, y_: y_batch})\n"
   ]
  },
  {
   "cell_type": "code",
   "execution_count": null,
   "metadata": {
    "collapsed": true
   },
   "outputs": [],
   "source": []
  }
 ],
 "metadata": {
  "anaconda-cloud": {},
  "kernelspec": {
   "display_name": "Python [conda root]",
   "language": "python",
   "name": "conda-root-py"
  },
  "language_info": {
   "codemirror_mode": {
    "name": "ipython",
    "version": 2
   },
   "file_extension": ".py",
   "mimetype": "text/x-python",
   "name": "python",
   "nbconvert_exporter": "python",
   "pygments_lexer": "ipython2",
   "version": "2.7.13"
  }
 },
 "nbformat": 4,
 "nbformat_minor": 1
}
