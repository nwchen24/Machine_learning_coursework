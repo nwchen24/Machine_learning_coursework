{
 "cells": [
  {
   "cell_type": "markdown",
   "metadata": {},
   "source": [
    "# Graphs"
   ]
  },
  {
   "cell_type": "markdown",
   "metadata": {},
   "source": [
    "In this notebook, you will practice using networkx to interact with a graph in Python."
   ]
  },
  {
   "cell_type": "code",
   "execution_count": 1,
   "metadata": {
    "collapsed": true
   },
   "outputs": [],
   "source": [
    "import networkx as nx\n",
    "import numpy as np\n",
    "import pandas as pd\n",
    "\n",
    "import matplotlib.pyplot as plt\n",
    "%matplotlib inline"
   ]
  },
  {
   "cell_type": "markdown",
   "metadata": {},
   "source": [
    "#### Load the IMDB actors graph"
   ]
  },
  {
   "cell_type": "markdown",
   "metadata": {},
   "source": [
    "Each actor in the IMDB database is a node. There is an edge between those two nodes if the actors have appeared in a movie together"
   ]
  },
  {
   "cell_type": "code",
   "execution_count": 2,
   "metadata": {
    "collapsed": true
   },
   "outputs": [],
   "source": [
    "G = nx.read_edgelist('data/actor_edges.tsv', delimiter='\\t')"
   ]
  },
  {
   "cell_type": "code",
   "execution_count": 3,
   "metadata": {
    "collapsed": false
   },
   "outputs": [
    {
     "name": "stdout",
     "output_type": "stream",
     "text": [
      "John Shea\tRachel Miner\r\n",
      "Eddie Martinez\tIan Duncan\r\n",
      "Concetta Tomei\tThea Gill\r\n",
      "Ashley Brightwell\tTed Myre\r\n",
      "Andre Royo\tJulianna Gabert\r\n",
      "Jessica Schwarz\tRamon Pujol\r\n",
      "Danielle Kotch\tLorraine Aceves\r\n",
      "Chantell D. Christopher\tTamela Mann\r\n",
      "Alexis Arquette\tLochlyn Munro\r\n",
      "Demi Petersen\tTalon G. Ackerman\r\n"
     ]
    }
   ],
   "source": [
    "!head data/actor_edges.tsv"
   ]
  },
  {
   "cell_type": "markdown",
   "metadata": {},
   "source": [
    "Total number of nodes (actors)"
   ]
  },
  {
   "cell_type": "code",
   "execution_count": 4,
   "metadata": {
    "collapsed": false
   },
   "outputs": [
    {
     "data": {
      "text/plain": [
       "80249"
      ]
     },
     "execution_count": 4,
     "metadata": {},
     "output_type": "execute_result"
    }
   ],
   "source": [
    "G.number_of_nodes()"
   ]
  },
  {
   "cell_type": "markdown",
   "metadata": {},
   "source": [
    "Total number of edges"
   ]
  },
  {
   "cell_type": "code",
   "execution_count": 5,
   "metadata": {
    "collapsed": false
   },
   "outputs": [
    {
     "data": {
      "text/plain": [
       "1332443"
      ]
     },
     "execution_count": 5,
     "metadata": {},
     "output_type": "execute_result"
    }
   ],
   "source": [
    "G.number_of_edges()"
   ]
  },
  {
   "cell_type": "markdown",
   "metadata": {},
   "source": [
    "Take a look at the notes and edges"
   ]
  },
  {
   "cell_type": "code",
   "execution_count": 6,
   "metadata": {
    "collapsed": false
   },
   "outputs": [
    {
     "data": {
      "text/plain": [
       "[u'Alex Zahara',\n",
       " u'Sam Saliba',\n",
       " u'Chellis Glendinning',\n",
       " u'Zamariah Zane Loupe',\n",
       " u'John Eatherly',\n",
       " u'John Dartt',\n",
       " u'Omid Djalili',\n",
       " u'Jacki Weaver',\n",
       " u'Kim LeBlanc',\n",
       " u'Dan Finnerty',\n",
       " u'Kyrrin Marshall',\n",
       " u'Negar Saberi',\n",
       " u'Barry Sigismondi',\n",
       " u'Richard Holden',\n",
       " u'Dale Mattison']"
      ]
     },
     "execution_count": 6,
     "metadata": {},
     "output_type": "execute_result"
    }
   ],
   "source": [
    "G.nodes()[:15]"
   ]
  },
  {
   "cell_type": "code",
   "execution_count": 7,
   "metadata": {
    "collapsed": false
   },
   "outputs": [
    {
     "data": {
      "text/plain": [
       "[(u'Alex Zahara', u'Valin Shinyei'),\n",
       " (u'Alex Zahara', u'Aleks Paunovic'),\n",
       " (u'Alex Zahara', u'Tiera Skovbye'),\n",
       " (u'Alex Zahara', u'Christa Campbell'),\n",
       " (u'Alex Zahara', u'Kansas Joe McCoy'),\n",
       " (u'Alex Zahara', u'Steph DuVall'),\n",
       " (u'Alex Zahara', u'Kaj-Erik Eriksen'),\n",
       " (u'Alex Zahara', u'Rio Alexander'),\n",
       " (u'Alex Zahara', u'Arron Shiver'),\n",
       " (u'Alex Zahara', u'Laine MacNeil'),\n",
       " (u'Alex Zahara', u'Mark McConchie'),\n",
       " (u'Alex Zahara', u'Andee Frizzell'),\n",
       " (u'Alex Zahara', u'Paralee Cook'),\n",
       " (u'Alex Zahara', u'William McDonald'),\n",
       " (u'Alex Zahara', u'Stacey Travis')]"
      ]
     },
     "execution_count": 7,
     "metadata": {},
     "output_type": "execute_result"
    }
   ],
   "source": [
    "G.edges()[:15]"
   ]
  },
  {
   "cell_type": "markdown",
   "metadata": {},
   "source": [
    "Neighborhood of John Goodman"
   ]
  },
  {
   "cell_type": "code",
   "execution_count": 10,
   "metadata": {
    "collapsed": false
   },
   "outputs": [
    {
     "data": {
      "text/plain": [
       "550"
      ]
     },
     "execution_count": 10,
     "metadata": {},
     "output_type": "execute_result"
    }
   ],
   "source": [
    "len(nx.neighbors(G, 'John Goodman'))"
   ]
  },
  {
   "cell_type": "markdown",
   "metadata": {},
   "source": [
    "Shortest path between two actors"
   ]
  },
  {
   "cell_type": "code",
   "execution_count": 11,
   "metadata": {
    "collapsed": false
   },
   "outputs": [
    {
     "data": {
      "text/plain": [
       "['John Goodman', u'Alex Borstein', 'Paul Rudd']"
      ]
     },
     "execution_count": 11,
     "metadata": {},
     "output_type": "execute_result"
    }
   ],
   "source": [
    "nx.shortest_path(G, 'John Goodman', 'Paul Rudd')"
   ]
  },
  {
   "cell_type": "markdown",
   "metadata": {},
   "source": [
    "All of the shortest paths"
   ]
  },
  {
   "cell_type": "code",
   "execution_count": 14,
   "metadata": {
    "collapsed": false
   },
   "outputs": [
    {
     "name": "stdout",
     "output_type": "stream",
     "text": [
      "['John Goodman', u'Alex Borstein', 'Paul Rudd']\n",
      "['John Goodman', u'Seann William Scott', 'Paul Rudd']\n",
      "['John Goodman', u'Zach Galifianakis', 'Paul Rudd']\n",
      "['John Goodman', u'Justin Long', 'Paul Rudd']\n",
      "['John Goodman', u'Tracey Ullman', 'Paul Rudd']\n",
      "['John Goodman', u'Owen Wilson', 'Paul Rudd']\n",
      "['John Goodman', u'Fred Armisen', 'Paul Rudd']\n",
      "['John Goodman', u'Ron Silver', 'Paul Rudd']\n",
      "['John Goodman', u'Rhoda Griffis', 'Paul Rudd']\n",
      "['John Goodman', u'Nicholas Braun', 'Paul Rudd']\n",
      "['John Goodman', u'Johnny Simmons', 'Paul Rudd']\n",
      "['John Goodman', u'Octavia Spencer', 'Paul Rudd']\n",
      "['John Goodman', u'Steve Carell', 'Paul Rudd']\n",
      "['John Goodman', u'Ren?e Zellweger', 'Paul Rudd']\n",
      "['John Goodman', u'Joan Cusack', 'Paul Rudd']\n",
      "['John Goodman', u'Lauren Graham', 'Paul Rudd']\n",
      "['John Goodman', u'Emile Hirsch', 'Paul Rudd']\n",
      "['John Goodman', u'Ray Liotta', 'Paul Rudd']\n",
      "['John Goodman', u'Ken Jeong', 'Paul Rudd']\n",
      "['John Goodman', u'Hugh Dancy', 'Paul Rudd']\n",
      "['John Goodman', u'Bruce Greenwood', 'Paul Rudd']\n",
      "['John Goodman', u'Stephen Root', 'Paul Rudd']\n",
      "['John Goodman', u'Jonah Hill', 'Paul Rudd']\n",
      "['John Goodman', u'Amy Adams', 'Paul Rudd']\n",
      "['John Goodman', u'Leslie Mann', 'Paul Rudd']\n",
      "['John Goodman', u'Patricia French', 'Paul Rudd']\n",
      "['John Goodman', u'Danny DeVito', 'Paul Rudd']\n",
      "['John Goodman', u'B. J. Novak', 'Paul Rudd']\n",
      "['John Goodman', u'Christopher Mintz-Plasse', 'Paul Rudd']\n",
      "['John Goodman', u'Matthew Glave', 'Paul Rudd']\n",
      "['John Goodman', u'Zooey Deschanel', 'Paul Rudd']\n",
      "['John Goodman', u'Vince Vaughn', 'Paul Rudd']\n",
      "['John Goodman', u'Peter Hermann', 'Paul Rudd']\n",
      "['John Goodman', u'Keith David', 'Paul Rudd']\n"
     ]
    }
   ],
   "source": [
    "paths = nx.shortest_paths.all_shortest_paths(G, 'John Goodman', 'Paul Rudd')\n",
    "for path in paths:\n",
    "    print path"
   ]
  },
  {
   "cell_type": "markdown",
   "metadata": {},
   "source": [
    "#### Exercise\n",
    "\n",
    "Make a histogram of the degree distribution of this graph. Does it match any of the distributions discussed in the async?"
   ]
  },
  {
   "cell_type": "code",
   "execution_count": 15,
   "metadata": {
    "collapsed": false
   },
   "outputs": [
    {
     "data": {
      "image/png": "[encoded data removed]",
      "text/plain": [
       "<matplotlib.figure.Figure at 0x10fdf5fd0>"
      ]
     },
     "metadata": {},
     "output_type": "display_data"
    }
   ],
   "source": [
    "degs = pd.Series(nx.degree(G))\n",
    "degs.hist(bins=100)\n",
    "plt.xlim(0, 400)\n",
    "plt.show()"
   ]
  },
  {
   "cell_type": "markdown",
   "metadata": {},
   "source": [
    "#### Exercise\n",
    "\n",
    "Which actor has the highest degree centrality?"
   ]
  },
  {
   "cell_type": "code",
   "execution_count": 16,
   "metadata": {
    "collapsed": false
   },
   "outputs": [
    {
     "data": {
      "text/plain": [
       "Danny Trejo       1067\n",
       "Richard Riehle     829\n",
       "Keith David        813\n",
       "Tom Arnold         799\n",
       "Eric Roberts       777\n",
       "dtype: int64"
      ]
     },
     "execution_count": 16,
     "metadata": {},
     "output_type": "execute_result"
    }
   ],
   "source": [
    "degs.sort_values(ascending=False).head()"
   ]
  },
  {
   "cell_type": "markdown",
   "metadata": {},
   "source": [
    "#### Exercise\n",
    "\n",
    "How many connected components are there?"
   ]
  },
  {
   "cell_type": "code",
   "execution_count": 17,
   "metadata": {
    "collapsed": false
   },
   "outputs": [
    {
     "data": {
      "text/plain": [
       "1390"
      ]
     },
     "execution_count": 17,
     "metadata": {},
     "output_type": "execute_result"
    }
   ],
   "source": [
    "nx.number_connected_components(G)"
   ]
  },
  {
   "cell_type": "markdown",
   "metadata": {},
   "source": [
    "#### Exercise\n",
    "\n",
    "Make a histogram of the sizes of the connected components. (Try removing the first component for better results)"
   ]
  },
  {
   "cell_type": "code",
   "execution_count": 18,
   "metadata": {
    "collapsed": false
   },
   "outputs": [
    {
     "data": {
      "text/plain": [
       "<matplotlib.axes._subplots.AxesSubplot at 0x138236310>"
      ]
     },
     "execution_count": 18,
     "metadata": {},
     "output_type": "execute_result"
    },
    {
     "data": {
      "image/png": "[encoded data removed]",
      "text/plain": [
       "<matplotlib.figure.Figure at 0x104e64290>"
      ]
     },
     "metadata": {},
     "output_type": "display_data"
    }
   ],
   "source": [
    "components = nx.connected_components(G)\n",
    "\n",
    "sizes = []\n",
    "for comp in components:\n",
    "    sizes.append(len(comp))\n",
    "\n",
    "pd.Series(sizes).hist(bins=50)"
   ]
  },
  {
   "cell_type": "code",
   "execution_count": 19,
   "metadata": {
    "collapsed": false
   },
   "outputs": [
    {
     "data": {
      "text/plain": [
       "<matplotlib.axes._subplots.AxesSubplot at 0x137c80ed0>"
      ]
     },
     "execution_count": 19,
     "metadata": {},
     "output_type": "execute_result"
    },
    {
     "data": {
      "image/png": "[encoded data removed]",
      "text/plain": [
       "<matplotlib.figure.Figure at 0x137e89f10>"
      ]
     },
     "metadata": {},
     "output_type": "display_data"
    }
   ],
   "source": [
    "pd.Series(sizes)[1:].hist(bins=50)"
   ]
  },
  {
   "cell_type": "markdown",
   "metadata": {},
   "source": [
    "For the remainder of the problems, work with a subset of the original graph"
   ]
  },
  {
   "cell_type": "code",
   "execution_count": null,
   "metadata": {
    "collapsed": true
   },
   "outputs": [],
   "source": [
    "smallG = nx.read_edgelist('data/small_actor_edges.tsv', delimiter='\\t')"
   ]
  },
  {
   "cell_type": "code",
   "execution_count": null,
   "metadata": {
    "collapsed": false
   },
   "outputs": [],
   "source": [
    "smallG.number_of_edges()"
   ]
  },
  {
   "cell_type": "code",
   "execution_count": null,
   "metadata": {
    "collapsed": false
   },
   "outputs": [],
   "source": [
    "smallG.number_of_nodes()"
   ]
  },
  {
   "cell_type": "markdown",
   "metadata": {},
   "source": [
    "#### Exercise\n",
    "\n",
    "How many connected components are there in this graph?"
   ]
  },
  {
   "cell_type": "code",
   "execution_count": null,
   "metadata": {
    "collapsed": false
   },
   "outputs": [],
   "source": []
  },
  {
   "cell_type": "markdown",
   "metadata": {},
   "source": [
    "#### Exercise\n",
    "\n",
    "Find the most important actor in this subgroup according to each of the following centrality measures:\n",
    "- Degree\n",
    "- Betweenness\n",
    "- Eigenvector\n",
    "- Pagerank"
   ]
  },
  {
   "cell_type": "code",
   "execution_count": null,
   "metadata": {
    "collapsed": true
   },
   "outputs": [],
   "source": []
  },
  {
   "cell_type": "code",
   "execution_count": null,
   "metadata": {
    "collapsed": false
   },
   "outputs": [],
   "source": []
  },
  {
   "cell_type": "markdown",
   "metadata": {},
   "source": [
    "#### Exercise\n",
    "\n",
    "Compare the ranks of some of the top actors. That is, make a table with one row for each actor and one column for each centrality measure. The values should be the relative rank of the each actor according to that centrality measure. Hint: http://pandas.pydata.org/pandas-docs/stable/generated/pandas.Series.rank.html"
   ]
  },
  {
   "cell_type": "code",
   "execution_count": null,
   "metadata": {
    "collapsed": true
   },
   "outputs": [],
   "source": []
  },
  {
   "cell_type": "code",
   "execution_count": null,
   "metadata": {
    "collapsed": false
   },
   "outputs": [],
   "source": []
  },
  {
   "cell_type": "markdown",
   "metadata": {},
   "source": [
    "#### Exercise\n",
    "\n",
    "Community detection is like clustering for graphs. There's lots of approaches, and we won't go into the details here. \n",
    "\n",
    "One good approach seems to be the [Louvain Method](https://www.quora.com/Is-there-a-simple-explanation-of-the-Louvain-Method-of-community-detection). It is implemented in the [community](https://github.com/taynaud/python-louvain) package in Python.\n",
    "\n",
    "Once you get it installed, try using the `best_partition` method to apply the Louvain Method for community detection\n"
   ]
  },
  {
   "cell_type": "code",
   "execution_count": null,
   "metadata": {
    "collapsed": false
   },
   "outputs": [],
   "source": []
  },
  {
   "cell_type": "markdown",
   "metadata": {},
   "source": [
    "#### Exercise\n",
    "\n",
    "See if you can find the most important actors in each community. Do you recognize any of the communities?\n",
    "\n",
    "Hint: Use nx.subgraph to create a sub-graph from each community"
   ]
  },
  {
   "cell_type": "code",
   "execution_count": null,
   "metadata": {
    "collapsed": false
   },
   "outputs": [],
   "source": []
  },
  {
   "cell_type": "markdown",
   "metadata": {},
   "source": [
    "#### Exercise\n",
    "\n",
    "Pick one of the communities you found above and plot the network using the code below"
   ]
  },
  {
   "cell_type": "code",
   "execution_count": null,
   "metadata": {
    "collapsed": true
   },
   "outputs": [],
   "source": []
  },
  {
   "cell_type": "code",
   "execution_count": null,
   "metadata": {
    "collapsed": false
   },
   "outputs": [],
   "source": [
    "plt.figure(figsize=(12,12))\n",
    "\n",
    "# Pick a node layout\n",
    "# node_position = nx.fruchterman_reingold_layout(subG)\n",
    "# node_position = nx.spring_layout(subG)\n",
    "node_position = nx.random_layout(subG)\n",
    "# node_position = nx.circular_layout(subG)\n",
    "# node_position = nx.spectral_layout(subG)\n",
    "# node_position = nx.shell_layout(subG)\n",
    "\n",
    "nx.draw_networkx_nodes(subG, node_position, node_size=100, alpha=.8)\n",
    "nx.draw_networkx_edges(subG, node_position, alpha=.1)\n",
    "nx.draw_networkx_labels(subG, node_position)\n",
    "\n",
    "plt.show()"
   ]
  },
  {
   "cell_type": "markdown",
   "metadata": {},
   "source": [
    "You can experiment with the node layouts, but none of them are really satisfactory. A better approach is to use a graph visualization tool like [gephi](https://gephi.org/)"
   ]
  },
  {
   "cell_type": "code",
   "execution_count": null,
   "metadata": {
    "collapsed": true
   },
   "outputs": [],
   "source": [
    "nx.write_gml(subG, 'my_community.gml')"
   ]
  },
  {
   "cell_type": "markdown",
   "metadata": {},
   "source": [
    "Here's a few steps to get started\n",
    "\n",
    "1. Open the gml file in gephi\n",
    "2. Use the Layout tab and choose Force Atlas as the layout. Adjust the repulsion strength until the nodes are sufficiently spread apart. More densely connected nodes should be near the center.\n",
    "3. Add the labels by clicking the T in the lower left hand corner.\n",
    "4. Use the statistics tab to calculate eigenvector centrality, pagerank, and anything else you're interested in.\n",
    "5. Use the appearance tab to scale the text color/size according to various centrality measures.\n",
    "6. Keep experimenting!"
   ]
  },
  {
   "cell_type": "markdown",
   "metadata": {},
   "source": [
    "#### Extra Credit\n",
    "\n",
    "How many actors are connected to Kevin Bacon, but by more than six degrees?"
   ]
  },
  {
   "cell_type": "code",
   "execution_count": null,
   "metadata": {
    "collapsed": false
   },
   "outputs": [],
   "source": [
    "G = nx.read_edgelist('data/actor_edges.tsv', delimiter='\\t')"
   ]
  },
  {
   "cell_type": "code",
   "execution_count": null,
   "metadata": {
    "collapsed": true
   },
   "outputs": [],
   "source": []
  }
 ],
 "metadata": {
  "kernelspec": {
   "display_name": "Python [conda root]",
   "language": "python",
   "name": "conda-root-py"
  },
  "language_info": {
   "codemirror_mode": {
    "name": "ipython",
    "version": 2
   },
   "file_extension": ".py",
   "mimetype": "text/x-python",
   "name": "python",
   "nbconvert_exporter": "python",
   "pygments_lexer": "ipython2",
   "version": "2.7.13"
  }
 },
 "nbformat": 4,
 "nbformat_minor": 2
}
